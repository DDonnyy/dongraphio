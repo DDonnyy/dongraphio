{
 "cells": [
  {
   "cell_type": "code",
   "execution_count": 2,
   "id": "initial_id",
   "metadata": {
    "collapsed": true,
    "ExecuteTime": {
     "end_time": "2024-03-13T12:15:14.989016100Z",
     "start_time": "2024-03-13T12:07:02.690196100Z"
    }
   },
   "outputs": [
    {
     "name": "stderr",
     "output_type": "stream",
     "text": [
      "\u001B[32m2024-03-13 15:07:03.922\u001B[0m | \u001B[34m\u001B[1mDEBUG   \u001B[0m | \u001B[36msrc.dongraphio.utils.graphs\u001B[0m:\u001B[36mget_osmnx_graph\u001B[0m:\u001B[36m54\u001B[0m - \u001B[34m\u001B[1mExtracting and preparing drive graph from OSM ...\u001B[0m\n",
      "C:\\Users\\Donny\\AppData\\Local\\pypoetry\\Cache\\virtualenvs\\graph-lib-8TUFT-q0-py3.11\\Lib\\site-packages\\osmnx\\_overpass.py:211: UserWarning: This area is 51 times your configured Overpass max query area size. It will automatically be divided up into multiple sub-queries accordingly. This may take a long time.\n",
      "  multi_poly_proj = utils_geo._consolidate_subdivide_geometry(poly_proj)\n"
     ]
    },
    {
     "data": {
      "text/plain": "Collecting drive graph:   0%|          | 0/257345 [00:00<?, ?it/s]",
      "application/vnd.jupyter.widget-view+json": {
       "version_major": 2,
       "version_minor": 0,
       "model_id": "81dc05287a964e3c911ee1e963bbadb7"
      }
     },
     "metadata": {},
     "output_type": "display_data"
    }
   ],
   "source": [
    "from shapely import from_wkt\n",
    "import networkx as nx\n",
    "import osmnx as ox\n",
    "from src.dongraphio.utils.graphs import get_osmnx_graph\n",
    "\n",
    "G_drive: nx.MultiDiGraph = get_osmnx_graph(\n",
    "    176095, 32636, \"drive\"\n",
    ")\n",
    "nx.write_graphml(G_drive, \"len_obl_graph.graphml\")\n",
    "for i in G_drive.edges(data=True):\n",
    "    i[2]['geometry'] = from_wkt(str(i[2]['geometry']))\n",
    "gdf = ox.graph_to_gdfs(G_drive, nodes=False)\n",
    "gdf.to_file(\"len_obl_graph.geojson\")"
   ]
  },
  {
   "cell_type": "markdown",
   "source": [],
   "metadata": {
    "collapsed": false
   },
   "id": "3ac0a87acdb00584"
  },
  {
   "cell_type": "code",
   "execution_count": 5,
   "outputs": [],
   "source": [
    "G_drive_c = G_drive.copy()\n",
    "for i in G_drive_c.edges(data=True):\n",
    "    i[2]['geometry'] = (str(i[2]['geometry']))\n",
    "nx.write_graphml(G_drive_c, \"len_obl_graph.graphml\")"
   ],
   "metadata": {
    "collapsed": false,
    "ExecuteTime": {
     "end_time": "2024-03-11T17:19:39.324916800Z",
     "start_time": "2024-03-11T17:19:28.456914Z"
    }
   },
   "id": "dd0634f05ba7fa05"
  },
  {
   "cell_type": "code",
   "execution_count": 1,
   "outputs": [
    {
     "data": {
      "text/plain": "                 name                                              route  \\\n0             Дусьево  593,593/596,847,856,860,860Л,864,865,865Д,867,...   \n1                None                                                247   \n2     Горная Шальдиха                            588,589,590,593,593/594   \n3            Мучихино                                                590   \n4          Васильково                                                590   \n...               ...                                                ...   \n8386     \\nЗаостровье                                                 94   \n8387     \\nЗаостровье                                                 94   \n8388            Горка                                                 94   \n8389    Новая Слобода                                             89А,91   \n8390    Новая Слобода                                             89А,91   \n\n                       geometry  \n0     POINT (31.72832 59.93558)  \n1     POINT (32.44568 59.28601)  \n2     POINT (31.46034 59.87465)  \n3     POINT (31.52410 59.86666)  \n4     POINT (31.58237 59.87627)  \n...                         ...  \n8386  POINT (33.27731 60.62779)  \n8387  POINT (33.27741 60.62765)  \n8388  POINT (33.22445 60.63948)  \n8389  POINT (33.33512 60.78394)  \n8390  POINT (33.33485 60.78537)  \n\n[7554 rows x 3 columns]",
      "text/html": "<div>\n<style scoped>\n    .dataframe tbody tr th:only-of-type {\n        vertical-align: middle;\n    }\n\n    .dataframe tbody tr th {\n        vertical-align: top;\n    }\n\n    .dataframe thead th {\n        text-align: right;\n    }\n</style>\n<table border=\"1\" class=\"dataframe\">\n  <thead>\n    <tr style=\"text-align: right;\">\n      <th></th>\n      <th>name</th>\n      <th>route</th>\n      <th>geometry</th>\n    </tr>\n  </thead>\n  <tbody>\n    <tr>\n      <th>0</th>\n      <td>Дусьево</td>\n      <td>593,593/596,847,856,860,860Л,864,865,865Д,867,...</td>\n      <td>POINT (31.72832 59.93558)</td>\n    </tr>\n    <tr>\n      <th>1</th>\n      <td>None</td>\n      <td>247</td>\n      <td>POINT (32.44568 59.28601)</td>\n    </tr>\n    <tr>\n      <th>2</th>\n      <td>Горная Шальдиха</td>\n      <td>588,589,590,593,593/594</td>\n      <td>POINT (31.46034 59.87465)</td>\n    </tr>\n    <tr>\n      <th>3</th>\n      <td>Мучихино</td>\n      <td>590</td>\n      <td>POINT (31.52410 59.86666)</td>\n    </tr>\n    <tr>\n      <th>4</th>\n      <td>Васильково</td>\n      <td>590</td>\n      <td>POINT (31.58237 59.87627)</td>\n    </tr>\n    <tr>\n      <th>...</th>\n      <td>...</td>\n      <td>...</td>\n      <td>...</td>\n    </tr>\n    <tr>\n      <th>8386</th>\n      <td>\\nЗаостровье</td>\n      <td>94</td>\n      <td>POINT (33.27731 60.62779)</td>\n    </tr>\n    <tr>\n      <th>8387</th>\n      <td>\\nЗаостровье</td>\n      <td>94</td>\n      <td>POINT (33.27741 60.62765)</td>\n    </tr>\n    <tr>\n      <th>8388</th>\n      <td>Горка</td>\n      <td>94</td>\n      <td>POINT (33.22445 60.63948)</td>\n    </tr>\n    <tr>\n      <th>8389</th>\n      <td>Новая Слобода</td>\n      <td>89А,91</td>\n      <td>POINT (33.33512 60.78394)</td>\n    </tr>\n    <tr>\n      <th>8390</th>\n      <td>Новая Слобода</td>\n      <td>89А,91</td>\n      <td>POINT (33.33485 60.78537)</td>\n    </tr>\n  </tbody>\n</table>\n<p>7554 rows × 3 columns</p>\n</div>"
     },
     "execution_count": 1,
     "metadata": {},
     "output_type": "execute_result"
    }
   ],
   "source": [
    "import geopandas as gpd\n",
    "\n",
    "stops_gdf = gpd.read_file(\"stopsLO.geojson\")\n",
    "stops_gdf.rename(columns={\"Автоб\": \"route\"}, inplace=True)\n",
    "stops_gdf.dropna(subset=\"route\", axis=0, inplace=True, how=\"any\")\n",
    "stops_gdf\n"
   ],
   "metadata": {
    "collapsed": false,
    "ExecuteTime": {
     "end_time": "2024-03-13T13:10:00.352752Z",
     "start_time": "2024-03-13T13:09:51.536974100Z"
    }
   },
   "id": "69ca0ab643122765"
  },
  {
   "cell_type": "code",
   "execution_count": 2,
   "outputs": [
    {
     "data": {
      "text/plain": "                                                      geometry\n596А         [POINT (30.5129796 59.903835), POINT (30.51203...\n79/77        [POINT (28.7021229 59.4006375), POINT (28.7004...\n205 Красный  [POINT (30.461842 60.0473808), POINT (30.46284...\n151а/151     [POINT (33.5536502 59.6433943), POINT (33.5772...\n76Б          [POINT (28.7021229 59.4006375), POINT (28.7004...\n...                                                        ...\n348          [POINT (29.93926291249601 59.834758554893504),...\n32Б          [POINT (29.5023117 59.4695373), POINT (29.5017...\n12а          [POINT (33.515119 59.6454752), POINT (33.49522...\n481          [POINT (30.1444949 59.7893016), POINT (30.1432...\n73А          [POINT (28.5614882 59.3793053), POINT (28.5632...\n\n[593 rows x 1 columns]",
      "text/html": "<div>\n<style scoped>\n    .dataframe tbody tr th:only-of-type {\n        vertical-align: middle;\n    }\n\n    .dataframe tbody tr th {\n        vertical-align: top;\n    }\n\n    .dataframe thead th {\n        text-align: right;\n    }\n</style>\n<table border=\"1\" class=\"dataframe\">\n  <thead>\n    <tr style=\"text-align: right;\">\n      <th></th>\n      <th>geometry</th>\n    </tr>\n  </thead>\n  <tbody>\n    <tr>\n      <th>596А</th>\n      <td>[POINT (30.5129796 59.903835), POINT (30.51203...</td>\n    </tr>\n    <tr>\n      <th>79/77</th>\n      <td>[POINT (28.7021229 59.4006375), POINT (28.7004...</td>\n    </tr>\n    <tr>\n      <th>205 Красный</th>\n      <td>[POINT (30.461842 60.0473808), POINT (30.46284...</td>\n    </tr>\n    <tr>\n      <th>151а/151</th>\n      <td>[POINT (33.5536502 59.6433943), POINT (33.5772...</td>\n    </tr>\n    <tr>\n      <th>76Б</th>\n      <td>[POINT (28.7021229 59.4006375), POINT (28.7004...</td>\n    </tr>\n    <tr>\n      <th>...</th>\n      <td>...</td>\n    </tr>\n    <tr>\n      <th>348</th>\n      <td>[POINT (29.93926291249601 59.834758554893504),...</td>\n    </tr>\n    <tr>\n      <th>32Б</th>\n      <td>[POINT (29.5023117 59.4695373), POINT (29.5017...</td>\n    </tr>\n    <tr>\n      <th>12а</th>\n      <td>[POINT (33.515119 59.6454752), POINT (33.49522...</td>\n    </tr>\n    <tr>\n      <th>481</th>\n      <td>[POINT (30.1444949 59.7893016), POINT (30.1432...</td>\n    </tr>\n    <tr>\n      <th>73А</th>\n      <td>[POINT (28.5614882 59.3793053), POINT (28.5632...</td>\n    </tr>\n  </tbody>\n</table>\n<p>593 rows × 1 columns</p>\n</div>"
     },
     "execution_count": 2,
     "metadata": {},
     "output_type": "execute_result"
    }
   ],
   "source": [
    "import pandas as pd\n",
    "from tqdm.auto import tqdm\n",
    "\n",
    "tqdm.pandas()\n",
    "unique_routes = set()\n",
    "for index, row in (stops_gdf.iterrows()):\n",
    "    for i in str(row[\"route\"]).replace('.', ',').rstrip().lstrip().split(\",\"):\n",
    "        if i != \"\":\n",
    "            unique_routes.add(i.lstrip().rstrip())\n",
    "unique_routes = pd.DataFrame(index=list(unique_routes))\n",
    "unique_routes[\"geometry\"] = [[]] * len(unique_routes)\n",
    "for index, row in (stops_gdf.iterrows()):\n",
    "    for i in str(row[\"route\"]).replace('.', ',').rstrip().lstrip().split(\",\"):\n",
    "        if i != \"\":\n",
    "            unique_routes.loc[i.lstrip().rstrip(), \"geometry\"] = unique_routes.loc[i.lstrip().rstrip()][\"geometry\"] + [\n",
    "                row[\"geometry\"]]\n",
    "\n",
    "unique_routes"
   ],
   "metadata": {
    "collapsed": false,
    "ExecuteTime": {
     "end_time": "2024-03-13T13:10:23.931423Z",
     "start_time": "2024-03-13T13:10:00.360754500Z"
    }
   },
   "id": "44af58c9274d7e08"
  },
  {
   "cell_type": "code",
   "execution_count": 3,
   "outputs": [],
   "source": [
    "from sklearn.cluster import KMeans\n",
    "from sklearn.metrics import silhouette_score\n",
    "import numpy as np\n",
    "from shapely import Point\n",
    "\n",
    "\n",
    "def clusterize(loc) -> pd.DataFrame:\n",
    "    data = np.array([[p.x, p.y] for p in loc[\"geometry\"]])\n",
    "    noise = np.array([31.212390, 58.611219])\n",
    "    data = np.append(data, [noise], axis=0)\n",
    "\n",
    "    best_silhouette = -1\n",
    "    best_labels = None\n",
    "    k_values = range(2, 10 if len(data) > 10 else 2)\n",
    "\n",
    "    for k in k_values:\n",
    "        kmeans = KMeans(n_clusters=k)\n",
    "        kmeans.fit(data)\n",
    "        labels = kmeans.labels_\n",
    "        silhouette = silhouette_score(data, labels)\n",
    "        if silhouette > best_silhouette:\n",
    "            best_silhouette = silhouette\n",
    "            best_labels = labels\n",
    "\n",
    "    data = data[:-1]\n",
    "    if best_labels is not None:\n",
    "        best_labels = best_labels[:-1]\n",
    "\n",
    "    if best_silhouette < 0.93:\n",
    "        best_labels = [0 for _ in range(0, len(data))]\n",
    "    data = pd.DataFrame({\n",
    "        'label': best_labels,\n",
    "        'geometry': [Point(p[0], p[1]) for p in data]\n",
    "    })\n",
    "    grouped_data = data.groupby('label')['geometry'].apply(list)\n",
    "    grouped_data = pd.DataFrame(grouped_data)\n",
    "    grouped_data.index = grouped_data.index + 1\n",
    "    return grouped_data\n",
    "\n"
   ],
   "metadata": {
    "collapsed": false,
    "ExecuteTime": {
     "end_time": "2024-03-13T13:10:26.437945500Z",
     "start_time": "2024-03-13T13:10:23.929421900Z"
    }
   },
   "id": "acca95ddfe2b475"
  },
  {
   "cell_type": "code",
   "execution_count": 4,
   "outputs": [
    {
     "data": {
      "text/plain": "  0%|          | 0/593 [00:00<?, ?it/s]",
      "application/vnd.jupyter.widget-view+json": {
       "version_major": 2,
       "version_minor": 0,
       "model_id": "d2d16086818d49c091d89fd1d73c0ee1"
      }
     },
     "metadata": {},
     "output_type": "display_data"
    },
    {
     "data": {
      "text/plain": "                                                 geometry\nlabel                                                    \n9__1    [POINT (32.0151585 59.4556927), POINT (32.0151...\n9__2    [POINT (29.0938556 59.9105085), POINT (29.0855...\n6__1    [POINT (30.68372754798385 59.99380010324972), ...\n6__2    [POINT (34.2174528 60.9123698), POINT (34.2251...\n6__3    [POINT (28.6217408 59.3642358), POINT (28.6330...\n...                                                   ...\n107__2  [POINT (28.098742562071617 59.12618473418365),...\n95__1   [POINT (28.0530789 59.0627202), POINT (28.0547...\n95__2   [POINT (33.5826273 60.7344281), POINT (33.5820...\n28__1   [POINT (32.319827158230765 59.92887468138372),...\n28__2   [POINT (30.08645112859504 59.56957765642285), ...\n\n[146 rows x 1 columns]",
      "text/html": "<div>\n<style scoped>\n    .dataframe tbody tr th:only-of-type {\n        vertical-align: middle;\n    }\n\n    .dataframe tbody tr th {\n        vertical-align: top;\n    }\n\n    .dataframe thead th {\n        text-align: right;\n    }\n</style>\n<table border=\"1\" class=\"dataframe\">\n  <thead>\n    <tr style=\"text-align: right;\">\n      <th></th>\n      <th>geometry</th>\n    </tr>\n    <tr>\n      <th>label</th>\n      <th></th>\n    </tr>\n  </thead>\n  <tbody>\n    <tr>\n      <th>9__1</th>\n      <td>[POINT (32.0151585 59.4556927), POINT (32.0151...</td>\n    </tr>\n    <tr>\n      <th>9__2</th>\n      <td>[POINT (29.0938556 59.9105085), POINT (29.0855...</td>\n    </tr>\n    <tr>\n      <th>6__1</th>\n      <td>[POINT (30.68372754798385 59.99380010324972), ...</td>\n    </tr>\n    <tr>\n      <th>6__2</th>\n      <td>[POINT (34.2174528 60.9123698), POINT (34.2251...</td>\n    </tr>\n    <tr>\n      <th>6__3</th>\n      <td>[POINT (28.6217408 59.3642358), POINT (28.6330...</td>\n    </tr>\n    <tr>\n      <th>...</th>\n      <td>...</td>\n    </tr>\n    <tr>\n      <th>107__2</th>\n      <td>[POINT (28.098742562071617 59.12618473418365),...</td>\n    </tr>\n    <tr>\n      <th>95__1</th>\n      <td>[POINT (28.0530789 59.0627202), POINT (28.0547...</td>\n    </tr>\n    <tr>\n      <th>95__2</th>\n      <td>[POINT (33.5826273 60.7344281), POINT (33.5820...</td>\n    </tr>\n    <tr>\n      <th>28__1</th>\n      <td>[POINT (32.319827158230765 59.92887468138372),...</td>\n    </tr>\n    <tr>\n      <th>28__2</th>\n      <td>[POINT (30.08645112859504 59.56957765642285), ...</td>\n    </tr>\n  </tbody>\n</table>\n<p>146 rows × 1 columns</p>\n</div>"
     },
     "execution_count": 4,
     "metadata": {},
     "output_type": "execute_result"
    }
   ],
   "source": [
    "devided_routes = pd.DataFrame()\n",
    "basic_routes = pd.DataFrame()\n",
    "for index, row in tqdm(unique_routes.iterrows(), total=unique_routes.shape[0]):\n",
    "    clusterized = clusterize(row)\n",
    "    if clusterized.shape[0] > 1:\n",
    "        clusterized.index = index + \"__\" + clusterized.index.astype(str)\n",
    "        devided_routes = pd.concat([devided_routes, clusterized])\n",
    "    else:\n",
    "        clusterized.index = [index]\n",
    "        basic_routes = pd.concat([basic_routes, clusterized])\n",
    "devided_routes"
   ],
   "metadata": {
    "collapsed": false,
    "ExecuteTime": {
     "end_time": "2024-03-13T13:11:29.988659400Z",
     "start_time": "2024-03-13T13:10:26.441940600Z"
    }
   },
   "id": "e6f213ae6a237643"
  },
  {
   "cell_type": "code",
   "execution_count": 5,
   "outputs": [
    {
     "data": {
      "text/plain": "   label                   geometry\n0   1__1  POINT (29.84695 58.71778)\n1   1__1  POINT (29.84646 58.72545)\n2   1__1  POINT (29.84644 58.72463)\n3   1__1  POINT (29.84296 58.72715)\n4   1__1  POINT (29.84783 58.72845)\n5   1__1  POINT (29.84985 58.73366)\n6   1__1  POINT (29.84944 58.73685)\n7   1__1  POINT (29.85186 58.74097)\n8   1__1  POINT (29.85380 58.74378)\n9   1__1  POINT (29.85720 58.74918)\n10  1__1  POINT (29.86038 58.75440)\n11  1__1  POINT (29.86130 58.75509)\n12  1__1  POINT (29.86353 58.75878)\n13  1__1  POINT (29.86432 58.75932)\n14  1__1  POINT (29.86728 58.76405)\n15  1__1  POINT (29.87172 58.77040)\n16  1__1  POINT (29.87262 58.77107)\n17  1__1  POINT (29.85404 58.74947)\n18  1__1  POINT (29.85064 58.74405)\n19  1__1  POINT (29.84836 58.74014)\n20  1__1  POINT (29.84568 58.73543)\n21  1__1  POINT (29.84422 58.73191)\n22  1__1  POINT (29.84305 58.72927)\n23  1__1  POINT (29.85084 58.72668)\n24  1__1  POINT (29.84935 58.72662)\n25  1__1  POINT (29.86291 58.75371)\n26  1__1  POINT (29.84638 58.74194)\n27  1__1  POINT (29.84627 58.71804)\n28  1__1  POINT (29.84940 58.74295)\n29  1__1  POINT (29.86784 58.76417)\n30  1__1  POINT (29.87591 58.77642)\n31  1__1  POINT (29.87488 58.77548)\n32  1__1  POINT (29.85270 58.71404)\n33  1__1  POINT (29.85304 58.71401)\n34  1__1  POINT (29.85932 58.71054)",
      "text/html": "<div>\n<style scoped>\n    .dataframe tbody tr th:only-of-type {\n        vertical-align: middle;\n    }\n\n    .dataframe tbody tr th {\n        vertical-align: top;\n    }\n\n    .dataframe thead th {\n        text-align: right;\n    }\n</style>\n<table border=\"1\" class=\"dataframe\">\n  <thead>\n    <tr style=\"text-align: right;\">\n      <th></th>\n      <th>label</th>\n      <th>geometry</th>\n    </tr>\n  </thead>\n  <tbody>\n    <tr>\n      <th>0</th>\n      <td>1__1</td>\n      <td>POINT (29.84695 58.71778)</td>\n    </tr>\n    <tr>\n      <th>1</th>\n      <td>1__1</td>\n      <td>POINT (29.84646 58.72545)</td>\n    </tr>\n    <tr>\n      <th>2</th>\n      <td>1__1</td>\n      <td>POINT (29.84644 58.72463)</td>\n    </tr>\n    <tr>\n      <th>3</th>\n      <td>1__1</td>\n      <td>POINT (29.84296 58.72715)</td>\n    </tr>\n    <tr>\n      <th>4</th>\n      <td>1__1</td>\n      <td>POINT (29.84783 58.72845)</td>\n    </tr>\n    <tr>\n      <th>5</th>\n      <td>1__1</td>\n      <td>POINT (29.84985 58.73366)</td>\n    </tr>\n    <tr>\n      <th>6</th>\n      <td>1__1</td>\n      <td>POINT (29.84944 58.73685)</td>\n    </tr>\n    <tr>\n      <th>7</th>\n      <td>1__1</td>\n      <td>POINT (29.85186 58.74097)</td>\n    </tr>\n    <tr>\n      <th>8</th>\n      <td>1__1</td>\n      <td>POINT (29.85380 58.74378)</td>\n    </tr>\n    <tr>\n      <th>9</th>\n      <td>1__1</td>\n      <td>POINT (29.85720 58.74918)</td>\n    </tr>\n    <tr>\n      <th>10</th>\n      <td>1__1</td>\n      <td>POINT (29.86038 58.75440)</td>\n    </tr>\n    <tr>\n      <th>11</th>\n      <td>1__1</td>\n      <td>POINT (29.86130 58.75509)</td>\n    </tr>\n    <tr>\n      <th>12</th>\n      <td>1__1</td>\n      <td>POINT (29.86353 58.75878)</td>\n    </tr>\n    <tr>\n      <th>13</th>\n      <td>1__1</td>\n      <td>POINT (29.86432 58.75932)</td>\n    </tr>\n    <tr>\n      <th>14</th>\n      <td>1__1</td>\n      <td>POINT (29.86728 58.76405)</td>\n    </tr>\n    <tr>\n      <th>15</th>\n      <td>1__1</td>\n      <td>POINT (29.87172 58.77040)</td>\n    </tr>\n    <tr>\n      <th>16</th>\n      <td>1__1</td>\n      <td>POINT (29.87262 58.77107)</td>\n    </tr>\n    <tr>\n      <th>17</th>\n      <td>1__1</td>\n      <td>POINT (29.85404 58.74947)</td>\n    </tr>\n    <tr>\n      <th>18</th>\n      <td>1__1</td>\n      <td>POINT (29.85064 58.74405)</td>\n    </tr>\n    <tr>\n      <th>19</th>\n      <td>1__1</td>\n      <td>POINT (29.84836 58.74014)</td>\n    </tr>\n    <tr>\n      <th>20</th>\n      <td>1__1</td>\n      <td>POINT (29.84568 58.73543)</td>\n    </tr>\n    <tr>\n      <th>21</th>\n      <td>1__1</td>\n      <td>POINT (29.84422 58.73191)</td>\n    </tr>\n    <tr>\n      <th>22</th>\n      <td>1__1</td>\n      <td>POINT (29.84305 58.72927)</td>\n    </tr>\n    <tr>\n      <th>23</th>\n      <td>1__1</td>\n      <td>POINT (29.85084 58.72668)</td>\n    </tr>\n    <tr>\n      <th>24</th>\n      <td>1__1</td>\n      <td>POINT (29.84935 58.72662)</td>\n    </tr>\n    <tr>\n      <th>25</th>\n      <td>1__1</td>\n      <td>POINT (29.86291 58.75371)</td>\n    </tr>\n    <tr>\n      <th>26</th>\n      <td>1__1</td>\n      <td>POINT (29.84638 58.74194)</td>\n    </tr>\n    <tr>\n      <th>27</th>\n      <td>1__1</td>\n      <td>POINT (29.84627 58.71804)</td>\n    </tr>\n    <tr>\n      <th>28</th>\n      <td>1__1</td>\n      <td>POINT (29.84940 58.74295)</td>\n    </tr>\n    <tr>\n      <th>29</th>\n      <td>1__1</td>\n      <td>POINT (29.86784 58.76417)</td>\n    </tr>\n    <tr>\n      <th>30</th>\n      <td>1__1</td>\n      <td>POINT (29.87591 58.77642)</td>\n    </tr>\n    <tr>\n      <th>31</th>\n      <td>1__1</td>\n      <td>POINT (29.87488 58.77548)</td>\n    </tr>\n    <tr>\n      <th>32</th>\n      <td>1__1</td>\n      <td>POINT (29.85270 58.71404)</td>\n    </tr>\n    <tr>\n      <th>33</th>\n      <td>1__1</td>\n      <td>POINT (29.85304 58.71401)</td>\n    </tr>\n    <tr>\n      <th>34</th>\n      <td>1__1</td>\n      <td>POINT (29.85932 58.71054)</td>\n    </tr>\n  </tbody>\n</table>\n</div>"
     },
     "execution_count": 5,
     "metadata": {},
     "output_type": "execute_result"
    }
   ],
   "source": [
    "row = devided_routes.loc[\"1__1\"]\n",
    "geometry_list = row[\"geometry\"]\n",
    "test_gdf = gpd.GeoDataFrame(data={\"label\":[\"1__1\" for _ in geometry_list],\"geometry\":geometry_list})\n",
    "test_gdf"
   ],
   "metadata": {
    "collapsed": false,
    "ExecuteTime": {
     "end_time": "2024-03-13T13:11:30.102230800Z",
     "start_time": "2024-03-13T13:11:29.992661500Z"
    }
   },
   "id": "33d04ebf9c4d1d4b"
  },
  {
   "cell_type": "code",
   "execution_count": 6,
   "outputs": [],
   "source": [
    "import networkx as nx\n",
    "nx_graph = nx.read_graphml(\"len_obl_graph.graphml\")"
   ],
   "metadata": {
    "collapsed": false,
    "ExecuteTime": {
     "end_time": "2024-03-13T13:11:48.800857Z",
     "start_time": "2024-03-13T13:11:30.017702400Z"
    }
   },
   "id": "f71e2f53dd168175"
  },
  {
   "cell_type": "code",
   "execution_count": 7,
   "outputs": [
    {
     "name": "stderr",
     "output_type": "stream",
     "text": [
      "\u001B[32m2024-03-13 16:16:15.495\u001B[0m | \u001B[1mINFO    \u001B[0m | \u001B[36msrc.dongraphio.dongraphio\u001B[0m:\u001B[36mget_adjacency_matrix\u001B[0m:\u001B[36m87\u001B[0m - \u001B[1mCreating adjacency matrix based on provided graph...\u001B[0m\n",
      "\u001B[32m2024-03-13 16:16:33.175\u001B[0m | \u001B[34m\u001B[1mDEBUG   \u001B[0m | \u001B[36msrc.dongraphio.base_models\u001B[0m:\u001B[36mget_adjacency_matrix\u001B[0m:\u001B[36m93\u001B[0m - \u001B[34m\u001B[1mCalculating distances from buildings to services ...\u001B[0m\n",
      "\u001B[32m2024-03-13 16:16:33.675\u001B[0m | \u001B[1mINFO    \u001B[0m | \u001B[36msrc.dongraphio.dongraphio\u001B[0m:\u001B[36mget_adjacency_matrix\u001B[0m:\u001B[36m96\u001B[0m - \u001B[1mAdjacency matrix done!\u001B[0m\n"
     ]
    },
    {
     "data": {
      "text/plain": "        0       1       2       3       4       5       6       7       8   \\\n0      0.0   911.3   911.3  1422.9  1382.1  1966.3  2330.3  2978.5  3174.9   \n1    911.3     0.0     0.0   511.6   470.8  1055.0  1419.0  2067.2  2263.6   \n2    911.3     0.0     0.0   511.6   470.8  1055.0  1419.0  2067.2  2263.6   \n3   1422.9   511.6   511.6     0.0   513.6  1097.8  1461.8  2110.0  2306.4   \n4   1924.7  1013.4  1013.4   501.8     0.0   584.2   948.2  1596.4  1792.8   \n5   2552.8  1641.5  1641.5  1129.9  1167.3     0.0   364.0  1012.2  1208.6   \n6   2677.4  1766.1  1766.1  1254.5  1291.9   691.6     0.0   648.2   844.6   \n7   3338.1  2426.8  2426.8  1915.2  1952.6  1352.3   959.1     0.0   196.4   \n8   3762.1  2850.8  2850.8  2339.2  2376.6  1776.3  1383.1   424.0     0.0   \n9   4188.8  3277.5  3277.5  2765.9  2803.3  2203.0  1809.8  1161.5  1164.4   \n10  4821.9  3910.6  3910.6  3399.0  3436.4  2836.1  2442.9  1794.6  1797.5   \n11  4821.9  3910.6  3910.6  3399.0  3436.4  2836.1  2442.9  1794.6  1797.5   \n12  5213.4  4302.1  4302.1  3790.5  3827.9  3227.6  2834.4  2186.1  2189.0   \n13  5213.4  4302.1  4302.1  3790.5  3827.9  3227.6  2834.4  2186.1  2189.0   \n14  5213.4  4302.1  4302.1  3790.5  3827.9  3227.6  2834.4  2186.1  2189.0   \n15  7034.1  6122.8  6122.8  5611.2  5648.6  5048.3  4655.1  4006.8  4009.7   \n16  7034.1  6122.8  6122.8  5611.2  5648.6  5048.3  4655.1  4006.8  4009.7   \n17  4020.1  3108.8  3108.8  2597.2  2634.6  2034.3  1641.1   992.8  1189.2   \n18  3407.0  2495.7  2495.7  1984.1  2021.5  1421.2  1028.0   379.7   576.1   \n19  2808.6  1897.3  1897.3  1385.7  1423.1   822.8   429.6   522.9   719.3   \n20  2269.3  1358.0  1358.0   846.4   883.8   283.5   647.5  1295.7  1492.1   \n21  3021.0  2109.7  2109.7  1598.1  1635.5   484.6   848.6  1496.8  1693.2   \n22  1655.1   743.8   743.8   232.2   269.6   853.8  1217.8  1866.0  2062.4   \n23  1237.9   525.8   525.8   568.6   527.8  1112.0  1476.0  2124.2  2320.6   \n24  1048.4   336.3   336.3   379.1   338.3   922.5  1286.5  1934.7  2131.1   \n25  4992.5  4081.2  4081.2  3569.6  3607.0  3006.7  2613.5  1965.2  1968.1   \n26  3122.8  2211.5  2211.5  1699.9  1737.3  1137.0   743.8   491.9   688.3   \n27     0.0   911.3   911.3  1422.9  1382.1  1966.3  2330.3  2978.5  3174.9   \n28  3182.7  2271.4  2271.4  1759.8  1797.2  1196.9   803.7   155.4   351.8   \n29  5213.4  4302.1  4302.1  3790.5  3827.9  3227.6  2834.4  2186.1  2189.0   \n30  7226.9  6315.6  6315.6  5804.0  5841.4  5241.1  4847.9  4199.6  4202.5   \n31  7226.9  6315.6  6315.6  5804.0  5841.4  5241.1  4847.9  4199.6  4202.5   \n32   537.5  1448.8  1448.8  1960.4  1919.6  2503.8  2867.8  3516.0  3712.4   \n33   537.5  1448.8  1448.8  1960.4  1919.6  2503.8  2867.8  3516.0  3712.4   \n34   766.1  1677.4  1677.4  2189.0  2148.2  2732.4  3096.4  3744.6  3941.0   \n\n        9   ...      25      26      27      28      29      30      31  \\\n0   3813.2  ...  4616.9  3071.4     0.0  3133.9  4837.8  6851.3  6851.3   \n1   2901.9  ...  3705.6  2160.1   911.3  2222.6  3926.5  5940.0  5940.0   \n2   2901.9  ...  3705.6  2160.1   911.3  2222.6  3926.5  5940.0  5940.0   \n3   2944.7  ...  3748.4  2202.9  1422.9  2265.4  3969.3  5982.8  5982.8   \n4   2431.1  ...  3234.8  1689.3  1924.7  1751.8  3455.7  5469.2  5469.2   \n5   1846.9  ...  2650.6  1105.1  2552.8  1167.6  2871.5  4885.0  4885.0   \n6   1482.9  ...  2286.6   741.1  2677.4   803.6  2507.5  4521.0  4521.0   \n7    834.7  ...  1638.4   490.2  3338.1   155.4  1859.3  3872.8  3872.8   \n8    638.3  ...  1442.0   914.2  3762.1   579.4  1662.9  3676.4  3676.4   \n9      0.0  ...   803.7  1340.9  4188.8  1006.1  1024.6  3038.1  3038.1   \n10   633.1  ...   170.6  1974.0  4821.9  1639.2   391.5  2405.0  2405.0   \n11   633.1  ...   170.6  1974.0  4821.9  1639.2   391.5  2405.0  2405.0   \n12  1024.6  ...   562.1  2365.5  5213.4  2030.7     0.0  2013.5  2013.5   \n13  1024.6  ...   562.1  2365.5  5213.4  2030.7     0.0  2013.5  2013.5   \n14  1024.6  ...   562.1  2365.5  5213.4  2030.7     0.0  2013.5  2013.5   \n15  2845.3  ...  2382.8  4186.2  7034.1  3851.4  1820.7   192.8   192.8   \n16  2845.3  ...  2382.8  4186.2  7034.1  3851.4  1820.7   192.8   192.8   \n17   552.2  ...  1355.9  1172.2  4020.1   837.4  1576.8  3590.3  3590.3   \n18  1214.4  ...  2018.1   559.1  3407.0   224.3  2239.0  4252.5  4252.5   \n19  1357.6  ...  2161.3   314.2  2808.6   650.7  2382.2  4395.7  4395.7   \n20  2130.4  ...  2934.1  1388.6  2269.3  1451.1  3155.0  5168.5  5168.5   \n21  2331.5  ...  3135.2  1589.7  3021.0  1652.2  3356.1  5369.6  5369.6   \n22  2700.7  ...  3504.4  1958.9  1655.1  2021.4  3725.3  5738.8  5738.8   \n23  2958.9  ...  3762.6  2217.1  1237.9  2279.6  3983.5  5997.0  5997.0   \n24  2769.4  ...  3573.1  2027.6  1048.4  2090.1  3794.0  5807.5  5807.5   \n25   803.7  ...     0.0  2144.6  4992.5  1809.8   562.1  2575.6  2575.6   \n26  1326.6  ...  2130.3     0.0  3122.8   336.5  2351.2  4364.7  4364.7   \n27  3813.2  ...  4616.9  3071.4     0.0  3133.9  4837.8  6851.3  6851.3   \n28   990.1  ...  1793.8   334.8  3182.7     0.0  2014.7  4028.2  4028.2   \n29  1024.6  ...   562.1  2365.5  5213.4  2030.7     0.0  2013.5  2013.5   \n30  3038.1  ...  2575.6  4379.0  7226.9  4044.2  2013.5     0.0     0.0   \n31  3038.1  ...  2575.6  4379.0  7226.9  4044.2  2013.5     0.0     0.0   \n32  4350.7  ...  5154.4  3608.9   537.5  3671.4  5375.3  7388.8  7388.8   \n33  4350.7  ...  5154.4  3608.9   537.5  3671.4  5375.3  7388.8  7388.8   \n34  4579.3  ...  5383.0  3837.5   766.1  3900.0  5603.9  7617.4  7617.4   \n\n        32      33      34  \n0    537.5   537.5   766.1  \n1   1448.8  1448.8  1677.4  \n2   1448.8  1448.8  1677.4  \n3   1960.4  1960.4  2189.0  \n4   2462.2  2462.2  2690.8  \n5   3090.3  3090.3  3318.9  \n6   3214.9  3214.9  3443.5  \n7   3875.6  3875.6  4104.2  \n8   4299.6  4299.6  4528.2  \n9   4726.3  4726.3  4954.9  \n10  5359.4  5359.4  5588.0  \n11  5359.4  5359.4  5588.0  \n12  5750.9  5750.9  5979.5  \n13  5750.9  5750.9  5979.5  \n14  5750.9  5750.9  5979.5  \n15  7571.6  7571.6  7800.2  \n16  7571.6  7571.6  7800.2  \n17  4557.6  4557.6  4786.2  \n18  3944.5  3944.5  4173.1  \n19  3346.1  3346.1  3574.7  \n20  2806.8  2806.8  3035.4  \n21  3558.5  3558.5  3787.1  \n22  2192.6  2192.6  2421.2  \n23  1775.4  1775.4  2004.0  \n24  1585.9  1585.9  1814.5  \n25  5530.0  5530.0  5758.6  \n26  3660.3  3660.3  3888.9  \n27   537.5   537.5   766.1  \n28  3720.2  3720.2  3948.8  \n29  5750.9  5750.9  5979.5  \n30  7764.4  7764.4  7993.0  \n31  7764.4  7764.4  7993.0  \n32     0.0     0.0   228.6  \n33     0.0     0.0   228.6  \n34   228.6   228.6     0.0  \n\n[35 rows x 35 columns]",
      "text/html": "<div>\n<style scoped>\n    .dataframe tbody tr th:only-of-type {\n        vertical-align: middle;\n    }\n\n    .dataframe tbody tr th {\n        vertical-align: top;\n    }\n\n    .dataframe thead th {\n        text-align: right;\n    }\n</style>\n<table border=\"1\" class=\"dataframe\">\n  <thead>\n    <tr style=\"text-align: right;\">\n      <th></th>\n      <th>0</th>\n      <th>1</th>\n      <th>2</th>\n      <th>3</th>\n      <th>4</th>\n      <th>5</th>\n      <th>6</th>\n      <th>7</th>\n      <th>8</th>\n      <th>9</th>\n      <th>...</th>\n      <th>25</th>\n      <th>26</th>\n      <th>27</th>\n      <th>28</th>\n      <th>29</th>\n      <th>30</th>\n      <th>31</th>\n      <th>32</th>\n      <th>33</th>\n      <th>34</th>\n    </tr>\n  </thead>\n  <tbody>\n    <tr>\n      <th>0</th>\n      <td>0.0</td>\n      <td>911.3</td>\n      <td>911.3</td>\n      <td>1422.9</td>\n      <td>1382.1</td>\n      <td>1966.3</td>\n      <td>2330.3</td>\n      <td>2978.5</td>\n      <td>3174.9</td>\n      <td>3813.2</td>\n      <td>...</td>\n      <td>4616.9</td>\n      <td>3071.4</td>\n      <td>0.0</td>\n      <td>3133.9</td>\n      <td>4837.8</td>\n      <td>6851.3</td>\n      <td>6851.3</td>\n      <td>537.5</td>\n      <td>537.5</td>\n      <td>766.1</td>\n    </tr>\n    <tr>\n      <th>1</th>\n      <td>911.3</td>\n      <td>0.0</td>\n      <td>0.0</td>\n      <td>511.6</td>\n      <td>470.8</td>\n      <td>1055.0</td>\n      <td>1419.0</td>\n      <td>2067.2</td>\n      <td>2263.6</td>\n      <td>2901.9</td>\n      <td>...</td>\n      <td>3705.6</td>\n      <td>2160.1</td>\n      <td>911.3</td>\n      <td>2222.6</td>\n      <td>3926.5</td>\n      <td>5940.0</td>\n      <td>5940.0</td>\n      <td>1448.8</td>\n      <td>1448.8</td>\n      <td>1677.4</td>\n    </tr>\n    <tr>\n      <th>2</th>\n      <td>911.3</td>\n      <td>0.0</td>\n      <td>0.0</td>\n      <td>511.6</td>\n      <td>470.8</td>\n      <td>1055.0</td>\n      <td>1419.0</td>\n      <td>2067.2</td>\n      <td>2263.6</td>\n      <td>2901.9</td>\n      <td>...</td>\n      <td>3705.6</td>\n      <td>2160.1</td>\n      <td>911.3</td>\n      <td>2222.6</td>\n      <td>3926.5</td>\n      <td>5940.0</td>\n      <td>5940.0</td>\n      <td>1448.8</td>\n      <td>1448.8</td>\n      <td>1677.4</td>\n    </tr>\n    <tr>\n      <th>3</th>\n      <td>1422.9</td>\n      <td>511.6</td>\n      <td>511.6</td>\n      <td>0.0</td>\n      <td>513.6</td>\n      <td>1097.8</td>\n      <td>1461.8</td>\n      <td>2110.0</td>\n      <td>2306.4</td>\n      <td>2944.7</td>\n      <td>...</td>\n      <td>3748.4</td>\n      <td>2202.9</td>\n      <td>1422.9</td>\n      <td>2265.4</td>\n      <td>3969.3</td>\n      <td>5982.8</td>\n      <td>5982.8</td>\n      <td>1960.4</td>\n      <td>1960.4</td>\n      <td>2189.0</td>\n    </tr>\n    <tr>\n      <th>4</th>\n      <td>1924.7</td>\n      <td>1013.4</td>\n      <td>1013.4</td>\n      <td>501.8</td>\n      <td>0.0</td>\n      <td>584.2</td>\n      <td>948.2</td>\n      <td>1596.4</td>\n      <td>1792.8</td>\n      <td>2431.1</td>\n      <td>...</td>\n      <td>3234.8</td>\n      <td>1689.3</td>\n      <td>1924.7</td>\n      <td>1751.8</td>\n      <td>3455.7</td>\n      <td>5469.2</td>\n      <td>5469.2</td>\n      <td>2462.2</td>\n      <td>2462.2</td>\n      <td>2690.8</td>\n    </tr>\n    <tr>\n      <th>5</th>\n      <td>2552.8</td>\n      <td>1641.5</td>\n      <td>1641.5</td>\n      <td>1129.9</td>\n      <td>1167.3</td>\n      <td>0.0</td>\n      <td>364.0</td>\n      <td>1012.2</td>\n      <td>1208.6</td>\n      <td>1846.9</td>\n      <td>...</td>\n      <td>2650.6</td>\n      <td>1105.1</td>\n      <td>2552.8</td>\n      <td>1167.6</td>\n      <td>2871.5</td>\n      <td>4885.0</td>\n      <td>4885.0</td>\n      <td>3090.3</td>\n      <td>3090.3</td>\n      <td>3318.9</td>\n    </tr>\n    <tr>\n      <th>6</th>\n      <td>2677.4</td>\n      <td>1766.1</td>\n      <td>1766.1</td>\n      <td>1254.5</td>\n      <td>1291.9</td>\n      <td>691.6</td>\n      <td>0.0</td>\n      <td>648.2</td>\n      <td>844.6</td>\n      <td>1482.9</td>\n      <td>...</td>\n      <td>2286.6</td>\n      <td>741.1</td>\n      <td>2677.4</td>\n      <td>803.6</td>\n      <td>2507.5</td>\n      <td>4521.0</td>\n      <td>4521.0</td>\n      <td>3214.9</td>\n      <td>3214.9</td>\n      <td>3443.5</td>\n    </tr>\n    <tr>\n      <th>7</th>\n      <td>3338.1</td>\n      <td>2426.8</td>\n      <td>2426.8</td>\n      <td>1915.2</td>\n      <td>1952.6</td>\n      <td>1352.3</td>\n      <td>959.1</td>\n      <td>0.0</td>\n      <td>196.4</td>\n      <td>834.7</td>\n      <td>...</td>\n      <td>1638.4</td>\n      <td>490.2</td>\n      <td>3338.1</td>\n      <td>155.4</td>\n      <td>1859.3</td>\n      <td>3872.8</td>\n      <td>3872.8</td>\n      <td>3875.6</td>\n      <td>3875.6</td>\n      <td>4104.2</td>\n    </tr>\n    <tr>\n      <th>8</th>\n      <td>3762.1</td>\n      <td>2850.8</td>\n      <td>2850.8</td>\n      <td>2339.2</td>\n      <td>2376.6</td>\n      <td>1776.3</td>\n      <td>1383.1</td>\n      <td>424.0</td>\n      <td>0.0</td>\n      <td>638.3</td>\n      <td>...</td>\n      <td>1442.0</td>\n      <td>914.2</td>\n      <td>3762.1</td>\n      <td>579.4</td>\n      <td>1662.9</td>\n      <td>3676.4</td>\n      <td>3676.4</td>\n      <td>4299.6</td>\n      <td>4299.6</td>\n      <td>4528.2</td>\n    </tr>\n    <tr>\n      <th>9</th>\n      <td>4188.8</td>\n      <td>3277.5</td>\n      <td>3277.5</td>\n      <td>2765.9</td>\n      <td>2803.3</td>\n      <td>2203.0</td>\n      <td>1809.8</td>\n      <td>1161.5</td>\n      <td>1164.4</td>\n      <td>0.0</td>\n      <td>...</td>\n      <td>803.7</td>\n      <td>1340.9</td>\n      <td>4188.8</td>\n      <td>1006.1</td>\n      <td>1024.6</td>\n      <td>3038.1</td>\n      <td>3038.1</td>\n      <td>4726.3</td>\n      <td>4726.3</td>\n      <td>4954.9</td>\n    </tr>\n    <tr>\n      <th>10</th>\n      <td>4821.9</td>\n      <td>3910.6</td>\n      <td>3910.6</td>\n      <td>3399.0</td>\n      <td>3436.4</td>\n      <td>2836.1</td>\n      <td>2442.9</td>\n      <td>1794.6</td>\n      <td>1797.5</td>\n      <td>633.1</td>\n      <td>...</td>\n      <td>170.6</td>\n      <td>1974.0</td>\n      <td>4821.9</td>\n      <td>1639.2</td>\n      <td>391.5</td>\n      <td>2405.0</td>\n      <td>2405.0</td>\n      <td>5359.4</td>\n      <td>5359.4</td>\n      <td>5588.0</td>\n    </tr>\n    <tr>\n      <th>11</th>\n      <td>4821.9</td>\n      <td>3910.6</td>\n      <td>3910.6</td>\n      <td>3399.0</td>\n      <td>3436.4</td>\n      <td>2836.1</td>\n      <td>2442.9</td>\n      <td>1794.6</td>\n      <td>1797.5</td>\n      <td>633.1</td>\n      <td>...</td>\n      <td>170.6</td>\n      <td>1974.0</td>\n      <td>4821.9</td>\n      <td>1639.2</td>\n      <td>391.5</td>\n      <td>2405.0</td>\n      <td>2405.0</td>\n      <td>5359.4</td>\n      <td>5359.4</td>\n      <td>5588.0</td>\n    </tr>\n    <tr>\n      <th>12</th>\n      <td>5213.4</td>\n      <td>4302.1</td>\n      <td>4302.1</td>\n      <td>3790.5</td>\n      <td>3827.9</td>\n      <td>3227.6</td>\n      <td>2834.4</td>\n      <td>2186.1</td>\n      <td>2189.0</td>\n      <td>1024.6</td>\n      <td>...</td>\n      <td>562.1</td>\n      <td>2365.5</td>\n      <td>5213.4</td>\n      <td>2030.7</td>\n      <td>0.0</td>\n      <td>2013.5</td>\n      <td>2013.5</td>\n      <td>5750.9</td>\n      <td>5750.9</td>\n      <td>5979.5</td>\n    </tr>\n    <tr>\n      <th>13</th>\n      <td>5213.4</td>\n      <td>4302.1</td>\n      <td>4302.1</td>\n      <td>3790.5</td>\n      <td>3827.9</td>\n      <td>3227.6</td>\n      <td>2834.4</td>\n      <td>2186.1</td>\n      <td>2189.0</td>\n      <td>1024.6</td>\n      <td>...</td>\n      <td>562.1</td>\n      <td>2365.5</td>\n      <td>5213.4</td>\n      <td>2030.7</td>\n      <td>0.0</td>\n      <td>2013.5</td>\n      <td>2013.5</td>\n      <td>5750.9</td>\n      <td>5750.9</td>\n      <td>5979.5</td>\n    </tr>\n    <tr>\n      <th>14</th>\n      <td>5213.4</td>\n      <td>4302.1</td>\n      <td>4302.1</td>\n      <td>3790.5</td>\n      <td>3827.9</td>\n      <td>3227.6</td>\n      <td>2834.4</td>\n      <td>2186.1</td>\n      <td>2189.0</td>\n      <td>1024.6</td>\n      <td>...</td>\n      <td>562.1</td>\n      <td>2365.5</td>\n      <td>5213.4</td>\n      <td>2030.7</td>\n      <td>0.0</td>\n      <td>2013.5</td>\n      <td>2013.5</td>\n      <td>5750.9</td>\n      <td>5750.9</td>\n      <td>5979.5</td>\n    </tr>\n    <tr>\n      <th>15</th>\n      <td>7034.1</td>\n      <td>6122.8</td>\n      <td>6122.8</td>\n      <td>5611.2</td>\n      <td>5648.6</td>\n      <td>5048.3</td>\n      <td>4655.1</td>\n      <td>4006.8</td>\n      <td>4009.7</td>\n      <td>2845.3</td>\n      <td>...</td>\n      <td>2382.8</td>\n      <td>4186.2</td>\n      <td>7034.1</td>\n      <td>3851.4</td>\n      <td>1820.7</td>\n      <td>192.8</td>\n      <td>192.8</td>\n      <td>7571.6</td>\n      <td>7571.6</td>\n      <td>7800.2</td>\n    </tr>\n    <tr>\n      <th>16</th>\n      <td>7034.1</td>\n      <td>6122.8</td>\n      <td>6122.8</td>\n      <td>5611.2</td>\n      <td>5648.6</td>\n      <td>5048.3</td>\n      <td>4655.1</td>\n      <td>4006.8</td>\n      <td>4009.7</td>\n      <td>2845.3</td>\n      <td>...</td>\n      <td>2382.8</td>\n      <td>4186.2</td>\n      <td>7034.1</td>\n      <td>3851.4</td>\n      <td>1820.7</td>\n      <td>192.8</td>\n      <td>192.8</td>\n      <td>7571.6</td>\n      <td>7571.6</td>\n      <td>7800.2</td>\n    </tr>\n    <tr>\n      <th>17</th>\n      <td>4020.1</td>\n      <td>3108.8</td>\n      <td>3108.8</td>\n      <td>2597.2</td>\n      <td>2634.6</td>\n      <td>2034.3</td>\n      <td>1641.1</td>\n      <td>992.8</td>\n      <td>1189.2</td>\n      <td>552.2</td>\n      <td>...</td>\n      <td>1355.9</td>\n      <td>1172.2</td>\n      <td>4020.1</td>\n      <td>837.4</td>\n      <td>1576.8</td>\n      <td>3590.3</td>\n      <td>3590.3</td>\n      <td>4557.6</td>\n      <td>4557.6</td>\n      <td>4786.2</td>\n    </tr>\n    <tr>\n      <th>18</th>\n      <td>3407.0</td>\n      <td>2495.7</td>\n      <td>2495.7</td>\n      <td>1984.1</td>\n      <td>2021.5</td>\n      <td>1421.2</td>\n      <td>1028.0</td>\n      <td>379.7</td>\n      <td>576.1</td>\n      <td>1214.4</td>\n      <td>...</td>\n      <td>2018.1</td>\n      <td>559.1</td>\n      <td>3407.0</td>\n      <td>224.3</td>\n      <td>2239.0</td>\n      <td>4252.5</td>\n      <td>4252.5</td>\n      <td>3944.5</td>\n      <td>3944.5</td>\n      <td>4173.1</td>\n    </tr>\n    <tr>\n      <th>19</th>\n      <td>2808.6</td>\n      <td>1897.3</td>\n      <td>1897.3</td>\n      <td>1385.7</td>\n      <td>1423.1</td>\n      <td>822.8</td>\n      <td>429.6</td>\n      <td>522.9</td>\n      <td>719.3</td>\n      <td>1357.6</td>\n      <td>...</td>\n      <td>2161.3</td>\n      <td>314.2</td>\n      <td>2808.6</td>\n      <td>650.7</td>\n      <td>2382.2</td>\n      <td>4395.7</td>\n      <td>4395.7</td>\n      <td>3346.1</td>\n      <td>3346.1</td>\n      <td>3574.7</td>\n    </tr>\n    <tr>\n      <th>20</th>\n      <td>2269.3</td>\n      <td>1358.0</td>\n      <td>1358.0</td>\n      <td>846.4</td>\n      <td>883.8</td>\n      <td>283.5</td>\n      <td>647.5</td>\n      <td>1295.7</td>\n      <td>1492.1</td>\n      <td>2130.4</td>\n      <td>...</td>\n      <td>2934.1</td>\n      <td>1388.6</td>\n      <td>2269.3</td>\n      <td>1451.1</td>\n      <td>3155.0</td>\n      <td>5168.5</td>\n      <td>5168.5</td>\n      <td>2806.8</td>\n      <td>2806.8</td>\n      <td>3035.4</td>\n    </tr>\n    <tr>\n      <th>21</th>\n      <td>3021.0</td>\n      <td>2109.7</td>\n      <td>2109.7</td>\n      <td>1598.1</td>\n      <td>1635.5</td>\n      <td>484.6</td>\n      <td>848.6</td>\n      <td>1496.8</td>\n      <td>1693.2</td>\n      <td>2331.5</td>\n      <td>...</td>\n      <td>3135.2</td>\n      <td>1589.7</td>\n      <td>3021.0</td>\n      <td>1652.2</td>\n      <td>3356.1</td>\n      <td>5369.6</td>\n      <td>5369.6</td>\n      <td>3558.5</td>\n      <td>3558.5</td>\n      <td>3787.1</td>\n    </tr>\n    <tr>\n      <th>22</th>\n      <td>1655.1</td>\n      <td>743.8</td>\n      <td>743.8</td>\n      <td>232.2</td>\n      <td>269.6</td>\n      <td>853.8</td>\n      <td>1217.8</td>\n      <td>1866.0</td>\n      <td>2062.4</td>\n      <td>2700.7</td>\n      <td>...</td>\n      <td>3504.4</td>\n      <td>1958.9</td>\n      <td>1655.1</td>\n      <td>2021.4</td>\n      <td>3725.3</td>\n      <td>5738.8</td>\n      <td>5738.8</td>\n      <td>2192.6</td>\n      <td>2192.6</td>\n      <td>2421.2</td>\n    </tr>\n    <tr>\n      <th>23</th>\n      <td>1237.9</td>\n      <td>525.8</td>\n      <td>525.8</td>\n      <td>568.6</td>\n      <td>527.8</td>\n      <td>1112.0</td>\n      <td>1476.0</td>\n      <td>2124.2</td>\n      <td>2320.6</td>\n      <td>2958.9</td>\n      <td>...</td>\n      <td>3762.6</td>\n      <td>2217.1</td>\n      <td>1237.9</td>\n      <td>2279.6</td>\n      <td>3983.5</td>\n      <td>5997.0</td>\n      <td>5997.0</td>\n      <td>1775.4</td>\n      <td>1775.4</td>\n      <td>2004.0</td>\n    </tr>\n    <tr>\n      <th>24</th>\n      <td>1048.4</td>\n      <td>336.3</td>\n      <td>336.3</td>\n      <td>379.1</td>\n      <td>338.3</td>\n      <td>922.5</td>\n      <td>1286.5</td>\n      <td>1934.7</td>\n      <td>2131.1</td>\n      <td>2769.4</td>\n      <td>...</td>\n      <td>3573.1</td>\n      <td>2027.6</td>\n      <td>1048.4</td>\n      <td>2090.1</td>\n      <td>3794.0</td>\n      <td>5807.5</td>\n      <td>5807.5</td>\n      <td>1585.9</td>\n      <td>1585.9</td>\n      <td>1814.5</td>\n    </tr>\n    <tr>\n      <th>25</th>\n      <td>4992.5</td>\n      <td>4081.2</td>\n      <td>4081.2</td>\n      <td>3569.6</td>\n      <td>3607.0</td>\n      <td>3006.7</td>\n      <td>2613.5</td>\n      <td>1965.2</td>\n      <td>1968.1</td>\n      <td>803.7</td>\n      <td>...</td>\n      <td>0.0</td>\n      <td>2144.6</td>\n      <td>4992.5</td>\n      <td>1809.8</td>\n      <td>562.1</td>\n      <td>2575.6</td>\n      <td>2575.6</td>\n      <td>5530.0</td>\n      <td>5530.0</td>\n      <td>5758.6</td>\n    </tr>\n    <tr>\n      <th>26</th>\n      <td>3122.8</td>\n      <td>2211.5</td>\n      <td>2211.5</td>\n      <td>1699.9</td>\n      <td>1737.3</td>\n      <td>1137.0</td>\n      <td>743.8</td>\n      <td>491.9</td>\n      <td>688.3</td>\n      <td>1326.6</td>\n      <td>...</td>\n      <td>2130.3</td>\n      <td>0.0</td>\n      <td>3122.8</td>\n      <td>336.5</td>\n      <td>2351.2</td>\n      <td>4364.7</td>\n      <td>4364.7</td>\n      <td>3660.3</td>\n      <td>3660.3</td>\n      <td>3888.9</td>\n    </tr>\n    <tr>\n      <th>27</th>\n      <td>0.0</td>\n      <td>911.3</td>\n      <td>911.3</td>\n      <td>1422.9</td>\n      <td>1382.1</td>\n      <td>1966.3</td>\n      <td>2330.3</td>\n      <td>2978.5</td>\n      <td>3174.9</td>\n      <td>3813.2</td>\n      <td>...</td>\n      <td>4616.9</td>\n      <td>3071.4</td>\n      <td>0.0</td>\n      <td>3133.9</td>\n      <td>4837.8</td>\n      <td>6851.3</td>\n      <td>6851.3</td>\n      <td>537.5</td>\n      <td>537.5</td>\n      <td>766.1</td>\n    </tr>\n    <tr>\n      <th>28</th>\n      <td>3182.7</td>\n      <td>2271.4</td>\n      <td>2271.4</td>\n      <td>1759.8</td>\n      <td>1797.2</td>\n      <td>1196.9</td>\n      <td>803.7</td>\n      <td>155.4</td>\n      <td>351.8</td>\n      <td>990.1</td>\n      <td>...</td>\n      <td>1793.8</td>\n      <td>334.8</td>\n      <td>3182.7</td>\n      <td>0.0</td>\n      <td>2014.7</td>\n      <td>4028.2</td>\n      <td>4028.2</td>\n      <td>3720.2</td>\n      <td>3720.2</td>\n      <td>3948.8</td>\n    </tr>\n    <tr>\n      <th>29</th>\n      <td>5213.4</td>\n      <td>4302.1</td>\n      <td>4302.1</td>\n      <td>3790.5</td>\n      <td>3827.9</td>\n      <td>3227.6</td>\n      <td>2834.4</td>\n      <td>2186.1</td>\n      <td>2189.0</td>\n      <td>1024.6</td>\n      <td>...</td>\n      <td>562.1</td>\n      <td>2365.5</td>\n      <td>5213.4</td>\n      <td>2030.7</td>\n      <td>0.0</td>\n      <td>2013.5</td>\n      <td>2013.5</td>\n      <td>5750.9</td>\n      <td>5750.9</td>\n      <td>5979.5</td>\n    </tr>\n    <tr>\n      <th>30</th>\n      <td>7226.9</td>\n      <td>6315.6</td>\n      <td>6315.6</td>\n      <td>5804.0</td>\n      <td>5841.4</td>\n      <td>5241.1</td>\n      <td>4847.9</td>\n      <td>4199.6</td>\n      <td>4202.5</td>\n      <td>3038.1</td>\n      <td>...</td>\n      <td>2575.6</td>\n      <td>4379.0</td>\n      <td>7226.9</td>\n      <td>4044.2</td>\n      <td>2013.5</td>\n      <td>0.0</td>\n      <td>0.0</td>\n      <td>7764.4</td>\n      <td>7764.4</td>\n      <td>7993.0</td>\n    </tr>\n    <tr>\n      <th>31</th>\n      <td>7226.9</td>\n      <td>6315.6</td>\n      <td>6315.6</td>\n      <td>5804.0</td>\n      <td>5841.4</td>\n      <td>5241.1</td>\n      <td>4847.9</td>\n      <td>4199.6</td>\n      <td>4202.5</td>\n      <td>3038.1</td>\n      <td>...</td>\n      <td>2575.6</td>\n      <td>4379.0</td>\n      <td>7226.9</td>\n      <td>4044.2</td>\n      <td>2013.5</td>\n      <td>0.0</td>\n      <td>0.0</td>\n      <td>7764.4</td>\n      <td>7764.4</td>\n      <td>7993.0</td>\n    </tr>\n    <tr>\n      <th>32</th>\n      <td>537.5</td>\n      <td>1448.8</td>\n      <td>1448.8</td>\n      <td>1960.4</td>\n      <td>1919.6</td>\n      <td>2503.8</td>\n      <td>2867.8</td>\n      <td>3516.0</td>\n      <td>3712.4</td>\n      <td>4350.7</td>\n      <td>...</td>\n      <td>5154.4</td>\n      <td>3608.9</td>\n      <td>537.5</td>\n      <td>3671.4</td>\n      <td>5375.3</td>\n      <td>7388.8</td>\n      <td>7388.8</td>\n      <td>0.0</td>\n      <td>0.0</td>\n      <td>228.6</td>\n    </tr>\n    <tr>\n      <th>33</th>\n      <td>537.5</td>\n      <td>1448.8</td>\n      <td>1448.8</td>\n      <td>1960.4</td>\n      <td>1919.6</td>\n      <td>2503.8</td>\n      <td>2867.8</td>\n      <td>3516.0</td>\n      <td>3712.4</td>\n      <td>4350.7</td>\n      <td>...</td>\n      <td>5154.4</td>\n      <td>3608.9</td>\n      <td>537.5</td>\n      <td>3671.4</td>\n      <td>5375.3</td>\n      <td>7388.8</td>\n      <td>7388.8</td>\n      <td>0.0</td>\n      <td>0.0</td>\n      <td>228.6</td>\n    </tr>\n    <tr>\n      <th>34</th>\n      <td>766.1</td>\n      <td>1677.4</td>\n      <td>1677.4</td>\n      <td>2189.0</td>\n      <td>2148.2</td>\n      <td>2732.4</td>\n      <td>3096.4</td>\n      <td>3744.6</td>\n      <td>3941.0</td>\n      <td>4579.3</td>\n      <td>...</td>\n      <td>5383.0</td>\n      <td>3837.5</td>\n      <td>766.1</td>\n      <td>3900.0</td>\n      <td>5603.9</td>\n      <td>7617.4</td>\n      <td>7617.4</td>\n      <td>228.6</td>\n      <td>228.6</td>\n      <td>0.0</td>\n    </tr>\n  </tbody>\n</table>\n<p>35 rows × 35 columns</p>\n</div>"
     },
     "execution_count": 7,
     "metadata": {},
     "output_type": "execute_result"
    }
   ],
   "source": [
    "from src.dongraphio import DonGraphio\n",
    "from src.dongraphio import GraphType\n",
    "test_gdf = test_gdf.set_crs(4326,allow_override=True)\n",
    "test_ = test_gdf.to_crs(32636)\n",
    "dngrp = DonGraphio(city_crs=32636)\n",
    "dngrp.set_graph(nx_graph)\n",
    "adj_matrix = dngrp.get_adjacency_matrix(test_,test_,weight=\"length_meter\",graph_type={GraphType.DRIVE})\n",
    "adj_matrix"
   ],
   "metadata": {
    "collapsed": false,
    "ExecuteTime": {
     "end_time": "2024-03-13T13:16:33.815426800Z",
     "start_time": "2024-03-13T13:16:14.075088300Z"
    }
   },
   "id": "edcf13afe914c318"
  },
  {
   "cell_type": "markdown",
   "source": [],
   "metadata": {
    "collapsed": false
   },
   "id": "894e55bdcaae7499"
  },
  {
   "cell_type": "code",
   "execution_count": null,
   "outputs": [],
   "source": [
    "from shapely.geometry import MultiPoint\n",
    "\n",
    "devided_routes[\"geometry\"] = devided_routes[\"geometry\"].apply(lambda x: MultiPoint(x))\n",
    "devided_routes = gpd.GeoDataFrame(data=devided_routes, geometry=\"geometry\")\n",
    "devided_routes.to_file(\"new_routes.geojson\")\n"
   ],
   "metadata": {
    "collapsed": false
   },
   "id": "cce692b08d7c31fb"
  }
 ],
 "metadata": {
  "kernelspec": {
   "display_name": "Python 3",
   "language": "python",
   "name": "python3"
  },
  "language_info": {
   "codemirror_mode": {
    "name": "ipython",
    "version": 2
   },
   "file_extension": ".py",
   "mimetype": "text/x-python",
   "name": "python",
   "nbconvert_exporter": "python",
   "pygments_lexer": "ipython2",
   "version": "2.7.6"
  }
 },
 "nbformat": 4,
 "nbformat_minor": 5
}
