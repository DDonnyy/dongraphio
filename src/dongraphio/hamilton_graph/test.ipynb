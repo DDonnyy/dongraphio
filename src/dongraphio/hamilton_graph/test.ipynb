{
 "cells": [
  {
   "cell_type": "markdown",
   "source": [
    "В БЛОКНОТ"
   ],
   "metadata": {
    "collapsed": false
   },
   "id": "6f07d29edbe04e4c"
  },
  {
   "cell_type": "code",
   "execution_count": 2,
   "outputs": [
    {
     "data": {
      "text/plain": "                                               geometry\n3     [POINT (33.5536502 59.6433943), POINT (32.3536...\n590   [POINT (31.4603405 59.8746524), POINT (31.5240...\n444   [POINT (30.2052711 60.1438771), POINT (30.2061...\n135А  [POINT (29.8153262 58.5633739), POINT (29.8157...\n34А   [POINT (29.5123312 59.3544248), POINT (29.5115...\n...                                                 ...\n487   [POINT (30.1444949 59.7893016), POINT (30.1432...\n507   [POINT (30.072354435427986 59.23605459126603),...\n301   [POINT (30.2290361 59.7276999), POINT (30.2638...\n315А  [POINT (30.7708032 59.5666144), POINT (30.7718...\n334   [POINT (30.81074538293663 59.66165290835193), ...\n\n[592 rows x 1 columns]",
      "text/html": "<div>\n<style scoped>\n    .dataframe tbody tr th:only-of-type {\n        vertical-align: middle;\n    }\n\n    .dataframe tbody tr th {\n        vertical-align: top;\n    }\n\n    .dataframe thead th {\n        text-align: right;\n    }\n</style>\n<table border=\"1\" class=\"dataframe\">\n  <thead>\n    <tr style=\"text-align: right;\">\n      <th></th>\n      <th>geometry</th>\n    </tr>\n  </thead>\n  <tbody>\n    <tr>\n      <th>3</th>\n      <td>[POINT (33.5536502 59.6433943), POINT (32.3536...</td>\n    </tr>\n    <tr>\n      <th>590</th>\n      <td>[POINT (31.4603405 59.8746524), POINT (31.5240...</td>\n    </tr>\n    <tr>\n      <th>444</th>\n      <td>[POINT (30.2052711 60.1438771), POINT (30.2061...</td>\n    </tr>\n    <tr>\n      <th>135А</th>\n      <td>[POINT (29.8153262 58.5633739), POINT (29.8157...</td>\n    </tr>\n    <tr>\n      <th>34А</th>\n      <td>[POINT (29.5123312 59.3544248), POINT (29.5115...</td>\n    </tr>\n    <tr>\n      <th>...</th>\n      <td>...</td>\n    </tr>\n    <tr>\n      <th>487</th>\n      <td>[POINT (30.1444949 59.7893016), POINT (30.1432...</td>\n    </tr>\n    <tr>\n      <th>507</th>\n      <td>[POINT (30.072354435427986 59.23605459126603),...</td>\n    </tr>\n    <tr>\n      <th>301</th>\n      <td>[POINT (30.2290361 59.7276999), POINT (30.2638...</td>\n    </tr>\n    <tr>\n      <th>315А</th>\n      <td>[POINT (30.7708032 59.5666144), POINT (30.7718...</td>\n    </tr>\n    <tr>\n      <th>334</th>\n      <td>[POINT (30.81074538293663 59.66165290835193), ...</td>\n    </tr>\n  </tbody>\n</table>\n<p>592 rows × 1 columns</p>\n</div>"
     },
     "execution_count": 2,
     "metadata": {},
     "output_type": "execute_result"
    }
   ],
   "source": [
    "import pandas as pd\n",
    "from tqdm.auto import tqdm\n",
    "import geopandas as gpd\n",
    "tqdm.pandas()\n",
    "\n",
    "stops_gdf = gpd.read_file(\"stopsLO.geojson\")\n",
    "stops_gdf.rename(columns={\"Автоб\": \"route\"}, inplace=True)\n",
    "stops_gdf.dropna(subset=\"route\", axis=0, inplace=True, how=\"any\")\n",
    "unique_routes = set()\n",
    "for index, row in (stops_gdf.iterrows()):\n",
    "    for i in str(row[\"route\"]).replace('.', ',').rstrip().lstrip().split(\",\"):\n",
    "        if i != \"\":\n",
    "            unique_routes.add(i.lstrip().rstrip())\n",
    "unique_routes = pd.DataFrame(index=list(unique_routes))\n",
    "unique_routes[\"geometry\"] = [[]] * len(unique_routes)\n",
    "for index, row in (stops_gdf.iterrows()):\n",
    "    for i in str(row[\"route\"]).replace('.', ',').rstrip().lstrip().split(\",\"):\n",
    "        if i != \"\":\n",
    "            unique_routes.loc[i.lstrip().rstrip(), \"geometry\"] = unique_routes.loc[i.lstrip().rstrip()][\"geometry\"] + [\n",
    "                row[\"geometry\"]]\n",
    "\n",
    "unique_routes"
   ],
   "metadata": {
    "collapsed": false,
    "ExecuteTime": {
     "end_time": "2024-03-29T10:02:51.487524Z",
     "start_time": "2024-03-29T10:02:39.531750800Z"
    }
   },
   "id": "44af58c9274d7e08"
  },
  {
   "cell_type": "markdown",
   "source": [
    "ПЕРЕНЕС"
   ],
   "metadata": {
    "collapsed": false
   },
   "id": "b68585b85580ad7a"
  },
  {
   "cell_type": "code",
   "execution_count": 3,
   "outputs": [],
   "source": [
    "from sklearn.cluster import KMeans\n",
    "from sklearn.metrics import silhouette_score\n",
    "import numpy as np\n",
    "from shapely import distance, Point\n",
    "\n",
    "\n",
    "def clusterize(loc) -> pd.DataFrame:\n",
    "    data = np.array([[p.x, p.y] for p in loc[\"geometry\"]])\n",
    "    noise = np.array(\n",
    "        [[31.21239, 58.61124], [31.22239, 58.62161], [31.23239, 58.61171], [31.24239, 58.62129], [31.23239, 58.64131],\n",
    "        [32.92133, 59.02899], [32.94933, 59.06599], [32.93943, 59.03599], [32.92733, 59.08999], [32.92333, 59.00599],\n",
    "         [35.58878, 59.48945], [35.58933, 59.48359], [35.58643, 59.489759], [35.58879, 59.48688], [35.58869, 59.485749]])\n",
    "    data = np.append(data, noise, axis=0)\n",
    "\n",
    "    best_silhouette = -1\n",
    "    best_labels = None\n",
    "    k_values = range(2, 10 if len(data) > 10 else 2)\n",
    "\n",
    "    for k in k_values:\n",
    "        kmeans = KMeans(n_clusters=k)\n",
    "        kmeans.fit(data)\n",
    "        labels = kmeans.labels_\n",
    "        silhouette = silhouette_score(data, labels)\n",
    "        if silhouette > best_silhouette:\n",
    "            best_silhouette = silhouette\n",
    "            best_labels = labels\n",
    "\n",
    "    data = data[:-15]\n",
    "    if best_labels is not None:\n",
    "        best_labels = best_labels[:-15]\n",
    "    else:\n",
    "        best_labels = [0 for _ in range(0, len(data))]\n",
    "    # print(\"СИЛУЕТ:  \"+str(best_silhouette))\n",
    "    # if best_silhouette < 0.9:\n",
    "    #     best_labels = [0 for _ in range(0, len(data))]\n",
    "    data = pd.DataFrame({\n",
    "        'label': best_labels,\n",
    "        'geometry': [Point(p[0], p[1]) for p in data]\n",
    "    })\n",
    "    grouped_data = data.groupby('label')['geometry'].apply(list)\n",
    "    grouped_data = pd.DataFrame(grouped_data).reset_index(drop=True)\n",
    "    grouped_data.index = grouped_data.index + 1\n",
    "    return grouped_data"
   ],
   "metadata": {
    "collapsed": false,
    "ExecuteTime": {
     "end_time": "2024-03-29T10:02:51.775312200Z",
     "start_time": "2024-03-29T10:02:51.497524700Z"
    }
   },
   "id": "acca95ddfe2b475"
  },
  {
   "cell_type": "markdown",
   "source": [
    "В блокнот"
   ],
   "metadata": {
    "collapsed": false
   },
   "id": "afe04e5d75b1d677"
  },
  {
   "cell_type": "code",
   "execution_count": 4,
   "outputs": [
    {
     "data": {
      "text/plain": "  0%|          | 0/592 [00:00<?, ?it/s]",
      "application/vnd.jupyter.widget-view+json": {
       "version_major": 2,
       "version_minor": 0,
       "model_id": "5298b5303e3d4425989238a963f9b88d"
      }
     },
     "metadata": {},
     "output_type": "display_data"
    },
    {
     "data": {
      "text/plain": "                                               geometry\n3.1   [POINT (30.08645112859504 59.56957765642285), ...\n3.2   [POINT (32.3536583 59.8943022), POINT (32.3623...\n3.3   [POINT (28.5614882 59.3793053), POINT (28.5632...\n3.4   [POINT (33.5536502 59.6433943), POINT (33.5477...\n3.5   [POINT (29.847835 58.7284453), POINT (29.84985...\n...                                                 ...\n487   [POINT (30.1444949 59.7893016), POINT (30.1432...\n507   [POINT (30.072354435427986 59.23605459126603),...\n301   [POINT (30.2290361 59.7276999), POINT (30.2638...\n315А  [POINT (30.7708032 59.5666144), POINT (30.7718...\n334   [POINT (30.81074538293663 59.66165290835193), ...\n\n[853 rows x 1 columns]",
      "text/html": "<div>\n<style scoped>\n    .dataframe tbody tr th:only-of-type {\n        vertical-align: middle;\n    }\n\n    .dataframe tbody tr th {\n        vertical-align: top;\n    }\n\n    .dataframe thead th {\n        text-align: right;\n    }\n</style>\n<table border=\"1\" class=\"dataframe\">\n  <thead>\n    <tr style=\"text-align: right;\">\n      <th></th>\n      <th>geometry</th>\n    </tr>\n  </thead>\n  <tbody>\n    <tr>\n      <th>3.1</th>\n      <td>[POINT (30.08645112859504 59.56957765642285), ...</td>\n    </tr>\n    <tr>\n      <th>3.2</th>\n      <td>[POINT (32.3536583 59.8943022), POINT (32.3623...</td>\n    </tr>\n    <tr>\n      <th>3.3</th>\n      <td>[POINT (28.5614882 59.3793053), POINT (28.5632...</td>\n    </tr>\n    <tr>\n      <th>3.4</th>\n      <td>[POINT (33.5536502 59.6433943), POINT (33.5477...</td>\n    </tr>\n    <tr>\n      <th>3.5</th>\n      <td>[POINT (29.847835 58.7284453), POINT (29.84985...</td>\n    </tr>\n    <tr>\n      <th>...</th>\n      <td>...</td>\n    </tr>\n    <tr>\n      <th>487</th>\n      <td>[POINT (30.1444949 59.7893016), POINT (30.1432...</td>\n    </tr>\n    <tr>\n      <th>507</th>\n      <td>[POINT (30.072354435427986 59.23605459126603),...</td>\n    </tr>\n    <tr>\n      <th>301</th>\n      <td>[POINT (30.2290361 59.7276999), POINT (30.2638...</td>\n    </tr>\n    <tr>\n      <th>315А</th>\n      <td>[POINT (30.7708032 59.5666144), POINT (30.7718...</td>\n    </tr>\n    <tr>\n      <th>334</th>\n      <td>[POINT (30.81074538293663 59.66165290835193), ...</td>\n    </tr>\n  </tbody>\n</table>\n<p>853 rows × 1 columns</p>\n</div>"
     },
     "execution_count": 4,
     "metadata": {},
     "output_type": "execute_result"
    }
   ],
   "source": [
    "from shapely import distance, Point\n",
    "\n",
    "devided_routes = pd.DataFrame()\n",
    "for index, row in tqdm(unique_routes.iterrows(), total=unique_routes.shape[0]):\n",
    "    clusterized = clusterize(row)\n",
    "    if clusterized.shape[0] > 1:\n",
    "        clusterized.index = index + \".\" + clusterized.index.astype(str)\n",
    "        devided_routes = pd.concat([devided_routes, clusterized])\n",
    "    else:\n",
    "        clusterized.index = [index]\n",
    "        devided_routes = pd.concat([devided_routes, clusterized])\n",
    "devided_routes"
   ],
   "metadata": {
    "collapsed": false,
    "ExecuteTime": {
     "end_time": "2024-03-29T10:03:18.049089300Z",
     "start_time": "2024-03-29T10:02:51.591274Z"
    }
   },
   "id": "e6f213ae6a237643"
  },
  {
   "cell_type": "code",
   "execution_count": 10,
   "outputs": [],
   "source": [
    "from shapely import MultiPoint\n",
    "devided_routes['geometry']=devided_routes['geometry'].apply(lambda x:MultiPoint(x))\n",
    "devided_routes = gpd.GeoDataFrame(devided_routes,geometry='geometry')\n",
    "\n",
    "devided_routes.to_file(\"polina_file.geojson\")"
   ],
   "metadata": {
    "collapsed": false,
    "ExecuteTime": {
     "end_time": "2024-03-29T09:22:31.592479300Z",
     "start_time": "2024-03-29T09:22:30.040601500Z"
    }
   },
   "id": "7e8e518b2d139b2c"
  },
  {
   "cell_type": "code",
   "execution_count": 5,
   "outputs": [
    {
     "data": {
      "text/plain": "    index label                        geometry\n0       0   8.5  POINT (316646.610 6514483.163)\n1       1   8.5  POINT (317519.412 6514106.930)\n2       2   8.5  POINT (317663.599 6514682.084)\n3       3   8.5  POINT (317656.452 6515037.918)\n4       4   8.5  POINT (317817.879 6515489.241)\n5       5   8.5  POINT (317431.130 6514889.561)\n6       6   8.5  POINT (317328.323 6514502.463)\n7       7   8.5  POINT (317246.746 6514211.284)\n8       8   8.5  POINT (317505.902 6515612.571)\n9       9   8.5  POINT (316028.091 6515690.731)\n10     10   8.5  POINT (316030.357 6515884.821)\n11     11   8.5  POINT (316239.638 6516535.140)\n12     12   8.5  POINT (316196.922 6516357.634)\n13     13   8.5  POINT (316156.893 6516292.523)\n14     14   8.5  POINT (316052.234 6515916.457)\n15     15   8.5  POINT (317490.346 6515578.422)\n16     16   8.5  POINT (316417.220 6514237.498)\n17     17   8.5  POINT (316435.033 6514276.756)\n18     18   8.5  POINT (317352.383 6517052.299)\n19     19   8.5  POINT (317050.143 6516830.307)\n20     20   8.5  POINT (317685.770 6515716.811)\n21     21   8.5  POINT (316911.799 6514100.841)\n22     22   8.5  POINT (316794.361 6514151.955)\n23     23   8.5  POINT (316725.480 6514539.094)\n24     24   8.5  POINT (316947.323 6514755.892)\n25     25   8.5  POINT (316944.677 6514739.401)\n26     26   8.5  POINT (317081.927 6515161.208)\n27     27   8.5  POINT (317009.808 6515398.997)\n28     28   8.5  POINT (316997.967 6515418.335)\n29     29   8.5  POINT (316676.940 6515515.151)\n30     30   8.5  POINT (316726.867 6515515.432)\n31     31   8.5  POINT (316073.170 6515692.461)\n32     32   8.5  POINT (316265.222 6516551.791)\n33     33   8.5  POINT (317005.812 6516809.170)",
      "text/html": "<div>\n<style scoped>\n    .dataframe tbody tr th:only-of-type {\n        vertical-align: middle;\n    }\n\n    .dataframe tbody tr th {\n        vertical-align: top;\n    }\n\n    .dataframe thead th {\n        text-align: right;\n    }\n</style>\n<table border=\"1\" class=\"dataframe\">\n  <thead>\n    <tr style=\"text-align: right;\">\n      <th></th>\n      <th>index</th>\n      <th>label</th>\n      <th>geometry</th>\n    </tr>\n  </thead>\n  <tbody>\n    <tr>\n      <th>0</th>\n      <td>0</td>\n      <td>8.5</td>\n      <td>POINT (316646.610 6514483.163)</td>\n    </tr>\n    <tr>\n      <th>1</th>\n      <td>1</td>\n      <td>8.5</td>\n      <td>POINT (317519.412 6514106.930)</td>\n    </tr>\n    <tr>\n      <th>2</th>\n      <td>2</td>\n      <td>8.5</td>\n      <td>POINT (317663.599 6514682.084)</td>\n    </tr>\n    <tr>\n      <th>3</th>\n      <td>3</td>\n      <td>8.5</td>\n      <td>POINT (317656.452 6515037.918)</td>\n    </tr>\n    <tr>\n      <th>4</th>\n      <td>4</td>\n      <td>8.5</td>\n      <td>POINT (317817.879 6515489.241)</td>\n    </tr>\n    <tr>\n      <th>5</th>\n      <td>5</td>\n      <td>8.5</td>\n      <td>POINT (317431.130 6514889.561)</td>\n    </tr>\n    <tr>\n      <th>6</th>\n      <td>6</td>\n      <td>8.5</td>\n      <td>POINT (317328.323 6514502.463)</td>\n    </tr>\n    <tr>\n      <th>7</th>\n      <td>7</td>\n      <td>8.5</td>\n      <td>POINT (317246.746 6514211.284)</td>\n    </tr>\n    <tr>\n      <th>8</th>\n      <td>8</td>\n      <td>8.5</td>\n      <td>POINT (317505.902 6515612.571)</td>\n    </tr>\n    <tr>\n      <th>9</th>\n      <td>9</td>\n      <td>8.5</td>\n      <td>POINT (316028.091 6515690.731)</td>\n    </tr>\n    <tr>\n      <th>10</th>\n      <td>10</td>\n      <td>8.5</td>\n      <td>POINT (316030.357 6515884.821)</td>\n    </tr>\n    <tr>\n      <th>11</th>\n      <td>11</td>\n      <td>8.5</td>\n      <td>POINT (316239.638 6516535.140)</td>\n    </tr>\n    <tr>\n      <th>12</th>\n      <td>12</td>\n      <td>8.5</td>\n      <td>POINT (316196.922 6516357.634)</td>\n    </tr>\n    <tr>\n      <th>13</th>\n      <td>13</td>\n      <td>8.5</td>\n      <td>POINT (316156.893 6516292.523)</td>\n    </tr>\n    <tr>\n      <th>14</th>\n      <td>14</td>\n      <td>8.5</td>\n      <td>POINT (316052.234 6515916.457)</td>\n    </tr>\n    <tr>\n      <th>15</th>\n      <td>15</td>\n      <td>8.5</td>\n      <td>POINT (317490.346 6515578.422)</td>\n    </tr>\n    <tr>\n      <th>16</th>\n      <td>16</td>\n      <td>8.5</td>\n      <td>POINT (316417.220 6514237.498)</td>\n    </tr>\n    <tr>\n      <th>17</th>\n      <td>17</td>\n      <td>8.5</td>\n      <td>POINT (316435.033 6514276.756)</td>\n    </tr>\n    <tr>\n      <th>18</th>\n      <td>18</td>\n      <td>8.5</td>\n      <td>POINT (317352.383 6517052.299)</td>\n    </tr>\n    <tr>\n      <th>19</th>\n      <td>19</td>\n      <td>8.5</td>\n      <td>POINT (317050.143 6516830.307)</td>\n    </tr>\n    <tr>\n      <th>20</th>\n      <td>20</td>\n      <td>8.5</td>\n      <td>POINT (317685.770 6515716.811)</td>\n    </tr>\n    <tr>\n      <th>21</th>\n      <td>21</td>\n      <td>8.5</td>\n      <td>POINT (316911.799 6514100.841)</td>\n    </tr>\n    <tr>\n      <th>22</th>\n      <td>22</td>\n      <td>8.5</td>\n      <td>POINT (316794.361 6514151.955)</td>\n    </tr>\n    <tr>\n      <th>23</th>\n      <td>23</td>\n      <td>8.5</td>\n      <td>POINT (316725.480 6514539.094)</td>\n    </tr>\n    <tr>\n      <th>24</th>\n      <td>24</td>\n      <td>8.5</td>\n      <td>POINT (316947.323 6514755.892)</td>\n    </tr>\n    <tr>\n      <th>25</th>\n      <td>25</td>\n      <td>8.5</td>\n      <td>POINT (316944.677 6514739.401)</td>\n    </tr>\n    <tr>\n      <th>26</th>\n      <td>26</td>\n      <td>8.5</td>\n      <td>POINT (317081.927 6515161.208)</td>\n    </tr>\n    <tr>\n      <th>27</th>\n      <td>27</td>\n      <td>8.5</td>\n      <td>POINT (317009.808 6515398.997)</td>\n    </tr>\n    <tr>\n      <th>28</th>\n      <td>28</td>\n      <td>8.5</td>\n      <td>POINT (316997.967 6515418.335)</td>\n    </tr>\n    <tr>\n      <th>29</th>\n      <td>29</td>\n      <td>8.5</td>\n      <td>POINT (316676.940 6515515.151)</td>\n    </tr>\n    <tr>\n      <th>30</th>\n      <td>30</td>\n      <td>8.5</td>\n      <td>POINT (316726.867 6515515.432)</td>\n    </tr>\n    <tr>\n      <th>31</th>\n      <td>31</td>\n      <td>8.5</td>\n      <td>POINT (316073.170 6515692.461)</td>\n    </tr>\n    <tr>\n      <th>32</th>\n      <td>32</td>\n      <td>8.5</td>\n      <td>POINT (316265.222 6516551.791)</td>\n    </tr>\n    <tr>\n      <th>33</th>\n      <td>33</td>\n      <td>8.5</td>\n      <td>POINT (317005.812 6516809.170)</td>\n    </tr>\n  </tbody>\n</table>\n</div>"
     },
     "execution_count": 5,
     "metadata": {},
     "output_type": "execute_result"
    }
   ],
   "source": [
    "row = devided_routes.loc[\"8.5\"]\n",
    "city_crs = 32636\n",
    "geometry_list = row[\"geometry\"]\n",
    "test_gdf = gpd.GeoDataFrame(data={\"label\": [\"8.5\" for _ in geometry_list], \"geometry\": geometry_list})\n",
    "test_gdf = test_gdf.set_crs(4326)\n",
    "test_gdf = test_gdf.to_crs(city_crs)\n",
    "test_gdf = test_gdf.reset_index()\n",
    "test_gdf\n"
   ],
   "metadata": {
    "collapsed": false,
    "ExecuteTime": {
     "end_time": "2024-03-29T10:03:18.171375300Z",
     "start_time": "2024-03-29T10:03:18.050091800Z"
    }
   },
   "id": "33d04ebf9c4d1d4b"
  },
  {
   "cell_type": "markdown",
   "source": [
    "project stops and create new graph"
   ],
   "metadata": {
    "collapsed": false
   },
   "id": "7ea27cf6d9106239"
  },
  {
   "cell_type": "markdown",
   "source": [
    "ПЕРЕНЕС"
   ],
   "metadata": {
    "collapsed": false
   },
   "id": "566e10bd0a9084d7"
  },
  {
   "cell_type": "code",
   "execution_count": 6,
   "outputs": [
    {
     "data": {
      "text/plain": "    index label                        geometry  index_right    u    v  key  \\\n0       0   8.5  POINT (316646.610 6514483.163)          370   63   42    0   \n1       1   8.5  POINT (317519.412 6514106.930)           32    2  150    0   \n2       2   8.5  POINT (317663.599 6514682.084)          202   19    4    0   \n3       3   8.5  POINT (317656.452 6515037.918)          234  314    8    0   \n4       4   8.5  POINT (317817.879 6515489.241)           87   18   22    0   \n5       5   8.5  POINT (317431.130 6514889.561)           64    5  219    0   \n6       6   8.5  POINT (317328.323 6514502.463)           70  219  149    0   \n7       7   8.5  POINT (317246.746 6514211.284)          926  149    1    0   \n8       8   8.5  POINT (317505.902 6515612.571)          219   21  274    0   \n9       9   8.5  POINT (316028.091 6515690.731)          256   26  360    0   \n10     10   8.5  POINT (316030.357 6515884.821)          259  357   26    0   \n11     11   8.5  POINT (316239.638 6516535.140)          285  209  200    0   \n12     12   8.5  POINT (316196.922 6516357.634)         1035  200  209    0   \n13     13   8.5  POINT (316156.893 6516292.523)         1033  200  357    0   \n14     14   8.5  POINT (316052.234 6515916.457)          258  357  200    0   \n15     15   8.5  POINT (317490.346 6515578.422)           84  274    7    0   \n16     16   8.5  POINT (316417.220 6514237.498)          324   38   39    0   \n17     17   8.5  POINT (316435.033 6514276.756)          321   38   42    0   \n18     18   8.5  POINT (317352.383 6517052.299)          125   12   76    0   \n19     19   8.5  POINT (317050.143 6516830.307)          547  101  209    0   \n20     20   8.5  POINT (317685.770 6515716.811)          225  315   21    0   \n21     21   8.5  POINT (316911.799 6514100.841)            1    0  264    0   \n22     22   8.5  POINT (316794.361 6514151.955)            2    0   41    0   \n23     23   8.5  POINT (316725.480 6514539.094)          369   63   59    0   \n24     24   8.5  POINT (316947.323 6514755.892)          474   94   59    0   \n25     25   8.5  POINT (316944.677 6514739.401)          467   59   94    0   \n26     26   8.5  POINT (317081.927 6515161.208)          876  126  167    0   \n27     27   8.5  POINT (317009.808 6515398.997)          527   75   96    0   \n28     28   8.5  POINT (316997.967 6515418.335)          244   96   75    0   \n29     29   8.5  POINT (316676.940 6515515.151)          872  190  123    0   \n30     30   8.5  POINT (316726.867 6515515.432)          714  123  190    0   \n31     31   8.5  POINT (316073.170 6515692.461)          262  360   26    0   \n32     32   8.5  POINT (316265.222 6516551.791)         1035  200  209    0   \n33     33   8.5  POINT (317005.812 6516809.170)          284  209  101    0   \n\n    length_meter type  time_min       dist  \n0        200.473  car      0.71   3.806132  \n1        236.390  car      0.83   4.829858  \n2        184.469  car      0.65   3.319083  \n3        112.972  car      0.40  14.377155  \n4        372.057  car      1.31   1.010399  \n5        131.615  car      0.46   5.770847  \n6        614.199  car      2.17   8.316723  \n7        232.238  car      0.82   8.156357  \n8        177.763  car      0.63  25.440546  \n9        362.026  car      1.28   4.566709  \n10       196.782  car      0.69   5.669879  \n11       434.002  car      1.53   7.964529  \n12       434.002  car      1.53   1.914381  \n13       457.665  car      1.62   9.192209  \n14       457.665  car      1.62   2.394770  \n15       314.171  car      1.11  29.665984  \n16        93.788  car      0.33   3.240434  \n17       184.768  car      0.65   0.958613  \n18       391.182  car      1.38   5.337936  \n19       829.346  car      2.93   1.879589  \n20       158.664  car      0.56   3.671326  \n21       208.401  car      0.74   5.131111  \n22       108.975  car      0.38   1.830629  \n23       230.671  car      0.81   1.700882  \n24       180.966  car      0.64   0.902416  \n25       180.966  car      0.64   3.683450  \n26        30.393  car      0.11   6.007997  \n27       115.428  car      0.41   3.142853  \n28       115.428  car      0.41   4.593666  \n29       123.403  car      0.44   4.727052  \n30       123.403  car      0.44   3.577033  \n31       362.026  car      1.28   5.669973  \n32       434.002  car      1.53   3.861343  \n33       829.346  car      2.93   5.309398  ",
      "text/html": "<div>\n<style scoped>\n    .dataframe tbody tr th:only-of-type {\n        vertical-align: middle;\n    }\n\n    .dataframe tbody tr th {\n        vertical-align: top;\n    }\n\n    .dataframe thead th {\n        text-align: right;\n    }\n</style>\n<table border=\"1\" class=\"dataframe\">\n  <thead>\n    <tr style=\"text-align: right;\">\n      <th></th>\n      <th>index</th>\n      <th>label</th>\n      <th>geometry</th>\n      <th>index_right</th>\n      <th>u</th>\n      <th>v</th>\n      <th>key</th>\n      <th>length_meter</th>\n      <th>type</th>\n      <th>time_min</th>\n      <th>dist</th>\n    </tr>\n  </thead>\n  <tbody>\n    <tr>\n      <th>0</th>\n      <td>0</td>\n      <td>8.5</td>\n      <td>POINT (316646.610 6514483.163)</td>\n      <td>370</td>\n      <td>63</td>\n      <td>42</td>\n      <td>0</td>\n      <td>200.473</td>\n      <td>car</td>\n      <td>0.71</td>\n      <td>3.806132</td>\n    </tr>\n    <tr>\n      <th>1</th>\n      <td>1</td>\n      <td>8.5</td>\n      <td>POINT (317519.412 6514106.930)</td>\n      <td>32</td>\n      <td>2</td>\n      <td>150</td>\n      <td>0</td>\n      <td>236.390</td>\n      <td>car</td>\n      <td>0.83</td>\n      <td>4.829858</td>\n    </tr>\n    <tr>\n      <th>2</th>\n      <td>2</td>\n      <td>8.5</td>\n      <td>POINT (317663.599 6514682.084)</td>\n      <td>202</td>\n      <td>19</td>\n      <td>4</td>\n      <td>0</td>\n      <td>184.469</td>\n      <td>car</td>\n      <td>0.65</td>\n      <td>3.319083</td>\n    </tr>\n    <tr>\n      <th>3</th>\n      <td>3</td>\n      <td>8.5</td>\n      <td>POINT (317656.452 6515037.918)</td>\n      <td>234</td>\n      <td>314</td>\n      <td>8</td>\n      <td>0</td>\n      <td>112.972</td>\n      <td>car</td>\n      <td>0.40</td>\n      <td>14.377155</td>\n    </tr>\n    <tr>\n      <th>4</th>\n      <td>4</td>\n      <td>8.5</td>\n      <td>POINT (317817.879 6515489.241)</td>\n      <td>87</td>\n      <td>18</td>\n      <td>22</td>\n      <td>0</td>\n      <td>372.057</td>\n      <td>car</td>\n      <td>1.31</td>\n      <td>1.010399</td>\n    </tr>\n    <tr>\n      <th>5</th>\n      <td>5</td>\n      <td>8.5</td>\n      <td>POINT (317431.130 6514889.561)</td>\n      <td>64</td>\n      <td>5</td>\n      <td>219</td>\n      <td>0</td>\n      <td>131.615</td>\n      <td>car</td>\n      <td>0.46</td>\n      <td>5.770847</td>\n    </tr>\n    <tr>\n      <th>6</th>\n      <td>6</td>\n      <td>8.5</td>\n      <td>POINT (317328.323 6514502.463)</td>\n      <td>70</td>\n      <td>219</td>\n      <td>149</td>\n      <td>0</td>\n      <td>614.199</td>\n      <td>car</td>\n      <td>2.17</td>\n      <td>8.316723</td>\n    </tr>\n    <tr>\n      <th>7</th>\n      <td>7</td>\n      <td>8.5</td>\n      <td>POINT (317246.746 6514211.284)</td>\n      <td>926</td>\n      <td>149</td>\n      <td>1</td>\n      <td>0</td>\n      <td>232.238</td>\n      <td>car</td>\n      <td>0.82</td>\n      <td>8.156357</td>\n    </tr>\n    <tr>\n      <th>8</th>\n      <td>8</td>\n      <td>8.5</td>\n      <td>POINT (317505.902 6515612.571)</td>\n      <td>219</td>\n      <td>21</td>\n      <td>274</td>\n      <td>0</td>\n      <td>177.763</td>\n      <td>car</td>\n      <td>0.63</td>\n      <td>25.440546</td>\n    </tr>\n    <tr>\n      <th>9</th>\n      <td>9</td>\n      <td>8.5</td>\n      <td>POINT (316028.091 6515690.731)</td>\n      <td>256</td>\n      <td>26</td>\n      <td>360</td>\n      <td>0</td>\n      <td>362.026</td>\n      <td>car</td>\n      <td>1.28</td>\n      <td>4.566709</td>\n    </tr>\n    <tr>\n      <th>10</th>\n      <td>10</td>\n      <td>8.5</td>\n      <td>POINT (316030.357 6515884.821)</td>\n      <td>259</td>\n      <td>357</td>\n      <td>26</td>\n      <td>0</td>\n      <td>196.782</td>\n      <td>car</td>\n      <td>0.69</td>\n      <td>5.669879</td>\n    </tr>\n    <tr>\n      <th>11</th>\n      <td>11</td>\n      <td>8.5</td>\n      <td>POINT (316239.638 6516535.140)</td>\n      <td>285</td>\n      <td>209</td>\n      <td>200</td>\n      <td>0</td>\n      <td>434.002</td>\n      <td>car</td>\n      <td>1.53</td>\n      <td>7.964529</td>\n    </tr>\n    <tr>\n      <th>12</th>\n      <td>12</td>\n      <td>8.5</td>\n      <td>POINT (316196.922 6516357.634)</td>\n      <td>1035</td>\n      <td>200</td>\n      <td>209</td>\n      <td>0</td>\n      <td>434.002</td>\n      <td>car</td>\n      <td>1.53</td>\n      <td>1.914381</td>\n    </tr>\n    <tr>\n      <th>13</th>\n      <td>13</td>\n      <td>8.5</td>\n      <td>POINT (316156.893 6516292.523)</td>\n      <td>1033</td>\n      <td>200</td>\n      <td>357</td>\n      <td>0</td>\n      <td>457.665</td>\n      <td>car</td>\n      <td>1.62</td>\n      <td>9.192209</td>\n    </tr>\n    <tr>\n      <th>14</th>\n      <td>14</td>\n      <td>8.5</td>\n      <td>POINT (316052.234 6515916.457)</td>\n      <td>258</td>\n      <td>357</td>\n      <td>200</td>\n      <td>0</td>\n      <td>457.665</td>\n      <td>car</td>\n      <td>1.62</td>\n      <td>2.394770</td>\n    </tr>\n    <tr>\n      <th>15</th>\n      <td>15</td>\n      <td>8.5</td>\n      <td>POINT (317490.346 6515578.422)</td>\n      <td>84</td>\n      <td>274</td>\n      <td>7</td>\n      <td>0</td>\n      <td>314.171</td>\n      <td>car</td>\n      <td>1.11</td>\n      <td>29.665984</td>\n    </tr>\n    <tr>\n      <th>16</th>\n      <td>16</td>\n      <td>8.5</td>\n      <td>POINT (316417.220 6514237.498)</td>\n      <td>324</td>\n      <td>38</td>\n      <td>39</td>\n      <td>0</td>\n      <td>93.788</td>\n      <td>car</td>\n      <td>0.33</td>\n      <td>3.240434</td>\n    </tr>\n    <tr>\n      <th>17</th>\n      <td>17</td>\n      <td>8.5</td>\n      <td>POINT (316435.033 6514276.756)</td>\n      <td>321</td>\n      <td>38</td>\n      <td>42</td>\n      <td>0</td>\n      <td>184.768</td>\n      <td>car</td>\n      <td>0.65</td>\n      <td>0.958613</td>\n    </tr>\n    <tr>\n      <th>18</th>\n      <td>18</td>\n      <td>8.5</td>\n      <td>POINT (317352.383 6517052.299)</td>\n      <td>125</td>\n      <td>12</td>\n      <td>76</td>\n      <td>0</td>\n      <td>391.182</td>\n      <td>car</td>\n      <td>1.38</td>\n      <td>5.337936</td>\n    </tr>\n    <tr>\n      <th>19</th>\n      <td>19</td>\n      <td>8.5</td>\n      <td>POINT (317050.143 6516830.307)</td>\n      <td>547</td>\n      <td>101</td>\n      <td>209</td>\n      <td>0</td>\n      <td>829.346</td>\n      <td>car</td>\n      <td>2.93</td>\n      <td>1.879589</td>\n    </tr>\n    <tr>\n      <th>20</th>\n      <td>20</td>\n      <td>8.5</td>\n      <td>POINT (317685.770 6515716.811)</td>\n      <td>225</td>\n      <td>315</td>\n      <td>21</td>\n      <td>0</td>\n      <td>158.664</td>\n      <td>car</td>\n      <td>0.56</td>\n      <td>3.671326</td>\n    </tr>\n    <tr>\n      <th>21</th>\n      <td>21</td>\n      <td>8.5</td>\n      <td>POINT (316911.799 6514100.841)</td>\n      <td>1</td>\n      <td>0</td>\n      <td>264</td>\n      <td>0</td>\n      <td>208.401</td>\n      <td>car</td>\n      <td>0.74</td>\n      <td>5.131111</td>\n    </tr>\n    <tr>\n      <th>22</th>\n      <td>22</td>\n      <td>8.5</td>\n      <td>POINT (316794.361 6514151.955)</td>\n      <td>2</td>\n      <td>0</td>\n      <td>41</td>\n      <td>0</td>\n      <td>108.975</td>\n      <td>car</td>\n      <td>0.38</td>\n      <td>1.830629</td>\n    </tr>\n    <tr>\n      <th>23</th>\n      <td>23</td>\n      <td>8.5</td>\n      <td>POINT (316725.480 6514539.094)</td>\n      <td>369</td>\n      <td>63</td>\n      <td>59</td>\n      <td>0</td>\n      <td>230.671</td>\n      <td>car</td>\n      <td>0.81</td>\n      <td>1.700882</td>\n    </tr>\n    <tr>\n      <th>24</th>\n      <td>24</td>\n      <td>8.5</td>\n      <td>POINT (316947.323 6514755.892)</td>\n      <td>474</td>\n      <td>94</td>\n      <td>59</td>\n      <td>0</td>\n      <td>180.966</td>\n      <td>car</td>\n      <td>0.64</td>\n      <td>0.902416</td>\n    </tr>\n    <tr>\n      <th>25</th>\n      <td>25</td>\n      <td>8.5</td>\n      <td>POINT (316944.677 6514739.401)</td>\n      <td>467</td>\n      <td>59</td>\n      <td>94</td>\n      <td>0</td>\n      <td>180.966</td>\n      <td>car</td>\n      <td>0.64</td>\n      <td>3.683450</td>\n    </tr>\n    <tr>\n      <th>26</th>\n      <td>26</td>\n      <td>8.5</td>\n      <td>POINT (317081.927 6515161.208)</td>\n      <td>876</td>\n      <td>126</td>\n      <td>167</td>\n      <td>0</td>\n      <td>30.393</td>\n      <td>car</td>\n      <td>0.11</td>\n      <td>6.007997</td>\n    </tr>\n    <tr>\n      <th>27</th>\n      <td>27</td>\n      <td>8.5</td>\n      <td>POINT (317009.808 6515398.997)</td>\n      <td>527</td>\n      <td>75</td>\n      <td>96</td>\n      <td>0</td>\n      <td>115.428</td>\n      <td>car</td>\n      <td>0.41</td>\n      <td>3.142853</td>\n    </tr>\n    <tr>\n      <th>28</th>\n      <td>28</td>\n      <td>8.5</td>\n      <td>POINT (316997.967 6515418.335)</td>\n      <td>244</td>\n      <td>96</td>\n      <td>75</td>\n      <td>0</td>\n      <td>115.428</td>\n      <td>car</td>\n      <td>0.41</td>\n      <td>4.593666</td>\n    </tr>\n    <tr>\n      <th>29</th>\n      <td>29</td>\n      <td>8.5</td>\n      <td>POINT (316676.940 6515515.151)</td>\n      <td>872</td>\n      <td>190</td>\n      <td>123</td>\n      <td>0</td>\n      <td>123.403</td>\n      <td>car</td>\n      <td>0.44</td>\n      <td>4.727052</td>\n    </tr>\n    <tr>\n      <th>30</th>\n      <td>30</td>\n      <td>8.5</td>\n      <td>POINT (316726.867 6515515.432)</td>\n      <td>714</td>\n      <td>123</td>\n      <td>190</td>\n      <td>0</td>\n      <td>123.403</td>\n      <td>car</td>\n      <td>0.44</td>\n      <td>3.577033</td>\n    </tr>\n    <tr>\n      <th>31</th>\n      <td>31</td>\n      <td>8.5</td>\n      <td>POINT (316073.170 6515692.461)</td>\n      <td>262</td>\n      <td>360</td>\n      <td>26</td>\n      <td>0</td>\n      <td>362.026</td>\n      <td>car</td>\n      <td>1.28</td>\n      <td>5.669973</td>\n    </tr>\n    <tr>\n      <th>32</th>\n      <td>32</td>\n      <td>8.5</td>\n      <td>POINT (316265.222 6516551.791)</td>\n      <td>1035</td>\n      <td>200</td>\n      <td>209</td>\n      <td>0</td>\n      <td>434.002</td>\n      <td>car</td>\n      <td>1.53</td>\n      <td>3.861343</td>\n    </tr>\n    <tr>\n      <th>33</th>\n      <td>33</td>\n      <td>8.5</td>\n      <td>POINT (317005.812 6516809.170)</td>\n      <td>284</td>\n      <td>209</td>\n      <td>101</td>\n      <td>0</td>\n      <td>829.346</td>\n      <td>car</td>\n      <td>2.93</td>\n      <td>5.309398</td>\n    </tr>\n  </tbody>\n</table>\n</div>"
     },
     "execution_count": 6,
     "metadata": {},
     "output_type": "execute_result"
    }
   ],
   "source": [
    "import networkx as nx\n",
    "import osmnx as ox\n",
    "from shapely import from_wkt, LineString, Point\n",
    "import geopandas as gpd\n",
    "\n",
    "nx_graph = nx.read_graphml(\"graph_for_test.graphml\")\n",
    "gdf_nodes, gdf_edges = ox.graph_to_gdfs(nx_graph)\n",
    "gdf_edges: gpd.GeoDataFrame = gdf_edges.reset_index()\n",
    "gdf_buffer = gdf_edges.copy()\n",
    "gdf_buffer[\"geometry\"] = gdf_buffer[\"geometry\"].apply(lambda x: LineString(x).buffer(-3, single_sided=True))\n",
    "join = gpd.sjoin_nearest(test_gdf, gdf_buffer, distance_col=\"dist\", how=\"inner\")\n",
    "join"
   ],
   "metadata": {
    "collapsed": false,
    "ExecuteTime": {
     "end_time": "2024-03-29T10:03:45.481133400Z",
     "start_time": "2024-03-29T10:03:44.789114700Z"
    }
   },
   "id": "f71e2f53dd168175"
  },
  {
   "cell_type": "markdown",
   "source": [],
   "metadata": {
    "collapsed": false
   },
   "id": "894e55bdcaae7499"
  },
  {
   "cell_type": "markdown",
   "source": [
    "ПЕРЕНЕСЕНО"
   ],
   "metadata": {
    "collapsed": false
   },
   "id": "346be3c0d866ace5"
  },
  {
   "cell_type": "code",
   "execution_count": 84,
   "outputs": [
    {
     "data": {
      "text/plain": "                    edge                                           geometry\n0   (1033_8.5, 200, 357)     [POINT (316168.41619507485 6516288.538994102)]\n1   (1035_8.5, 200, 209)  [POINT (316192.2542079082 6516359.172764772), ...\n2      (125_8.5, 12, 76)      [POINT (317360.4248681884 6517050.096409712)]\n3        (1_8.5, 0, 264)     [POINT (316914.7157165199 6514108.4316457575)]\n4       (202_8.5, 19, 4)      [POINT (317657.4653274753 6514683.602697591)]\n5     (219_8.5, 21, 274)     [POINT (317533.25234776846 6515604.773159838)]\n6     (225_8.5, 315, 21)      [POINT (317683.3525301027 6515710.593385909)]\n7      (234_8.5, 314, 8)      [POINT (317640.1687647791 6515043.985640216)]\n8      (244_8.5, 96, 75)     [POINT (316995.21702391224 6515411.257270565)]\n9     (256_8.5, 26, 360)     [POINT (316030.59804009995 6515697.870688187)]\n10   (258_8.5, 357, 200)      [POINT (316046.9781284755 6515917.671904239)]\n11    (259_8.5, 357, 26)                     [POINT (316038.79 6515882.81)]\n12    (262_8.5, 360, 26)     [POINT (316071.19894725614 6515684.017911074)]\n13   (284_8.5, 209, 101)    [POINT (317004.70059549407 6516817.4051294755)]\n14   (285_8.5, 209, 200)      [POINT (316249.8662605911 6516531.190315409)]\n15        (2_8.5, 0, 41)      [POINT (316793.0767712829 6514147.298132867)]\n16     (321_8.5, 38, 42)       [POINT (316432.306551982 6514279.626223255)]\n17     (324_8.5, 38, 39)     [POINT (316418.81139313936 6514243.532269449)]\n18      (32_8.5, 2, 150)      [POINT (317511.8248325282 6514108.866492845)]\n19     (369_8.5, 63, 59)      [POINT (316722.2585989391 6514542.518088938)]\n20     (370_8.5, 63, 42)     [POINT (316651.07651155966 6514478.026966341)]\n21     (467_8.5, 59, 94)     [POINT (316940.24383092695 6514744.402259231)]\n22     (474_8.5, 94, 59)    [POINT (316949.91133686726 6514752.9711848805)]\n23     (527_8.5, 75, 96)     [POINT (317012.0333380167 6515404.7225887915)]\n24   (547_8.5, 101, 209)     [POINT (317051.01732202235 6516825.506513939)]\n25      (64_8.5, 5, 219)       [POINT (317439.6073455325 6514887.31000488)]\n26    (70_8.5, 219, 149)      [POINT (317339.3060203759 6514499.734664751)]\n27   (714_8.5, 123, 190)       [POINT (316724.9300910751 6515509.14688949)]\n28      (84_8.5, 274, 7)      [POINT (317521.5352623322 6515568.712000099)]\n29   (872_8.5, 190, 123)      [POINT (316679.0942503076 6515522.571669084)]\n30   (876_8.5, 126, 167)      [POINT (317090.568637345 6515158.6653687935)]\n31      (87_8.5, 18, 22)      [POINT (317814.1559538966 6515490.733136549)]\n32     (926_8.5, 149, 1)     [POINT (317257.50780811923 6514208.341981867)]",
      "text/html": "<div>\n<style scoped>\n    .dataframe tbody tr th:only-of-type {\n        vertical-align: middle;\n    }\n\n    .dataframe tbody tr th {\n        vertical-align: top;\n    }\n\n    .dataframe thead th {\n        text-align: right;\n    }\n</style>\n<table border=\"1\" class=\"dataframe\">\n  <thead>\n    <tr style=\"text-align: right;\">\n      <th></th>\n      <th>edge</th>\n      <th>geometry</th>\n    </tr>\n  </thead>\n  <tbody>\n    <tr>\n      <th>0</th>\n      <td>(1033_8.5, 200, 357)</td>\n      <td>[POINT (316168.41619507485 6516288.538994102)]</td>\n    </tr>\n    <tr>\n      <th>1</th>\n      <td>(1035_8.5, 200, 209)</td>\n      <td>[POINT (316192.2542079082 6516359.172764772), ...</td>\n    </tr>\n    <tr>\n      <th>2</th>\n      <td>(125_8.5, 12, 76)</td>\n      <td>[POINT (317360.4248681884 6517050.096409712)]</td>\n    </tr>\n    <tr>\n      <th>3</th>\n      <td>(1_8.5, 0, 264)</td>\n      <td>[POINT (316914.7157165199 6514108.4316457575)]</td>\n    </tr>\n    <tr>\n      <th>4</th>\n      <td>(202_8.5, 19, 4)</td>\n      <td>[POINT (317657.4653274753 6514683.602697591)]</td>\n    </tr>\n    <tr>\n      <th>5</th>\n      <td>(219_8.5, 21, 274)</td>\n      <td>[POINT (317533.25234776846 6515604.773159838)]</td>\n    </tr>\n    <tr>\n      <th>6</th>\n      <td>(225_8.5, 315, 21)</td>\n      <td>[POINT (317683.3525301027 6515710.593385909)]</td>\n    </tr>\n    <tr>\n      <th>7</th>\n      <td>(234_8.5, 314, 8)</td>\n      <td>[POINT (317640.1687647791 6515043.985640216)]</td>\n    </tr>\n    <tr>\n      <th>8</th>\n      <td>(244_8.5, 96, 75)</td>\n      <td>[POINT (316995.21702391224 6515411.257270565)]</td>\n    </tr>\n    <tr>\n      <th>9</th>\n      <td>(256_8.5, 26, 360)</td>\n      <td>[POINT (316030.59804009995 6515697.870688187)]</td>\n    </tr>\n    <tr>\n      <th>10</th>\n      <td>(258_8.5, 357, 200)</td>\n      <td>[POINT (316046.9781284755 6515917.671904239)]</td>\n    </tr>\n    <tr>\n      <th>11</th>\n      <td>(259_8.5, 357, 26)</td>\n      <td>[POINT (316038.79 6515882.81)]</td>\n    </tr>\n    <tr>\n      <th>12</th>\n      <td>(262_8.5, 360, 26)</td>\n      <td>[POINT (316071.19894725614 6515684.017911074)]</td>\n    </tr>\n    <tr>\n      <th>13</th>\n      <td>(284_8.5, 209, 101)</td>\n      <td>[POINT (317004.70059549407 6516817.4051294755)]</td>\n    </tr>\n    <tr>\n      <th>14</th>\n      <td>(285_8.5, 209, 200)</td>\n      <td>[POINT (316249.8662605911 6516531.190315409)]</td>\n    </tr>\n    <tr>\n      <th>15</th>\n      <td>(2_8.5, 0, 41)</td>\n      <td>[POINT (316793.0767712829 6514147.298132867)]</td>\n    </tr>\n    <tr>\n      <th>16</th>\n      <td>(321_8.5, 38, 42)</td>\n      <td>[POINT (316432.306551982 6514279.626223255)]</td>\n    </tr>\n    <tr>\n      <th>17</th>\n      <td>(324_8.5, 38, 39)</td>\n      <td>[POINT (316418.81139313936 6514243.532269449)]</td>\n    </tr>\n    <tr>\n      <th>18</th>\n      <td>(32_8.5, 2, 150)</td>\n      <td>[POINT (317511.8248325282 6514108.866492845)]</td>\n    </tr>\n    <tr>\n      <th>19</th>\n      <td>(369_8.5, 63, 59)</td>\n      <td>[POINT (316722.2585989391 6514542.518088938)]</td>\n    </tr>\n    <tr>\n      <th>20</th>\n      <td>(370_8.5, 63, 42)</td>\n      <td>[POINT (316651.07651155966 6514478.026966341)]</td>\n    </tr>\n    <tr>\n      <th>21</th>\n      <td>(467_8.5, 59, 94)</td>\n      <td>[POINT (316940.24383092695 6514744.402259231)]</td>\n    </tr>\n    <tr>\n      <th>22</th>\n      <td>(474_8.5, 94, 59)</td>\n      <td>[POINT (316949.91133686726 6514752.9711848805)]</td>\n    </tr>\n    <tr>\n      <th>23</th>\n      <td>(527_8.5, 75, 96)</td>\n      <td>[POINT (317012.0333380167 6515404.7225887915)]</td>\n    </tr>\n    <tr>\n      <th>24</th>\n      <td>(547_8.5, 101, 209)</td>\n      <td>[POINT (317051.01732202235 6516825.506513939)]</td>\n    </tr>\n    <tr>\n      <th>25</th>\n      <td>(64_8.5, 5, 219)</td>\n      <td>[POINT (317439.6073455325 6514887.31000488)]</td>\n    </tr>\n    <tr>\n      <th>26</th>\n      <td>(70_8.5, 219, 149)</td>\n      <td>[POINT (317339.3060203759 6514499.734664751)]</td>\n    </tr>\n    <tr>\n      <th>27</th>\n      <td>(714_8.5, 123, 190)</td>\n      <td>[POINT (316724.9300910751 6515509.14688949)]</td>\n    </tr>\n    <tr>\n      <th>28</th>\n      <td>(84_8.5, 274, 7)</td>\n      <td>[POINT (317521.5352623322 6515568.712000099)]</td>\n    </tr>\n    <tr>\n      <th>29</th>\n      <td>(872_8.5, 190, 123)</td>\n      <td>[POINT (316679.0942503076 6515522.571669084)]</td>\n    </tr>\n    <tr>\n      <th>30</th>\n      <td>(876_8.5, 126, 167)</td>\n      <td>[POINT (317090.568637345 6515158.6653687935)]</td>\n    </tr>\n    <tr>\n      <th>31</th>\n      <td>(87_8.5, 18, 22)</td>\n      <td>[POINT (317814.1559538966 6515490.733136549)]</td>\n    </tr>\n    <tr>\n      <th>32</th>\n      <td>(926_8.5, 149, 1)</td>\n      <td>[POINT (317257.50780811923 6514208.341981867)]</td>\n    </tr>\n  </tbody>\n</table>\n</div>"
     },
     "execution_count": 84,
     "metadata": {},
     "output_type": "execute_result"
    }
   ],
   "source": [
    "points = pd.DataFrame(data=None)\n",
    "for index, row in join.iterrows():\n",
    "    point: Point = row[\"geometry\"]\n",
    "    edges_to_delete, start, end = row[[\"index_right\", \"u\", \"v\"]]\n",
    "    line: LineString = gdf_edges.loc[edges_to_delete, \"geometry\"]\n",
    "    nearest_point = line.interpolate(line.project(point))\n",
    "    data = (str(edges_to_delete) + '_' + row[\"label\"], start, end)\n",
    "    points = pd.concat(\n",
    "        [points, pd.DataFrame(\n",
    "            {\"edge\": [data], \"geometry\": [nearest_point]})])\n",
    "points = points.groupby('edge')['geometry'].apply(list).reset_index()\n",
    "# points = gpd.GeoDataFrame(data=points,geometry=\"geometry\",crs=city_crs)\n",
    "# points.to_file(\"projected_normalized.geojson\")\n",
    "points"
   ],
   "metadata": {
    "collapsed": false,
    "ExecuteTime": {
     "end_time": "2024-03-27T13:34:54.747889400Z",
     "start_time": "2024-03-27T13:34:54.667514500Z"
    }
   },
   "id": "7ae508a4453ae2c7"
  },
  {
   "cell_type": "markdown",
   "source": [
    "ПЕРЕНЕСЕНО"
   ],
   "metadata": {
    "collapsed": false
   },
   "id": "16a17e85c26d6175"
  },
  {
   "cell_type": "code",
   "execution_count": 85,
   "outputs": [
    {
     "data": {
      "text/plain": "[('1033_8.5', '200', '357'),\n ('1035_8.5_1', '200', '209'),\n ('1035_8.5_2', '1035_8.5_1', '209'),\n ('125_8.5', '12', '76'),\n ('1_8.5', '0', '264'),\n ('202_8.5', '19', '4'),\n ('219_8.5', '21', '274'),\n ('225_8.5', '315', '21'),\n ('234_8.5', '314', '8'),\n ('244_8.5', '96', '75'),\n ('256_8.5', '26', '360'),\n ('258_8.5', '357', '200'),\n ('259_8.5', '357', '26'),\n ('262_8.5', '360', '26'),\n ('284_8.5', '209', '101'),\n ('285_8.5', '209', '200'),\n ('2_8.5', '0', '41'),\n ('321_8.5', '38', '42'),\n ('324_8.5', '38', '39'),\n ('32_8.5', '2', '150'),\n ('369_8.5', '63', '59'),\n ('370_8.5', '63', '42'),\n ('467_8.5', '59', '94'),\n ('474_8.5', '94', '59'),\n ('527_8.5', '75', '96'),\n ('547_8.5', '101', '209'),\n ('64_8.5', '5', '219'),\n ('70_8.5', '219', '149'),\n ('714_8.5', '123', '190'),\n ('84_8.5', '274', '7'),\n ('872_8.5', '190', '123'),\n ('876_8.5', '126', '167'),\n ('87_8.5', '18', '22'),\n ('926_8.5', '149', '1')]"
     },
     "execution_count": 85,
     "metadata": {},
     "output_type": "execute_result"
    }
   ],
   "source": [
    "from shapely import Point\n",
    "from shapely.ops import split\n",
    "\n",
    "new_graph: nx.MultiDiGraph = nx_graph.copy()\n",
    "route_nodes = []\n",
    "for _, row in points.iterrows():\n",
    "    label, start, end = row[\"edge\"]\n",
    "    new_points = (row['geometry'].copy())\n",
    "    postfix = 1\n",
    "    current_edge = new_graph.get_edge_data(start, end)[0]['geometry']\n",
    "    current_node = nx_graph.nodes[start]\n",
    "    current_node = Point(current_node['x'], current_node['y'])\n",
    "    length = len(new_points)\n",
    "\n",
    "    while len(new_points) > 0:\n",
    "        new_node = min(new_points, key=current_node.distance)\n",
    "\n",
    "        new_node_name = label + (('_' + str(postfix)) if length > 1 else \"\")\n",
    "        route_nodes.append((new_node_name, start, end))\n",
    "        new_graph.add_node(new_node_name, x=new_node.x, y=new_node.y, desc=\"bus_stop\")\n",
    "\n",
    "        first, _, second = split(current_edge, new_node.buffer(0.0001)).geoms\n",
    "\n",
    "        new_edge = LineString(list(first.coords[:-1]) + list(new_node.coords))\n",
    "        new_graph.add_edge(start, new_node_name, length_meter=new_edge.length, geometry=new_edge)\n",
    "\n",
    "        start = new_node_name\n",
    "        current_edge = LineString(list(new_node.coords) + list(second.coords[1:]))\n",
    "        current_node = new_node\n",
    "        new_points.remove(new_node)\n",
    "        postfix = postfix + 1\n",
    "\n",
    "    new_graph.add_edge(new_node_name, end, length_meter=current_edge.length, geometry=current_edge)\n",
    "route_nodes"
   ],
   "metadata": {
    "collapsed": false,
    "ExecuteTime": {
     "end_time": "2024-03-27T13:34:59.158065600Z",
     "start_time": "2024-03-27T13:34:59.058259600Z"
    }
   },
   "id": "2a5b9e126ec9b143"
  },
  {
   "cell_type": "markdown",
   "source": [
    "ПЕРЕНЕС"
   ],
   "metadata": {
    "collapsed": false
   },
   "id": "df5aeb8575c89c42"
  },
  {
   "cell_type": "code",
   "execution_count": 98,
   "outputs": [],
   "source": [
    "from src.dongraphio.utils.matrix_utils import get_nx2nk_idmap\n",
    "\n",
    "\n",
    "def get_distance_matrixv2(graph: nx.DiGraph, nodes_from: [], nodes_to: [], path_matrix=False,\n",
    "                          weight: str = 'length_meter') -> (\n",
    "        pd.DataFrame, pd.DataFrame | None):\n",
    "    \n",
    "    mapping = get_nx2nk_idmap(graph)\n",
    "    nk_graph = nk.nxadapter.nx2nk(graph, weight)\n",
    "    \n",
    "    distance_matrix = pd.DataFrame(0, index=nodes_from, columns=nodes_to).astype(object)\n",
    "    if path_matrix:\n",
    "        route_matrix = pd.DataFrame(index=nodes_from, columns=nodes_to)\n",
    "    for source in tqdm(nodes_from, total=len(nodes_from), desc=\"Calculating distances\"):\n",
    "        for dest in nodes_to:\n",
    "            biDij = nk.distance.BidirectionalDijkstra(nk_graph, mapping.get(source), mapping.get(dest), True).run()\n",
    "            path = biDij.getPath()\n",
    "            total_distance = biDij.getDistance()\n",
    "            if path_matrix:\n",
    "                route_matrix.loc[source, dest] = path\n",
    "            distance_matrix.loc[source, dest] = total_distance\n",
    "    if path_matrix:\n",
    "        return distance_matrix, route_matrix\n",
    "    return distance_matrix"
   ],
   "metadata": {
    "collapsed": false,
    "ExecuteTime": {
     "end_time": "2024-03-27T13:51:33.575708600Z",
     "start_time": "2024-03-27T13:51:33.395595900Z"
    }
   },
   "id": "d1ffe8cc1bec1fb"
  },
  {
   "cell_type": "markdown",
   "source": [
    "ПЕРЕНЕС"
   ],
   "metadata": {
    "collapsed": false
   },
   "id": "b598ed0c3b854836"
  },
  {
   "cell_type": "code",
   "execution_count": 99,
   "outputs": [
    {
     "data": {
      "text/plain": "Calculating distances:   0%|          | 0/34 [00:00<?, ?it/s]",
      "application/vnd.jupyter.widget-view+json": {
       "version_major": 2,
       "version_minor": 0,
       "model_id": "833a159aa0944af3a0275126ed8ec814"
      }
     },
     "metadata": {},
     "output_type": "display_data"
    },
    {
     "data": {
      "text/plain": "               1033_8.5   1035_8.5_1   1035_8.5_2      125_8.5        1_8.5  \\\n1033_8.5            0.0   890.988563  1097.459787  2748.796569  3159.257121   \n1035_8.5_1   894.131322          0.0   206.471224  1858.725149  4000.308701   \n1035_8.5_2   687.660098   662.449919          0.0  1652.253925  3793.837477   \n125_8.5     1686.646668   1661.43649  1867.907713          0.0  3254.744047   \n1_8.5       3427.878023  3402.667844  3609.139068   3722.39585          0.0   \n202_8.5     4647.670116  4622.459937  4828.931161  4063.260943  1637.295495   \n219_8.5     5194.295717  5169.085539  5375.556762  3521.184544  2183.921096   \n225_8.5     5107.154971  5081.944792  5288.416016  3421.240798   2439.50335   \n234_8.5     4933.333957  4908.123778  5114.595002  3629.950784  1922.959336   \n244_8.5     1685.124569  1659.914391  1866.385614  1979.642396  1653.063948   \n256_8.5     1400.670762  1375.460584  1581.931808   2833.75859  2526.113142   \n258_8.5     6233.081008   465.630175   672.101399  2323.438181  3597.017732   \n259_8.5      883.230664   858.020485  1064.491709  2715.828491  2732.725043   \n262_8.5      776.220264   751.010085   957.481309  2608.818091  2625.714643   \n284_8.5     1498.835801  1473.625622  1680.096846   804.737628   3270.87018   \n285_8.5      256.100744  6233.081008   437.361789  2088.698571  3362.278123   \n2_8.5        3083.70835  3058.498171  3264.969395  3378.226177   286.100729   \n321_8.5     2842.518985  2817.308807  3023.780031  3212.153813   726.213365   \n324_8.5     2921.253826  2896.043648  3102.514872  3303.598654   513.063206   \n32_8.5      4027.295559  4002.085381  4208.556604  4321.813386  1016.920938   \n369_8.5     2675.506221  2650.296043  2856.767267  2970.024049   892.445601   \n370_8.5     2857.553754  2832.343576  3038.814799  3227.188581   741.248133   \n467_8.5     2516.273616  2491.063438  2697.534661  2810.791443   831.536995   \n474_8.5     2623.535342  2598.325164  2804.796388  2918.053169   840.474721   \n527_8.5     1766.076292  1740.866114  1947.337337  2060.594119  1628.710671   \n547_8.5     1177.534082  1152.323903  1358.795127  2142.127909  4283.711461   \n64_8.5      4365.355307  4340.145129  4546.616353  4347.982135  1354.980686   \n70_8.5      3966.128003  3940.917825  4147.389049   4260.64583   955.753382   \n714_8.5     1450.863967  1425.653789  1632.125012  2356.781794  2049.136346   \n84_8.5      5157.134358  5131.924179  5338.395403  3829.201185  2146.759737   \n872_8.5     1504.012024  1478.801846   1685.27307  2163.123851  1855.478403   \n876_8.5     2073.584085  2048.373907  2254.845131  2339.564913  1289.708464   \n87_8.5      4837.461725  4812.251546   5018.72277  3151.547552  2521.482104   \n926_8.5     3711.028709   3685.81853  3892.289754  4005.546536   700.654088   \n\n                202_8.5      219_8.5      225_8.5      234_8.5      244_8.5  \\\n1033_8.5    4442.614221  5728.114631  5516.143247  4678.963813  1737.437252   \n1035_8.5_1  5283.665801  5078.778211  4823.396826  5520.015393  2578.488832   \n1035_8.5_2  5077.194577  4872.306987  4616.925603  5313.544169  2372.017608   \n125_8.5     4538.101148  4003.149557  3747.768173   4517.86074  1832.924178   \n1_8.5       1284.058502  2569.558912  2357.587528  1520.408094  1868.692533   \n202_8.5             0.0  1482.681005   1270.70962   433.530187  3088.484626   \n219_8.5     1468.135197          0.0   417.813222   791.527789  3635.110227   \n225_8.5      1723.71745    255.92286          0.0  1047.110042  3890.692481   \n234_8.5     1207.173436  1049.370845   837.399461          0.0  3374.148467   \n244_8.5     2936.421049  4221.921458  4009.950074  3172.770641          0.0   \n256_8.5     3809.470242  5094.970651  4882.999267  4045.819834  1104.293273   \n258_8.5     4880.374833  5543.491242  5288.109858  5116.724425  2175.197864   \n259_8.5     4016.082143  5301.582553  5089.611169  4252.431735  1310.905174   \n262_8.5     3909.071743  5194.572152  4982.600768  4145.421335  1203.894774   \n284_8.5      4554.22728   4024.79069  3769.409306  4539.501872  1849.050311   \n285_8.5     4645.635224  5308.751633  5053.370249  4881.984815  1940.458254   \n2_8.5       1569.457829  2854.958239  2642.986854  1805.807421   1565.69786   \n321_8.5     2009.570465  3295.070874   3083.09949  2245.920057  1399.625496   \n324_8.5     1796.420306  3081.920715  2869.949331  2032.769898  1491.070337   \n32_8.5       592.184039  2074.520448  1862.549064  1025.369631  2468.110069   \n369_8.5     2175.802701   3461.30311  3249.331726  2412.152293  1157.495732   \n370_8.5     2024.605234  3310.105643  3098.134259  2260.954826  1414.660264   \n467_8.5     2114.894096  3400.394505  3188.423121  2351.243687   945.890126   \n474_8.5     2123.831822  3409.332231  3197.360847  2360.181414  1105.524852   \n527_8.5     2912.067772  4197.568181  3985.596797  3148.417364  6233.081008   \n547_8.5     5567.068561  5362.180971  5106.799586  5803.418153  2861.891592   \n64_8.5       637.684787  1767.402196  1555.430812   718.251379  2806.169818   \n70_8.5      1070.252483  2552.588892  2340.617508  1503.438075  2406.942513   \n714_8.5     3332.493447  4617.993856  4406.022472  3568.843038   627.316477   \n84_8.5      1430.973837   947.047247  1008.993862   754.366429  3597.948868   \n872_8.5     3138.835504  4424.335913  4212.364529  3375.185096   433.658534   \n876_8.5     2573.065565  3858.565974   3646.59459  2809.415157   388.847596   \n87_8.5      1805.696204   614.377613   358.996229  1129.088796  3972.671235   \n926_8.5     1244.217188  2726.553597  2514.582213   1677.40278  2151.843219   \n\n            ...      527_8.5      547_8.5       64_8.5       70_8.5  \\\n1033_8.5    ...  1656.485529  2268.248187  4718.130492  5108.626668   \n1035_8.5_1  ...  2497.537109  1378.176767  5559.182072  5949.678248   \n1035_8.5_2  ...  2291.065885  1171.705543  5352.710848  5743.207025   \n125_8.5     ...  1751.972455   512.000113  4557.027419  4957.144595   \n1_8.5       ...   1893.04581  3445.784468  1559.574773  1950.070949   \n202_8.5     ...  3112.837903  4574.528561   561.388866   682.676042   \n219_8.5     ...  3659.463504  4032.452162   830.694467  1230.811644   \n225_8.5     ...  3915.045758  3932.508416  1086.276721  1486.393897   \n234_8.5     ...  3398.501744  4141.218402   569.732707   969.849883   \n244_8.5     ...  6233.081008  1703.031014  3211.937319  3602.433496   \n256_8.5     ...   1023.34155  2353.210208  4084.986513  4475.482689   \n258_8.5     ...   2094.24614  1842.889798  5155.891104   5546.38728   \n259_8.5     ...  1229.953451  2235.280109  4291.598414  4682.094591   \n262_8.5     ...  1122.943051  2128.269709  4184.588014   4575.08419   \n284_8.5     ...  1768.098588  6233.081008  4578.668551  4978.785727   \n285_8.5     ...  1859.506531  1608.150189  4921.151494  5311.647671   \n2_8.5       ...  1548.876137  3101.614795    1844.9741  2235.470276   \n321_8.5     ...  1382.803773  2935.542431  2285.086736  2675.582912   \n324_8.5     ...  1474.248614  3026.987272  2071.936577  2462.432753   \n32_8.5      ...  2492.463346  4045.202004  1153.228309  1258.196486   \n369_8.5     ...  1140.674009  2693.412667  2451.318972  2841.815148   \n370_8.5     ...  1397.838541  2950.577199  2300.121505  2690.617681   \n467_8.5     ...   981.441403  2534.180061  2390.410366  2780.906543   \n474_8.5     ...  1088.703129  2641.441787  2399.348093  2789.844269   \n527_8.5     ...          0.0  1783.982737  3187.584042  3578.080219   \n547_8.5     ...  2780.939869          0.0  5842.584832  6233.081008   \n64_8.5      ...  2830.523094  4383.261752          0.0   400.361234   \n70_8.5      ...   2431.29579  3984.034448  1625.406754          0.0   \n714_8.5     ...   546.364754  1876.233412  3608.009717  3998.505894   \n84_8.5      ...  3622.302145  4340.468803   793.533108  1193.650284   \n872_8.5     ...   352.706811  1682.575469  3414.351775  3804.847951   \n876_8.5     ...   538.751872   2091.49053  2848.581836  3239.078012   \n87_8.5      ...  3997.024512   3662.81517  1168.255475  1568.372651   \n926_8.5     ...  2176.196496  3728.935154  1805.261459  1910.229635   \n\n                714_8.5       84_8.5      872_8.5      876_8.5       87_8.5  \\\n1033_8.5    1357.358651  5410.187875  1304.210594   1995.16595  5157.870345   \n1035_8.5_1  2250.621231  5114.792455  2197.473174   2836.21753  5517.499925   \n1035_8.5_2  2044.150008  4908.321231   1991.00195  2629.746307  5311.028701   \n125_8.5     1869.650578  4039.163802  2063.308521  2090.652877  4441.871272   \n1_8.5       2029.656932  2251.632156  2223.314875  1540.697231  1999.314626   \n202_8.5     3249.449025  1164.754249  3443.106968  2760.489324   912.436719   \n219_8.5     3796.074627     37.93985  3989.732569  3307.114926    715.53832   \n225_8.5      4051.65688   293.522104  4245.314823  3562.697179   971.120574   \n234_8.5     3535.112866    731.44409  3728.770809  3046.153165    479.12656   \n244_8.5      286.903479  3903.994702   480.561421   488.972778  3651.677172   \n256_8.5      724.214672  4777.043896   671.066615  1362.021971  4524.726366   \n258_8.5     1847.330263  5579.505487  1794.182206  2432.926562  5595.630957   \n259_8.5      930.826574  4983.655797   877.678516  1568.633873  4731.338267   \n262_8.5      823.816173  4876.645397   770.668116  1461.623472  4624.327867   \n284_8.5     1681.839711  4060.804934  1875.497653   2106.77901  4463.512404   \n285_8.5     1612.590654  5344.765877  1559.442596  2198.186953  5360.891347   \n2_8.5       1685.487259  2537.031483  1879.145202  1328.750558  2284.713953   \n321_8.5     1392.086895  2977.144119  1585.744838  1234.625194  2724.826589   \n324_8.5     1470.821736   2763.99396  1664.479679  1326.070035   2511.67643   \n32_8.5      2629.074469  1756.593693  2822.732411  2140.114768  1504.276163   \n369_8.5     1277.285131  3143.376355  1470.943074    914.53043  2891.058825   \n370_8.5     1407.121664  2992.178888  1600.779607  1249.659963  2739.861358   \n467_8.5     1118.052526  3082.467749  1311.710468   617.894825  2830.150219   \n474_8.5     1225.314252  3091.405476  1418.972195   862.559551  2839.087946   \n527_8.5      367.855202  3879.641426   561.513144   339.068501  3627.323895   \n547_8.5     2534.023991  5398.195215  2480.875934   3119.62029  5800.902685   \n64_8.5      2967.134217  1449.475441   3160.79216  2478.174516  1197.157911   \n70_8.5      2567.906913  2234.662137  2761.564856  2078.947212  1982.344607   \n714_8.5             0.0    4300.0671  6233.081008   885.045176   4047.74957   \n84_8.5      3758.913267          0.0   3952.57121  3269.953566   678.376961   \n872_8.5     6233.081008  4106.409158          0.0   691.387233  3854.091628   \n876_8.5      675.362995  3540.639219   869.020938          0.0  3288.321689   \n87_8.5      4133.635634   650.391858  4327.293577  3644.675933          0.0   \n926_8.5     2312.807618  2408.626842  2506.465561  1823.847917  2156.309312   \n\n                926_8.5  \n1033_8.5    3675.024304  \n1035_8.5_1  4516.075884  \n1035_8.5_2   4309.60466  \n125_8.5      3770.51123  \n1_8.5        516.468585  \n202_8.5      984.204678  \n219_8.5     1532.340279  \n225_8.5     1787.922533  \n234_8.5     1271.378519  \n244_8.5     2168.831131  \n256_8.5     3041.880325  \n258_8.5     4112.784916  \n259_8.5     3248.492226  \n262_8.5     3141.481826  \n284_8.5     3786.637363  \n285_8.5     3878.045306  \n2_8.5        801.867912  \n321_8.5     1241.980548  \n324_8.5     1028.830389  \n32_8.5       363.830121  \n369_8.5     1408.212784  \n370_8.5     1257.015316  \n467_8.5     1347.304178  \n474_8.5     1356.241904  \n527_8.5     2144.477854  \n547_8.5     4799.478644  \n64_8.5        701.88987  \n70_8.5       302.662565  \n714_8.5     2564.903529  \n84_8.5       1495.17892  \n872_8.5     2371.245587  \n876_8.5     1805.475648  \n87_8.5      1869.901287  \n926_8.5             0.0  \n\n[34 rows x 34 columns]",
      "text/html": "<div>\n<style scoped>\n    .dataframe tbody tr th:only-of-type {\n        vertical-align: middle;\n    }\n\n    .dataframe tbody tr th {\n        vertical-align: top;\n    }\n\n    .dataframe thead th {\n        text-align: right;\n    }\n</style>\n<table border=\"1\" class=\"dataframe\">\n  <thead>\n    <tr style=\"text-align: right;\">\n      <th></th>\n      <th>1033_8.5</th>\n      <th>1035_8.5_1</th>\n      <th>1035_8.5_2</th>\n      <th>125_8.5</th>\n      <th>1_8.5</th>\n      <th>202_8.5</th>\n      <th>219_8.5</th>\n      <th>225_8.5</th>\n      <th>234_8.5</th>\n      <th>244_8.5</th>\n      <th>...</th>\n      <th>527_8.5</th>\n      <th>547_8.5</th>\n      <th>64_8.5</th>\n      <th>70_8.5</th>\n      <th>714_8.5</th>\n      <th>84_8.5</th>\n      <th>872_8.5</th>\n      <th>876_8.5</th>\n      <th>87_8.5</th>\n      <th>926_8.5</th>\n    </tr>\n  </thead>\n  <tbody>\n    <tr>\n      <th>1033_8.5</th>\n      <td>0.0</td>\n      <td>890.988563</td>\n      <td>1097.459787</td>\n      <td>2748.796569</td>\n      <td>3159.257121</td>\n      <td>4442.614221</td>\n      <td>5728.114631</td>\n      <td>5516.143247</td>\n      <td>4678.963813</td>\n      <td>1737.437252</td>\n      <td>...</td>\n      <td>1656.485529</td>\n      <td>2268.248187</td>\n      <td>4718.130492</td>\n      <td>5108.626668</td>\n      <td>1357.358651</td>\n      <td>5410.187875</td>\n      <td>1304.210594</td>\n      <td>1995.16595</td>\n      <td>5157.870345</td>\n      <td>3675.024304</td>\n    </tr>\n    <tr>\n      <th>1035_8.5_1</th>\n      <td>894.131322</td>\n      <td>0.0</td>\n      <td>206.471224</td>\n      <td>1858.725149</td>\n      <td>4000.308701</td>\n      <td>5283.665801</td>\n      <td>5078.778211</td>\n      <td>4823.396826</td>\n      <td>5520.015393</td>\n      <td>2578.488832</td>\n      <td>...</td>\n      <td>2497.537109</td>\n      <td>1378.176767</td>\n      <td>5559.182072</td>\n      <td>5949.678248</td>\n      <td>2250.621231</td>\n      <td>5114.792455</td>\n      <td>2197.473174</td>\n      <td>2836.21753</td>\n      <td>5517.499925</td>\n      <td>4516.075884</td>\n    </tr>\n    <tr>\n      <th>1035_8.5_2</th>\n      <td>687.660098</td>\n      <td>662.449919</td>\n      <td>0.0</td>\n      <td>1652.253925</td>\n      <td>3793.837477</td>\n      <td>5077.194577</td>\n      <td>4872.306987</td>\n      <td>4616.925603</td>\n      <td>5313.544169</td>\n      <td>2372.017608</td>\n      <td>...</td>\n      <td>2291.065885</td>\n      <td>1171.705543</td>\n      <td>5352.710848</td>\n      <td>5743.207025</td>\n      <td>2044.150008</td>\n      <td>4908.321231</td>\n      <td>1991.00195</td>\n      <td>2629.746307</td>\n      <td>5311.028701</td>\n      <td>4309.60466</td>\n    </tr>\n    <tr>\n      <th>125_8.5</th>\n      <td>1686.646668</td>\n      <td>1661.43649</td>\n      <td>1867.907713</td>\n      <td>0.0</td>\n      <td>3254.744047</td>\n      <td>4538.101148</td>\n      <td>4003.149557</td>\n      <td>3747.768173</td>\n      <td>4517.86074</td>\n      <td>1832.924178</td>\n      <td>...</td>\n      <td>1751.972455</td>\n      <td>512.000113</td>\n      <td>4557.027419</td>\n      <td>4957.144595</td>\n      <td>1869.650578</td>\n      <td>4039.163802</td>\n      <td>2063.308521</td>\n      <td>2090.652877</td>\n      <td>4441.871272</td>\n      <td>3770.51123</td>\n    </tr>\n    <tr>\n      <th>1_8.5</th>\n      <td>3427.878023</td>\n      <td>3402.667844</td>\n      <td>3609.139068</td>\n      <td>3722.39585</td>\n      <td>0.0</td>\n      <td>1284.058502</td>\n      <td>2569.558912</td>\n      <td>2357.587528</td>\n      <td>1520.408094</td>\n      <td>1868.692533</td>\n      <td>...</td>\n      <td>1893.04581</td>\n      <td>3445.784468</td>\n      <td>1559.574773</td>\n      <td>1950.070949</td>\n      <td>2029.656932</td>\n      <td>2251.632156</td>\n      <td>2223.314875</td>\n      <td>1540.697231</td>\n      <td>1999.314626</td>\n      <td>516.468585</td>\n    </tr>\n    <tr>\n      <th>202_8.5</th>\n      <td>4647.670116</td>\n      <td>4622.459937</td>\n      <td>4828.931161</td>\n      <td>4063.260943</td>\n      <td>1637.295495</td>\n      <td>0.0</td>\n      <td>1482.681005</td>\n      <td>1270.70962</td>\n      <td>433.530187</td>\n      <td>3088.484626</td>\n      <td>...</td>\n      <td>3112.837903</td>\n      <td>4574.528561</td>\n      <td>561.388866</td>\n      <td>682.676042</td>\n      <td>3249.449025</td>\n      <td>1164.754249</td>\n      <td>3443.106968</td>\n      <td>2760.489324</td>\n      <td>912.436719</td>\n      <td>984.204678</td>\n    </tr>\n    <tr>\n      <th>219_8.5</th>\n      <td>5194.295717</td>\n      <td>5169.085539</td>\n      <td>5375.556762</td>\n      <td>3521.184544</td>\n      <td>2183.921096</td>\n      <td>1468.135197</td>\n      <td>0.0</td>\n      <td>417.813222</td>\n      <td>791.527789</td>\n      <td>3635.110227</td>\n      <td>...</td>\n      <td>3659.463504</td>\n      <td>4032.452162</td>\n      <td>830.694467</td>\n      <td>1230.811644</td>\n      <td>3796.074627</td>\n      <td>37.93985</td>\n      <td>3989.732569</td>\n      <td>3307.114926</td>\n      <td>715.53832</td>\n      <td>1532.340279</td>\n    </tr>\n    <tr>\n      <th>225_8.5</th>\n      <td>5107.154971</td>\n      <td>5081.944792</td>\n      <td>5288.416016</td>\n      <td>3421.240798</td>\n      <td>2439.50335</td>\n      <td>1723.71745</td>\n      <td>255.92286</td>\n      <td>0.0</td>\n      <td>1047.110042</td>\n      <td>3890.692481</td>\n      <td>...</td>\n      <td>3915.045758</td>\n      <td>3932.508416</td>\n      <td>1086.276721</td>\n      <td>1486.393897</td>\n      <td>4051.65688</td>\n      <td>293.522104</td>\n      <td>4245.314823</td>\n      <td>3562.697179</td>\n      <td>971.120574</td>\n      <td>1787.922533</td>\n    </tr>\n    <tr>\n      <th>234_8.5</th>\n      <td>4933.333957</td>\n      <td>4908.123778</td>\n      <td>5114.595002</td>\n      <td>3629.950784</td>\n      <td>1922.959336</td>\n      <td>1207.173436</td>\n      <td>1049.370845</td>\n      <td>837.399461</td>\n      <td>0.0</td>\n      <td>3374.148467</td>\n      <td>...</td>\n      <td>3398.501744</td>\n      <td>4141.218402</td>\n      <td>569.732707</td>\n      <td>969.849883</td>\n      <td>3535.112866</td>\n      <td>731.44409</td>\n      <td>3728.770809</td>\n      <td>3046.153165</td>\n      <td>479.12656</td>\n      <td>1271.378519</td>\n    </tr>\n    <tr>\n      <th>244_8.5</th>\n      <td>1685.124569</td>\n      <td>1659.914391</td>\n      <td>1866.385614</td>\n      <td>1979.642396</td>\n      <td>1653.063948</td>\n      <td>2936.421049</td>\n      <td>4221.921458</td>\n      <td>4009.950074</td>\n      <td>3172.770641</td>\n      <td>0.0</td>\n      <td>...</td>\n      <td>6233.081008</td>\n      <td>1703.031014</td>\n      <td>3211.937319</td>\n      <td>3602.433496</td>\n      <td>286.903479</td>\n      <td>3903.994702</td>\n      <td>480.561421</td>\n      <td>488.972778</td>\n      <td>3651.677172</td>\n      <td>2168.831131</td>\n    </tr>\n    <tr>\n      <th>256_8.5</th>\n      <td>1400.670762</td>\n      <td>1375.460584</td>\n      <td>1581.931808</td>\n      <td>2833.75859</td>\n      <td>2526.113142</td>\n      <td>3809.470242</td>\n      <td>5094.970651</td>\n      <td>4882.999267</td>\n      <td>4045.819834</td>\n      <td>1104.293273</td>\n      <td>...</td>\n      <td>1023.34155</td>\n      <td>2353.210208</td>\n      <td>4084.986513</td>\n      <td>4475.482689</td>\n      <td>724.214672</td>\n      <td>4777.043896</td>\n      <td>671.066615</td>\n      <td>1362.021971</td>\n      <td>4524.726366</td>\n      <td>3041.880325</td>\n    </tr>\n    <tr>\n      <th>258_8.5</th>\n      <td>6233.081008</td>\n      <td>465.630175</td>\n      <td>672.101399</td>\n      <td>2323.438181</td>\n      <td>3597.017732</td>\n      <td>4880.374833</td>\n      <td>5543.491242</td>\n      <td>5288.109858</td>\n      <td>5116.724425</td>\n      <td>2175.197864</td>\n      <td>...</td>\n      <td>2094.24614</td>\n      <td>1842.889798</td>\n      <td>5155.891104</td>\n      <td>5546.38728</td>\n      <td>1847.330263</td>\n      <td>5579.505487</td>\n      <td>1794.182206</td>\n      <td>2432.926562</td>\n      <td>5595.630957</td>\n      <td>4112.784916</td>\n    </tr>\n    <tr>\n      <th>259_8.5</th>\n      <td>883.230664</td>\n      <td>858.020485</td>\n      <td>1064.491709</td>\n      <td>2715.828491</td>\n      <td>2732.725043</td>\n      <td>4016.082143</td>\n      <td>5301.582553</td>\n      <td>5089.611169</td>\n      <td>4252.431735</td>\n      <td>1310.905174</td>\n      <td>...</td>\n      <td>1229.953451</td>\n      <td>2235.280109</td>\n      <td>4291.598414</td>\n      <td>4682.094591</td>\n      <td>930.826574</td>\n      <td>4983.655797</td>\n      <td>877.678516</td>\n      <td>1568.633873</td>\n      <td>4731.338267</td>\n      <td>3248.492226</td>\n    </tr>\n    <tr>\n      <th>262_8.5</th>\n      <td>776.220264</td>\n      <td>751.010085</td>\n      <td>957.481309</td>\n      <td>2608.818091</td>\n      <td>2625.714643</td>\n      <td>3909.071743</td>\n      <td>5194.572152</td>\n      <td>4982.600768</td>\n      <td>4145.421335</td>\n      <td>1203.894774</td>\n      <td>...</td>\n      <td>1122.943051</td>\n      <td>2128.269709</td>\n      <td>4184.588014</td>\n      <td>4575.08419</td>\n      <td>823.816173</td>\n      <td>4876.645397</td>\n      <td>770.668116</td>\n      <td>1461.623472</td>\n      <td>4624.327867</td>\n      <td>3141.481826</td>\n    </tr>\n    <tr>\n      <th>284_8.5</th>\n      <td>1498.835801</td>\n      <td>1473.625622</td>\n      <td>1680.096846</td>\n      <td>804.737628</td>\n      <td>3270.87018</td>\n      <td>4554.22728</td>\n      <td>4024.79069</td>\n      <td>3769.409306</td>\n      <td>4539.501872</td>\n      <td>1849.050311</td>\n      <td>...</td>\n      <td>1768.098588</td>\n      <td>6233.081008</td>\n      <td>4578.668551</td>\n      <td>4978.785727</td>\n      <td>1681.839711</td>\n      <td>4060.804934</td>\n      <td>1875.497653</td>\n      <td>2106.77901</td>\n      <td>4463.512404</td>\n      <td>3786.637363</td>\n    </tr>\n    <tr>\n      <th>285_8.5</th>\n      <td>256.100744</td>\n      <td>6233.081008</td>\n      <td>437.361789</td>\n      <td>2088.698571</td>\n      <td>3362.278123</td>\n      <td>4645.635224</td>\n      <td>5308.751633</td>\n      <td>5053.370249</td>\n      <td>4881.984815</td>\n      <td>1940.458254</td>\n      <td>...</td>\n      <td>1859.506531</td>\n      <td>1608.150189</td>\n      <td>4921.151494</td>\n      <td>5311.647671</td>\n      <td>1612.590654</td>\n      <td>5344.765877</td>\n      <td>1559.442596</td>\n      <td>2198.186953</td>\n      <td>5360.891347</td>\n      <td>3878.045306</td>\n    </tr>\n    <tr>\n      <th>2_8.5</th>\n      <td>3083.70835</td>\n      <td>3058.498171</td>\n      <td>3264.969395</td>\n      <td>3378.226177</td>\n      <td>286.100729</td>\n      <td>1569.457829</td>\n      <td>2854.958239</td>\n      <td>2642.986854</td>\n      <td>1805.807421</td>\n      <td>1565.69786</td>\n      <td>...</td>\n      <td>1548.876137</td>\n      <td>3101.614795</td>\n      <td>1844.9741</td>\n      <td>2235.470276</td>\n      <td>1685.487259</td>\n      <td>2537.031483</td>\n      <td>1879.145202</td>\n      <td>1328.750558</td>\n      <td>2284.713953</td>\n      <td>801.867912</td>\n    </tr>\n    <tr>\n      <th>321_8.5</th>\n      <td>2842.518985</td>\n      <td>2817.308807</td>\n      <td>3023.780031</td>\n      <td>3212.153813</td>\n      <td>726.213365</td>\n      <td>2009.570465</td>\n      <td>3295.070874</td>\n      <td>3083.09949</td>\n      <td>2245.920057</td>\n      <td>1399.625496</td>\n      <td>...</td>\n      <td>1382.803773</td>\n      <td>2935.542431</td>\n      <td>2285.086736</td>\n      <td>2675.582912</td>\n      <td>1392.086895</td>\n      <td>2977.144119</td>\n      <td>1585.744838</td>\n      <td>1234.625194</td>\n      <td>2724.826589</td>\n      <td>1241.980548</td>\n    </tr>\n    <tr>\n      <th>324_8.5</th>\n      <td>2921.253826</td>\n      <td>2896.043648</td>\n      <td>3102.514872</td>\n      <td>3303.598654</td>\n      <td>513.063206</td>\n      <td>1796.420306</td>\n      <td>3081.920715</td>\n      <td>2869.949331</td>\n      <td>2032.769898</td>\n      <td>1491.070337</td>\n      <td>...</td>\n      <td>1474.248614</td>\n      <td>3026.987272</td>\n      <td>2071.936577</td>\n      <td>2462.432753</td>\n      <td>1470.821736</td>\n      <td>2763.99396</td>\n      <td>1664.479679</td>\n      <td>1326.070035</td>\n      <td>2511.67643</td>\n      <td>1028.830389</td>\n    </tr>\n    <tr>\n      <th>32_8.5</th>\n      <td>4027.295559</td>\n      <td>4002.085381</td>\n      <td>4208.556604</td>\n      <td>4321.813386</td>\n      <td>1016.920938</td>\n      <td>592.184039</td>\n      <td>2074.520448</td>\n      <td>1862.549064</td>\n      <td>1025.369631</td>\n      <td>2468.110069</td>\n      <td>...</td>\n      <td>2492.463346</td>\n      <td>4045.202004</td>\n      <td>1153.228309</td>\n      <td>1258.196486</td>\n      <td>2629.074469</td>\n      <td>1756.593693</td>\n      <td>2822.732411</td>\n      <td>2140.114768</td>\n      <td>1504.276163</td>\n      <td>363.830121</td>\n    </tr>\n    <tr>\n      <th>369_8.5</th>\n      <td>2675.506221</td>\n      <td>2650.296043</td>\n      <td>2856.767267</td>\n      <td>2970.024049</td>\n      <td>892.445601</td>\n      <td>2175.802701</td>\n      <td>3461.30311</td>\n      <td>3249.331726</td>\n      <td>2412.152293</td>\n      <td>1157.495732</td>\n      <td>...</td>\n      <td>1140.674009</td>\n      <td>2693.412667</td>\n      <td>2451.318972</td>\n      <td>2841.815148</td>\n      <td>1277.285131</td>\n      <td>3143.376355</td>\n      <td>1470.943074</td>\n      <td>914.53043</td>\n      <td>2891.058825</td>\n      <td>1408.212784</td>\n    </tr>\n    <tr>\n      <th>370_8.5</th>\n      <td>2857.553754</td>\n      <td>2832.343576</td>\n      <td>3038.814799</td>\n      <td>3227.188581</td>\n      <td>741.248133</td>\n      <td>2024.605234</td>\n      <td>3310.105643</td>\n      <td>3098.134259</td>\n      <td>2260.954826</td>\n      <td>1414.660264</td>\n      <td>...</td>\n      <td>1397.838541</td>\n      <td>2950.577199</td>\n      <td>2300.121505</td>\n      <td>2690.617681</td>\n      <td>1407.121664</td>\n      <td>2992.178888</td>\n      <td>1600.779607</td>\n      <td>1249.659963</td>\n      <td>2739.861358</td>\n      <td>1257.015316</td>\n    </tr>\n    <tr>\n      <th>467_8.5</th>\n      <td>2516.273616</td>\n      <td>2491.063438</td>\n      <td>2697.534661</td>\n      <td>2810.791443</td>\n      <td>831.536995</td>\n      <td>2114.894096</td>\n      <td>3400.394505</td>\n      <td>3188.423121</td>\n      <td>2351.243687</td>\n      <td>945.890126</td>\n      <td>...</td>\n      <td>981.441403</td>\n      <td>2534.180061</td>\n      <td>2390.410366</td>\n      <td>2780.906543</td>\n      <td>1118.052526</td>\n      <td>3082.467749</td>\n      <td>1311.710468</td>\n      <td>617.894825</td>\n      <td>2830.150219</td>\n      <td>1347.304178</td>\n    </tr>\n    <tr>\n      <th>474_8.5</th>\n      <td>2623.535342</td>\n      <td>2598.325164</td>\n      <td>2804.796388</td>\n      <td>2918.053169</td>\n      <td>840.474721</td>\n      <td>2123.831822</td>\n      <td>3409.332231</td>\n      <td>3197.360847</td>\n      <td>2360.181414</td>\n      <td>1105.524852</td>\n      <td>...</td>\n      <td>1088.703129</td>\n      <td>2641.441787</td>\n      <td>2399.348093</td>\n      <td>2789.844269</td>\n      <td>1225.314252</td>\n      <td>3091.405476</td>\n      <td>1418.972195</td>\n      <td>862.559551</td>\n      <td>2839.087946</td>\n      <td>1356.241904</td>\n    </tr>\n    <tr>\n      <th>527_8.5</th>\n      <td>1766.076292</td>\n      <td>1740.866114</td>\n      <td>1947.337337</td>\n      <td>2060.594119</td>\n      <td>1628.710671</td>\n      <td>2912.067772</td>\n      <td>4197.568181</td>\n      <td>3985.596797</td>\n      <td>3148.417364</td>\n      <td>6233.081008</td>\n      <td>...</td>\n      <td>0.0</td>\n      <td>1783.982737</td>\n      <td>3187.584042</td>\n      <td>3578.080219</td>\n      <td>367.855202</td>\n      <td>3879.641426</td>\n      <td>561.513144</td>\n      <td>339.068501</td>\n      <td>3627.323895</td>\n      <td>2144.477854</td>\n    </tr>\n    <tr>\n      <th>547_8.5</th>\n      <td>1177.534082</td>\n      <td>1152.323903</td>\n      <td>1358.795127</td>\n      <td>2142.127909</td>\n      <td>4283.711461</td>\n      <td>5567.068561</td>\n      <td>5362.180971</td>\n      <td>5106.799586</td>\n      <td>5803.418153</td>\n      <td>2861.891592</td>\n      <td>...</td>\n      <td>2780.939869</td>\n      <td>0.0</td>\n      <td>5842.584832</td>\n      <td>6233.081008</td>\n      <td>2534.023991</td>\n      <td>5398.195215</td>\n      <td>2480.875934</td>\n      <td>3119.62029</td>\n      <td>5800.902685</td>\n      <td>4799.478644</td>\n    </tr>\n    <tr>\n      <th>64_8.5</th>\n      <td>4365.355307</td>\n      <td>4340.145129</td>\n      <td>4546.616353</td>\n      <td>4347.982135</td>\n      <td>1354.980686</td>\n      <td>637.684787</td>\n      <td>1767.402196</td>\n      <td>1555.430812</td>\n      <td>718.251379</td>\n      <td>2806.169818</td>\n      <td>...</td>\n      <td>2830.523094</td>\n      <td>4383.261752</td>\n      <td>0.0</td>\n      <td>400.361234</td>\n      <td>2967.134217</td>\n      <td>1449.475441</td>\n      <td>3160.79216</td>\n      <td>2478.174516</td>\n      <td>1197.157911</td>\n      <td>701.88987</td>\n    </tr>\n    <tr>\n      <th>70_8.5</th>\n      <td>3966.128003</td>\n      <td>3940.917825</td>\n      <td>4147.389049</td>\n      <td>4260.64583</td>\n      <td>955.753382</td>\n      <td>1070.252483</td>\n      <td>2552.588892</td>\n      <td>2340.617508</td>\n      <td>1503.438075</td>\n      <td>2406.942513</td>\n      <td>...</td>\n      <td>2431.29579</td>\n      <td>3984.034448</td>\n      <td>1625.406754</td>\n      <td>0.0</td>\n      <td>2567.906913</td>\n      <td>2234.662137</td>\n      <td>2761.564856</td>\n      <td>2078.947212</td>\n      <td>1982.344607</td>\n      <td>302.662565</td>\n    </tr>\n    <tr>\n      <th>714_8.5</th>\n      <td>1450.863967</td>\n      <td>1425.653789</td>\n      <td>1632.125012</td>\n      <td>2356.781794</td>\n      <td>2049.136346</td>\n      <td>3332.493447</td>\n      <td>4617.993856</td>\n      <td>4406.022472</td>\n      <td>3568.843038</td>\n      <td>627.316477</td>\n      <td>...</td>\n      <td>546.364754</td>\n      <td>1876.233412</td>\n      <td>3608.009717</td>\n      <td>3998.505894</td>\n      <td>0.0</td>\n      <td>4300.0671</td>\n      <td>6233.081008</td>\n      <td>885.045176</td>\n      <td>4047.74957</td>\n      <td>2564.903529</td>\n    </tr>\n    <tr>\n      <th>84_8.5</th>\n      <td>5157.134358</td>\n      <td>5131.924179</td>\n      <td>5338.395403</td>\n      <td>3829.201185</td>\n      <td>2146.759737</td>\n      <td>1430.973837</td>\n      <td>947.047247</td>\n      <td>1008.993862</td>\n      <td>754.366429</td>\n      <td>3597.948868</td>\n      <td>...</td>\n      <td>3622.302145</td>\n      <td>4340.468803</td>\n      <td>793.533108</td>\n      <td>1193.650284</td>\n      <td>3758.913267</td>\n      <td>0.0</td>\n      <td>3952.57121</td>\n      <td>3269.953566</td>\n      <td>678.376961</td>\n      <td>1495.17892</td>\n    </tr>\n    <tr>\n      <th>872_8.5</th>\n      <td>1504.012024</td>\n      <td>1478.801846</td>\n      <td>1685.27307</td>\n      <td>2163.123851</td>\n      <td>1855.478403</td>\n      <td>3138.835504</td>\n      <td>4424.335913</td>\n      <td>4212.364529</td>\n      <td>3375.185096</td>\n      <td>433.658534</td>\n      <td>...</td>\n      <td>352.706811</td>\n      <td>1682.575469</td>\n      <td>3414.351775</td>\n      <td>3804.847951</td>\n      <td>6233.081008</td>\n      <td>4106.409158</td>\n      <td>0.0</td>\n      <td>691.387233</td>\n      <td>3854.091628</td>\n      <td>2371.245587</td>\n    </tr>\n    <tr>\n      <th>876_8.5</th>\n      <td>2073.584085</td>\n      <td>2048.373907</td>\n      <td>2254.845131</td>\n      <td>2339.564913</td>\n      <td>1289.708464</td>\n      <td>2573.065565</td>\n      <td>3858.565974</td>\n      <td>3646.59459</td>\n      <td>2809.415157</td>\n      <td>388.847596</td>\n      <td>...</td>\n      <td>538.751872</td>\n      <td>2091.49053</td>\n      <td>2848.581836</td>\n      <td>3239.078012</td>\n      <td>675.362995</td>\n      <td>3540.639219</td>\n      <td>869.020938</td>\n      <td>0.0</td>\n      <td>3288.321689</td>\n      <td>1805.475648</td>\n    </tr>\n    <tr>\n      <th>87_8.5</th>\n      <td>4837.461725</td>\n      <td>4812.251546</td>\n      <td>5018.72277</td>\n      <td>3151.547552</td>\n      <td>2521.482104</td>\n      <td>1805.696204</td>\n      <td>614.377613</td>\n      <td>358.996229</td>\n      <td>1129.088796</td>\n      <td>3972.671235</td>\n      <td>...</td>\n      <td>3997.024512</td>\n      <td>3662.81517</td>\n      <td>1168.255475</td>\n      <td>1568.372651</td>\n      <td>4133.635634</td>\n      <td>650.391858</td>\n      <td>4327.293577</td>\n      <td>3644.675933</td>\n      <td>0.0</td>\n      <td>1869.901287</td>\n    </tr>\n    <tr>\n      <th>926_8.5</th>\n      <td>3711.028709</td>\n      <td>3685.81853</td>\n      <td>3892.289754</td>\n      <td>4005.546536</td>\n      <td>700.654088</td>\n      <td>1244.217188</td>\n      <td>2726.553597</td>\n      <td>2514.582213</td>\n      <td>1677.40278</td>\n      <td>2151.843219</td>\n      <td>...</td>\n      <td>2176.196496</td>\n      <td>3728.935154</td>\n      <td>1805.261459</td>\n      <td>1910.229635</td>\n      <td>2312.807618</td>\n      <td>2408.626842</td>\n      <td>2506.465561</td>\n      <td>1823.847917</td>\n      <td>2156.309312</td>\n      <td>0.0</td>\n    </tr>\n  </tbody>\n</table>\n<p>34 rows × 34 columns</p>\n</div>"
     },
     "execution_count": 99,
     "metadata": {},
     "output_type": "execute_result"
    }
   ],
   "source": [
    "subgraph = nx.DiGraph(new_graph)\n",
    "route_nodes_ind = [x[0] for x in route_nodes]\n",
    "distance_matrix, route_matrix = get_distance_matrixv2(subgraph, route_nodes_ind, route_nodes_ind, True)\n",
    "max_value = distance_matrix.values.max()\n",
    "for i in route_nodes:\n",
    "    node_1, n1_1, n2_1 = i\n",
    "    for j in route_nodes:\n",
    "        node_2, n1_2, n2_2 = j\n",
    "        if (n1_1, n2_1) == (n2_2, n1_2):\n",
    "            distance_matrix.loc[node_1, node_2] = max_value\n",
    "distance_matrix"
   ],
   "metadata": {
    "collapsed": false,
    "ExecuteTime": {
     "end_time": "2024-03-27T13:51:36.749700900Z",
     "start_time": "2024-03-27T13:51:36.453754100Z"
    }
   },
   "id": "140d71493de0f7bd"
  },
  {
   "cell_type": "markdown",
   "source": [
    "ПЕРЕНЕС"
   ],
   "metadata": {
    "collapsed": false
   },
   "id": "f5c6782fdc704c56"
  },
  {
   "cell_type": "code",
   "execution_count": 100,
   "outputs": [
    {
     "data": {
      "text/plain": "['1033_8.5',\n '259_8.5',\n '256_8.5',\n '872_8.5',\n '527_8.5',\n '876_8.5',\n '474_8.5',\n '370_8.5',\n '324_8.5',\n '1_8.5',\n '32_8.5',\n '202_8.5',\n '234_8.5',\n '87_8.5',\n '225_8.5',\n '219_8.5',\n '84_8.5',\n '64_8.5',\n '70_8.5',\n '926_8.5',\n '2_8.5',\n '321_8.5',\n '369_8.5',\n '467_8.5',\n '244_8.5',\n '714_8.5',\n '262_8.5',\n '258_8.5',\n '1035_8.5_1',\n '1035_8.5_2',\n '284_8.5',\n '125_8.5',\n '547_8.5',\n '285_8.5']"
     },
     "execution_count": 100,
     "metadata": {},
     "output_type": "execute_result"
    }
   ],
   "source": [
    "\n",
    "from ortools.constraint_solver import routing_enums_pb2\n",
    "from ortools.constraint_solver import pywrapcp\n",
    "\n",
    "\n",
    "def get_solution(manager, routing, solution) -> list[int]:\n",
    "    result = []\n",
    "    index = routing.Start(0)\n",
    "    while not routing.IsEnd(index):\n",
    "        result.append(manager.IndexToNode(index))\n",
    "        previous_index = index\n",
    "        index = solution.Value(routing.NextVar(index))\n",
    "    return result\n",
    "\n",
    "\n",
    "dm = distance_matrix.values.tolist()\n",
    "dm = [[round(num) for num in sublist] for sublist in dm]\n",
    "# Create the routing index manager.\n",
    "manager = pywrapcp.RoutingIndexManager(len(dm), 1, 0)\n",
    "\n",
    "\n",
    "def distance_callback(from_index, to_index):\n",
    "    \"\"\"Returns the distance between the two nodes.\"\"\"\n",
    "    # Convert from routing variable Index to distance matrix NodeIndex.\n",
    "    from_node = manager.IndexToNode(from_index)\n",
    "    to_node = manager.IndexToNode(to_index)\n",
    "    return dm[from_node][to_node]\n",
    "\n",
    "\n",
    "# Create Routing Model.\n",
    "routing = pywrapcp.RoutingModel(manager)\n",
    "\n",
    "# Define cost of each arc.\n",
    "transit_callback_index = routing.RegisterTransitCallback(distance_callback)\n",
    "routing.SetArcCostEvaluatorOfAllVehicles(transit_callback_index)\n",
    "\n",
    "# Setting first solution heuristic.\n",
    "search_parameters = pywrapcp.DefaultRoutingSearchParameters()\n",
    "search_parameters.first_solution_strategy = (\n",
    "    routing_enums_pb2.FirstSolutionStrategy.PATH_CHEAPEST_ARC\n",
    ")\n",
    "search_parameters.local_search_metaheuristic = (\n",
    "    routing_enums_pb2.LocalSearchMetaheuristic.GUIDED_LOCAL_SEARCH)\n",
    "\n",
    "search_parameters.time_limit.seconds = 10\n",
    "\n",
    "# Solve the problem.\n",
    "solution = routing.SolveWithParameters(search_parameters)\n",
    "\n",
    "result = get_solution(manager, routing, solution)\n",
    "mapping = dict(zip(range(distance_matrix.shape[0]), distance_matrix.index))\n",
    "path = [mapping.get(i) for i in result]\n",
    "path\n"
   ],
   "metadata": {
    "collapsed": false,
    "ExecuteTime": {
     "end_time": "2024-03-27T13:52:02.007570300Z",
     "start_time": "2024-03-27T13:51:51.618482700Z"
    }
   },
   "id": "77cfa143f219b895"
  },
  {
   "cell_type": "markdown",
   "source": [
    "НЕ НУЖНО"
   ],
   "metadata": {
    "collapsed": false
   },
   "id": "31097417ed076aab"
  },
  {
   "cell_type": "code",
   "execution_count": 101,
   "outputs": [
    {
     "data": {
      "text/plain": "<Figure size 750x750 with 1 Axes>",
      "image/png": "[encoded data removed]"
     },
     "metadata": {},
     "output_type": "display_data"
    }
   ],
   "source": [
    "import matplotlib.pyplot as plt\n",
    "\n",
    "plt.figure(figsize=(5, 5), dpi=150)\n",
    "for i in range(len(path) - 1):\n",
    "    node1 = new_graph.nodes[path[i]]\n",
    "    node2 = new_graph.nodes[path[i + 1]]\n",
    "    plt.plot(*zip((node1['x'], node1['y']), (node2['x'], node2['y'])), color='red')\n",
    "    plt.scatter([node1['x'], node2['x']], [node1['y'], node2['y']], color='blue')\n"
   ],
   "metadata": {
    "collapsed": false,
    "ExecuteTime": {
     "end_time": "2024-03-27T13:52:02.933596100Z",
     "start_time": "2024-03-27T13:52:02.009570Z"
    }
   },
   "id": "5ef92b6b02bea454"
  },
  {
   "cell_type": "markdown",
   "source": [
    "НЕ НУЖНО"
   ],
   "metadata": {
    "collapsed": false
   },
   "id": "a0538cb233c116d7"
  },
  {
   "cell_type": "code",
   "execution_count": 55,
   "outputs": [],
   "source": [
    "path_edges = [(path[i], path[i + 1]) for i in range(len(path) - 1)]\n",
    "full_route_nodes = []\n",
    "for u, v in path_edges:\n",
    "    route_ = route_matrix.loc[u, v]\n",
    "    for node_ in route_[:-1]:\n",
    "        full_route_nodes.append(node_)\n",
    "df = pd.DataFrame()\n",
    "for i in range(len(full_route_nodes) - 1):\n",
    "    node1 = full_route_nodes[i]\n",
    "    node2 = full_route_nodes[i + 1]\n",
    "    geometry = new_graph[node1][node2]['geometry']\n",
    "    temp_df = pd.DataFrame({'geometry': [geometry]})\n",
    "    df = pd.concat([df, temp_df])\n",
    "df = gpd.GeoDataFrame(data=df, geometry='geometry', crs=city_crs)\n",
    "df.to_file(\"test_route.geojson\")"
   ],
   "metadata": {
    "collapsed": false,
    "ExecuteTime": {
     "end_time": "2024-03-25T15:09:22.122239700Z",
     "start_time": "2024-03-25T15:09:21.612435500Z"
    }
   },
   "id": "b8a10de88ed6e393"
  },
  {
   "cell_type": "markdown",
   "source": [
    "Делаем граф автобусов"
   ],
   "metadata": {
    "collapsed": false
   },
   "id": "8dc771372bb4c0a5"
  },
  {
   "cell_type": "markdown",
   "source": [
    "ПЕРЕНЕС"
   ],
   "metadata": {
    "collapsed": false
   },
   "id": "9bbbad75ad18f68d"
  },
  {
   "cell_type": "code",
   "execution_count": 8,
   "outputs": [
    {
     "ename": "KeyboardInterrupt",
     "evalue": "",
     "output_type": "error",
     "traceback": [
      "\u001B[1;31m---------------------------------------------------------------------------\u001B[0m",
      "\u001B[1;31mKeyboardInterrupt\u001B[0m                         Traceback (most recent call last)",
      "Cell \u001B[1;32mIn[8], line 3\u001B[0m\n\u001B[0;32m      1\u001B[0m \u001B[38;5;28;01mfrom\u001B[39;00m \u001B[38;5;21;01mshapely\u001B[39;00m\u001B[38;5;21;01m.\u001B[39;00m\u001B[38;5;21;01mops\u001B[39;00m \u001B[38;5;28;01mimport\u001B[39;00m unary_union, transform\n\u001B[1;32m----> 3\u001B[0m graph_from_points \u001B[38;5;241m=\u001B[39m \u001B[43mnx\u001B[49m\u001B[38;5;241m.\u001B[39mDiGraph()\n\u001B[0;32m      6\u001B[0m \u001B[38;5;28;01mdef\u001B[39;00m \u001B[38;5;21mround_coordinates\u001B[39m(x, y,):\n\u001B[0;32m      7\u001B[0m     \u001B[38;5;28;01mreturn\u001B[39;00m \u001B[38;5;28mround\u001B[39m(x, \u001B[38;5;241m2\u001B[39m), \u001B[38;5;28mround\u001B[39m(y, \u001B[38;5;241m2\u001B[39m)\n",
      "File \u001B[1;32m_pydevd_bundle\\pydevd_cython_win32_311_64.pyx:1179\u001B[0m, in \u001B[0;36m_pydevd_bundle.pydevd_cython_win32_311_64.SafeCallWrapper.__call__\u001B[1;34m()\u001B[0m\n",
      "File \u001B[1;32m_pydevd_bundle\\pydevd_cython_win32_311_64.pyx:620\u001B[0m, in \u001B[0;36m_pydevd_bundle.pydevd_cython_win32_311_64.PyDBFrame.trace_dispatch\u001B[1;34m()\u001B[0m\n",
      "File \u001B[1;32m_pydevd_bundle\\pydevd_cython_win32_311_64.pyx:929\u001B[0m, in \u001B[0;36m_pydevd_bundle.pydevd_cython_win32_311_64.PyDBFrame.trace_dispatch\u001B[1;34m()\u001B[0m\n",
      "File \u001B[1;32m_pydevd_bundle\\pydevd_cython_win32_311_64.pyx:920\u001B[0m, in \u001B[0;36m_pydevd_bundle.pydevd_cython_win32_311_64.PyDBFrame.trace_dispatch\u001B[1;34m()\u001B[0m\n",
      "File \u001B[1;32m_pydevd_bundle\\pydevd_cython_win32_311_64.pyx:317\u001B[0m, in \u001B[0;36m_pydevd_bundle.pydevd_cython_win32_311_64.PyDBFrame.do_wait_suspend\u001B[1;34m()\u001B[0m\n",
      "File \u001B[1;32mC:\\Program Files\\JetBrains\\PyCharm 2023.2.1\\plugins\\python\\helpers\\pydev\\pydevd.py:1160\u001B[0m, in \u001B[0;36mPyDB.do_wait_suspend\u001B[1;34m(self, thread, frame, event, arg, send_suspend_message, is_unhandled_exception)\u001B[0m\n\u001B[0;32m   1157\u001B[0m         from_this_thread\u001B[38;5;241m.\u001B[39mappend(frame_id)\n\u001B[0;32m   1159\u001B[0m \u001B[38;5;28;01mwith\u001B[39;00m \u001B[38;5;28mself\u001B[39m\u001B[38;5;241m.\u001B[39m_threads_suspended_single_notification\u001B[38;5;241m.\u001B[39mnotify_thread_suspended(thread_id, stop_reason):\n\u001B[1;32m-> 1160\u001B[0m     \u001B[38;5;28;43mself\u001B[39;49m\u001B[38;5;241;43m.\u001B[39;49m\u001B[43m_do_wait_suspend\u001B[49m\u001B[43m(\u001B[49m\u001B[43mthread\u001B[49m\u001B[43m,\u001B[49m\u001B[43m \u001B[49m\u001B[43mframe\u001B[49m\u001B[43m,\u001B[49m\u001B[43m \u001B[49m\u001B[43mevent\u001B[49m\u001B[43m,\u001B[49m\u001B[43m \u001B[49m\u001B[43marg\u001B[49m\u001B[43m,\u001B[49m\u001B[43m \u001B[49m\u001B[43msuspend_type\u001B[49m\u001B[43m,\u001B[49m\u001B[43m \u001B[49m\u001B[43mfrom_this_thread\u001B[49m\u001B[43m)\u001B[49m\n",
      "File \u001B[1;32mC:\\Program Files\\JetBrains\\PyCharm 2023.2.1\\plugins\\python\\helpers\\pydev\\pydevd.py:1175\u001B[0m, in \u001B[0;36mPyDB._do_wait_suspend\u001B[1;34m(self, thread, frame, event, arg, suspend_type, from_this_thread)\u001B[0m\n\u001B[0;32m   1172\u001B[0m             \u001B[38;5;28mself\u001B[39m\u001B[38;5;241m.\u001B[39m_call_mpl_hook()\n\u001B[0;32m   1174\u001B[0m         \u001B[38;5;28mself\u001B[39m\u001B[38;5;241m.\u001B[39mprocess_internal_commands()\n\u001B[1;32m-> 1175\u001B[0m         \u001B[43mtime\u001B[49m\u001B[38;5;241;43m.\u001B[39;49m\u001B[43msleep\u001B[49m\u001B[43m(\u001B[49m\u001B[38;5;241;43m0.01\u001B[39;49m\u001B[43m)\u001B[49m\n\u001B[0;32m   1177\u001B[0m \u001B[38;5;28mself\u001B[39m\u001B[38;5;241m.\u001B[39mcancel_async_evaluation(get_current_thread_id(thread), \u001B[38;5;28mstr\u001B[39m(\u001B[38;5;28mid\u001B[39m(frame)))\n\u001B[0;32m   1179\u001B[0m \u001B[38;5;66;03m# process any stepping instructions\u001B[39;00m\n",
      "\u001B[1;31mKeyboardInterrupt\u001B[0m: "
     ]
    }
   ],
   "source": [
    "from shapely.ops import unary_union, transform\n",
    "\n",
    "graph_from_points = nx.DiGraph()\n",
    "\n",
    "\n",
    "def round_coordinates(x, y,):\n",
    "    return round(x, 2), round(y, 2)\n",
    "\n",
    "path_edges = [(path[i], path[i + 1]) for i in range(len(path) - 1)]\n",
    "path_edges.append((path[-1], path[0]))\n",
    "route_number = str(path_edges[0][0]).split('_')[1].split('.')[0]\n",
    "for u, v in path_edges:\n",
    "    route_ = route_matrix.loc[u, v]\n",
    "    new_route_geometry = None\n",
    "    for i in range(len(route_) - 1):\n",
    "        node1 = route_[i]\n",
    "        node2 = route_[i + 1]\n",
    "        cur_geom = transform(round_coordinates, LineString(subgraph[node1][node2]['geometry']))\n",
    "        if new_route_geometry is None:\n",
    "            new_route_geometry = cur_geom\n",
    "        else:\n",
    "            new_route_geometry = new_route_geometry.union(cur_geom)\n",
    "    route_len = new_route_geometry.length\n",
    "    graph_from_points.add_node(u, x=subgraph.nodes[u]['x'], y=subgraph.nodes[u]['y'], route=route_number)\n",
    "    graph_from_points.add_node(v, x=subgraph.nodes[v]['x'], y=subgraph.nodes[v]['y'], route=route_number)\n",
    "    graph_from_points.add_edge(u, v, geometry=new_route_geometry, route=route_number, length_meter=route_len)\n",
    "\n",
    "for i in graph_from_points.edges(data=True):\n",
    "    i[2]['geometry'] = str(i[2]['geometry'])\n",
    "nx.write_graphml(graph_from_points, f\"route_8.graphml\")\n"
   ],
   "metadata": {
    "collapsed": false,
    "ExecuteTime": {
     "end_time": "2024-03-29T11:54:18.378610900Z",
     "start_time": "2024-03-29T11:54:15.822048900Z"
    }
   },
   "id": "b173333606bb6c73"
  },
  {
   "cell_type": "code",
   "execution_count": 44,
   "outputs": [
    {
     "data": {
      "text/plain": "['1033_8.1',\n '259_8.1',\n '256_8.1',\n '872_8.1',\n '527_8.1',\n '876_8.1',\n '474_8.1',\n '370_8.1',\n '324_8.1',\n '1_8.1',\n '32_8.1',\n '202_8.1',\n '234_8.1',\n '87_8.1',\n '225_8.1',\n '219_8.1',\n '84_8.1',\n '64_8.1',\n '70_8.1',\n '926_8.1',\n '2_8.1',\n '321_8.1',\n '369_8.1',\n '467_8.1',\n '244_8.1',\n '714_8.1',\n '262_8.1',\n '258_8.1',\n '1035_8.1_1',\n '1035_8.1_2',\n '284_8.1',\n '125_8.1',\n '547_8.1',\n '285_8.1']"
     },
     "execution_count": 44,
     "metadata": {},
     "output_type": "execute_result"
    }
   ],
   "source": [],
   "metadata": {
    "collapsed": false,
    "ExecuteTime": {
     "end_time": "2024-03-26T12:07:57.454320700Z",
     "start_time": "2024-03-26T12:07:57.384979500Z"
    }
   },
   "id": "59613e1d12cbf05b"
  },
  {
   "cell_type": "markdown",
   "source": [],
   "metadata": {
    "collapsed": false
   },
   "id": "a938b0003522a9d5"
  },
  {
   "cell_type": "code",
   "execution_count": 6,
   "outputs": [
    {
     "data": {
      "text/html": "\n\t\t\t<script type=\"text/javascript\">\n\t\t\t<!--\n\t\t\t\t\n\t\t\t{\n\t\t\t\tvar element = document.getElementById('NetworKit_script');\n\t\t\t\tif (element) {\n\t\t\t\t\telement.parentNode.removeChild(element);\n\t\t\t\t}\n\t\t\t\telement = document.createElement('script');\n\t\t\t\telement.type = 'text/javascript';\n\t\t\t\telement.innerHTML = 'function NetworKit_pageEmbed(id) { var i, j; var elements; elements = document.getElementById(id).getElementsByClassName(\"Plot\"); for (i=0; i<elements.length; i++) { elements[i].id = id + \"_Plot_\" + i; var data = elements[i].getAttribute(\"data-image\").split(\"|\"); elements[i].removeAttribute(\"data-image\"); var content = \"<div class=\\\\\"Image\\\\\" id=\\\\\"\" + elements[i].id + \"_Image\\\\\" />\"; elements[i].innerHTML = content; elements[i].setAttribute(\"data-image-index\", 0); elements[i].setAttribute(\"data-image-length\", data.length); for (j=0; j<data.length; j++) { elements[i].setAttribute(\"data-image-\" + j, data[j]); } NetworKit_plotUpdate(elements[i]); elements[i].onclick = function (e) { NetworKit_overlayShow((e.target) ? e.target : e.srcElement); } } elements = document.getElementById(id).getElementsByClassName(\"HeatCell\"); for (i=0; i<elements.length; i++) { var data = parseFloat(elements[i].getAttribute(\"data-heat\")); var color = \"#00FF00\"; if (data <= 1 && data > 0) { color = \"hsla(0, 100%, 75%, \" + (data) + \")\"; } else if (data <= 0 && data >= -1) { color = \"hsla(240, 100%, 75%, \" + (-data) + \")\"; } elements[i].style.backgroundColor = color; } elements = document.getElementById(id).getElementsByClassName(\"Details\"); for (i=0; i<elements.length; i++) { elements[i].setAttribute(\"data-title\", \"-\"); NetworKit_toggleDetails(elements[i]); elements[i].onclick = function (e) { NetworKit_toggleDetails((e.target) ? e.target : e.srcElement); } } elements = document.getElementById(id).getElementsByClassName(\"MathValue\"); for (i=elements.length-1; i>=0; i--) { value = elements[i].innerHTML.trim(); if (value === \"nan\") { elements[i].parentNode.innerHTML = \"\" } } elements = document.getElementById(id).getElementsByClassName(\"SubCategory\"); for (i=elements.length-1; i>=0; i--) { value = elements[i].innerHTML.trim(); if (value === \"\") { elements[i].parentNode.removeChild(elements[i]) } } elements = document.getElementById(id).getElementsByClassName(\"Category\"); for (i=elements.length-1; i>=0; i--) { value = elements[i].innerHTML.trim(); if (value === \"\") { elements[i].parentNode.removeChild(elements[i]) } } var isFirefox = false; try { isFirefox = typeof InstallTrigger !== \"undefined\"; } catch (e) {} if (!isFirefox) { alert(\"Currently the function\\'s output is only fully supported by Firefox.\"); } } function NetworKit_plotUpdate(source) { var index = source.getAttribute(\"data-image-index\"); var data = source.getAttribute(\"data-image-\" + index); var image = document.getElementById(source.id + \"_Image\"); image.style.backgroundImage = \"url(\" + data + \")\"; } function NetworKit_showElement(id, show) { var element = document.getElementById(id); element.style.display = (show) ? \"block\" : \"none\"; } function NetworKit_overlayShow(source) { NetworKit_overlayUpdate(source); NetworKit_showElement(\"NetworKit_Overlay\", true); } function NetworKit_overlayUpdate(source) { document.getElementById(\"NetworKit_Overlay_Title\").innerHTML = source.title; var index = source.getAttribute(\"data-image-index\"); var data = source.getAttribute(\"data-image-\" + index); var image = document.getElementById(\"NetworKit_Overlay_Image\"); image.setAttribute(\"data-id\", source.id); image.style.backgroundImage = \"url(\" + data + \")\"; var link = document.getElementById(\"NetworKit_Overlay_Toolbar_Bottom_Save\"); link.href = data; link.download = source.title + \".svg\"; } function NetworKit_overlayImageShift(delta) { var image = document.getElementById(\"NetworKit_Overlay_Image\"); var source = document.getElementById(image.getAttribute(\"data-id\")); var index = parseInt(source.getAttribute(\"data-image-index\")); var length = parseInt(source.getAttribute(\"data-image-length\")); var index = (index+delta) % length; if (index < 0) { index = length + index; } source.setAttribute(\"data-image-index\", index); NetworKit_overlayUpdate(source); } function NetworKit_toggleDetails(source) { var childs = source.children; var show = false; if (source.getAttribute(\"data-title\") == \"-\") { source.setAttribute(\"data-title\", \"+\"); show = false; } else { source.setAttribute(\"data-title\", \"-\"); show = true; } for (i=0; i<childs.length; i++) { if (show) { childs[i].style.display = \"block\"; } else { childs[i].style.display = \"none\"; } } }';\n\t\t\t\telement.setAttribute('id', 'NetworKit_script');\n\t\t\t\tdocument.head.appendChild(element);\n\t\t\t}\n\t\t\n\t\t\t\t\n\t\t\t{\n\t\t\t\tvar element = document.getElementById('NetworKit_style');\n\t\t\t\tif (element) {\n\t\t\t\t\telement.parentNode.removeChild(element);\n\t\t\t\t}\n\t\t\t\telement = document.createElement('style');\n\t\t\t\telement.type = 'text/css';\n\t\t\t\telement.innerHTML = '.NetworKit_Page { font-family: Arial, Helvetica, sans-serif; font-size: 14px; } .NetworKit_Page .Value:before { font-family: Arial, Helvetica, sans-serif; font-size: 1.05em; content: attr(data-title) \":\"; margin-left: -2.5em; padding-right: 0.5em; } .NetworKit_Page .Details .Value:before { display: block; } .NetworKit_Page .Value { font-family: monospace; white-space: pre; padding-left: 2.5em; white-space: -moz-pre-wrap !important; white-space: -pre-wrap; white-space: -o-pre-wrap; white-space: pre-wrap; word-wrap: break-word; tab-size: 4; -moz-tab-size: 4; } .NetworKit_Page .Category { clear: both; padding-left: 1em; margin-bottom: 1.5em; } .NetworKit_Page .Category:before { content: attr(data-title); font-size: 1.75em; display: block; margin-left: -0.8em; margin-bottom: 0.5em; } .NetworKit_Page .SubCategory { margin-bottom: 1.5em; padding-left: 1em; } .NetworKit_Page .SubCategory:before { font-size: 1.6em; display: block; margin-left: -0.8em; margin-bottom: 0.5em; } .NetworKit_Page .SubCategory[data-title]:before { content: attr(data-title); } .NetworKit_Page .Block { display: block; } .NetworKit_Page .Block:after { content: \".\"; visibility: hidden; display: block; height: 0; clear: both; } .NetworKit_Page .Block .Thumbnail_Overview, .NetworKit_Page .Block .Thumbnail_ScatterPlot { width: 260px; float: left; } .NetworKit_Page .Block .Thumbnail_Overview img, .NetworKit_Page .Block .Thumbnail_ScatterPlot img { width: 260px; } .NetworKit_Page .Block .Thumbnail_Overview:before, .NetworKit_Page .Block .Thumbnail_ScatterPlot:before { display: block; text-align: center; font-weight: bold; } .NetworKit_Page .Block .Thumbnail_Overview:before { content: attr(data-title); } .NetworKit_Page .HeatCell { font-family: \"Courier New\", Courier, monospace; cursor: pointer; } .NetworKit_Page .HeatCell, .NetworKit_Page .HeatCellName { display: inline; padding: 0.1em; margin-right: 2px; background-color: #FFFFFF } .NetworKit_Page .HeatCellName { margin-left: 0.25em; } .NetworKit_Page .HeatCell:before { content: attr(data-heat); display: inline-block; color: #000000; width: 4em; text-align: center; } .NetworKit_Page .Measure { clear: both; } .NetworKit_Page .Measure .Details { cursor: pointer; } .NetworKit_Page .Measure .Details:before { content: \"[\" attr(data-title) \"]\"; display: block; } .NetworKit_Page .Measure .Details .Value { border-left: 1px dotted black; margin-left: 0.4em; padding-left: 3.5em; pointer-events: none; } .NetworKit_Page .Measure .Details .Spacer:before { content: \".\"; opacity: 0.0; pointer-events: none; } .NetworKit_Page .Measure .Plot { width: 440px; height: 440px; cursor: pointer; float: left; margin-left: -0.9em; margin-right: 20px; } .NetworKit_Page .Measure .Plot .Image { background-repeat: no-repeat; background-position: center center; background-size: contain; height: 100%; pointer-events: none; } .NetworKit_Page .Measure .Stat { width: 500px; float: left; } .NetworKit_Page .Measure .Stat .Group { padding-left: 1.25em; margin-bottom: 0.75em; } .NetworKit_Page .Measure .Stat .Group .Title { font-size: 1.1em; display: block; margin-bottom: 0.3em; margin-left: -0.75em; border-right-style: dotted; border-right-width: 1px; border-bottom-style: dotted; border-bottom-width: 1px; background-color: #D0D0D0; padding-left: 0.2em; } .NetworKit_Page .Measure .Stat .Group .List { -webkit-column-count: 3; -moz-column-count: 3; column-count: 3; } .NetworKit_Page .Measure .Stat .Group .List .Entry { position: relative; line-height: 1.75em; } .NetworKit_Page .Measure .Stat .Group .List .Entry[data-tooltip]:before { position: absolute; left: 0; top: -40px; background-color: #808080; color: #ffffff; height: 30px; line-height: 30px; border-radius: 5px; padding: 0 15px; content: attr(data-tooltip); white-space: nowrap; display: none; } .NetworKit_Page .Measure .Stat .Group .List .Entry[data-tooltip]:after { position: absolute; left: 15px; top: -10px; border-top: 7px solid #808080; border-left: 7px solid transparent; border-right: 7px solid transparent; content: \"\"; display: none; } .NetworKit_Page .Measure .Stat .Group .List .Entry[data-tooltip]:hover:after, .NetworKit_Page .Measure .Stat .Group .List .Entry[data-tooltip]:hover:before { display: block; } .NetworKit_Page .Measure .Stat .Group .List .Entry .MathValue { font-family: \"Courier New\", Courier, monospace; } .NetworKit_Page .Measure:after { content: \".\"; visibility: hidden; display: block; height: 0; clear: both; } .NetworKit_Page .PartitionPie { clear: both; } .NetworKit_Page .PartitionPie img { width: 600px; } #NetworKit_Overlay { left: 0px; top: 0px; display: none; position: absolute; width: 100%; height: 100%; background-color: rgba(0,0,0,0.6); z-index: 1000; } #NetworKit_Overlay_Title { position: absolute; color: white; transform: rotate(-90deg); width: 32em; height: 32em; padding-right: 0.5em; padding-top: 0.5em; text-align: right; font-size: 40px; } #NetworKit_Overlay .button { background: white; cursor: pointer; } #NetworKit_Overlay .button:before { size: 13px; display: inline-block; text-align: center; margin-top: 0.5em; margin-bottom: 0.5em; width: 1.5em; height: 1.5em; } #NetworKit_Overlay .icon-close:before { content: \"X\"; } #NetworKit_Overlay .icon-previous:before { content: \"P\"; } #NetworKit_Overlay .icon-next:before { content: \"N\"; } #NetworKit_Overlay .icon-save:before { content: \"S\"; } #NetworKit_Overlay_Toolbar_Top, #NetworKit_Overlay_Toolbar_Bottom { position: absolute; width: 40px; right: 13px; text-align: right; z-index: 1100; } #NetworKit_Overlay_Toolbar_Top { top: 0.5em; } #NetworKit_Overlay_Toolbar_Bottom { Bottom: 0.5em; } #NetworKit_Overlay_ImageContainer { position: absolute; top: 5%; left: 5%; height: 90%; width: 90%; background-repeat: no-repeat; background-position: center center; background-size: contain; } #NetworKit_Overlay_Image { height: 100%; width: 100%; background-repeat: no-repeat; background-position: center center; background-size: contain; }';\n\t\t\t\telement.setAttribute('id', 'NetworKit_style');\n\t\t\t\tdocument.head.appendChild(element);\n\t\t\t}\n\t\t\n\t\t\t\t\n\t\t\t{\n\t\t\t\tvar element = document.getElementById('NetworKit_Overlay');\n\t\t\t\tif (element) {\n\t\t\t\t\telement.parentNode.removeChild(element);\n\t\t\t\t}\n\t\t\t\telement = document.createElement('div');\n\t\t\t\telement.innerHTML = '<div id=\"NetworKit_Overlay_Toolbar_Top\"><div class=\"button icon-close\" id=\"NetworKit_Overlay_Close\" /></div><div id=\"NetworKit_Overlay_Title\" /> <div id=\"NetworKit_Overlay_ImageContainer\"> <div id=\"NetworKit_Overlay_Image\" /> </div> <div id=\"NetworKit_Overlay_Toolbar_Bottom\"> <div class=\"button icon-previous\" onclick=\"NetworKit_overlayImageShift(-1)\" /> <div class=\"button icon-next\" onclick=\"NetworKit_overlayImageShift(1)\" /> <a id=\"NetworKit_Overlay_Toolbar_Bottom_Save\"><div class=\"button icon-save\" /></a> </div>';\n\t\t\t\telement.setAttribute('id', 'NetworKit_Overlay');\n\t\t\t\tdocument.body.appendChild(element);\n\t\t\t\tdocument.getElementById('NetworKit_Overlay_Close').onclick = function (e) {\n\t\t\t\t\tdocument.getElementById('NetworKit_Overlay').style.display = 'none';\n\t\t\t\t}\n\t\t\t}\n\t\t\n\t\t\t-->\n\t\t\t</script>\n\t\t"
     },
     "metadata": {},
     "output_type": "display_data"
    },
    {
     "name": "stderr",
     "output_type": "stream",
     "text": [
      "\u001B[32m2024-03-18 15:58:27.231\u001B[0m | \u001B[34m\u001B[1mDEBUG   \u001B[0m | \u001B[36msrc.dongraphio.utils.graphs\u001B[0m:\u001B[36mget_osmnx_graph\u001B[0m:\u001B[36m58\u001B[0m - \u001B[34m\u001B[1mExtracting and preparing drive graph from OSM ...\u001B[0m\n"
     ]
    },
    {
     "data": {
      "text/plain": "Collecting drive graph:   0%|          | 0/1467 [00:00<?, ?it/s]",
      "application/vnd.jupyter.widget-view+json": {
       "version_major": 2,
       "version_minor": 0,
       "model_id": "62f4c2c52e814a64a410d3683ce7fa8b"
      }
     },
     "metadata": {},
     "output_type": "display_data"
    }
   ],
   "source": [
    "from shapely import from_wkt\n",
    "from src.dongraphio.utils import get_osmnx_graph\n",
    "import osmnx as ox\n",
    "import networkx as nx\n",
    "\n",
    "G_drive: nx.MultiDiGraph = get_osmnx_graph(\n",
    "    2705630, 32636, \"drive\", truncate_by_edge=False\n",
    ")\n",
    "nx.write_graphml(G_drive, \"graph_for_test.graphml\")\n",
    "for i in G_drive.edges(data=True):\n",
    "    i[2]['geometry'] = from_wkt(str(i[2]['geometry']))\n",
    "gdf = ox.graph_to_gdfs(G_drive, nodes=False)\n",
    "gdf.to_file(\"graph_for_test.geojson\")"
   ],
   "metadata": {
    "collapsed": false,
    "ExecuteTime": {
     "end_time": "2024-03-18T12:58:28.457160800Z",
     "start_time": "2024-03-18T12:58:24.737959300Z"
    }
   },
   "id": "2a01bd560badce4"
  },
  {
   "cell_type": "markdown",
   "source": [
    "ACO Алгорим ( муравьиной колонии), устаревший, застревает в локальных минумах в отличии от гугловского решателя."
   ],
   "metadata": {
    "collapsed": false
   },
   "id": "f499abf3f2ea53b1"
  },
  {
   "cell_type": "code",
   "execution_count": null,
   "outputs": [],
   "source": [
    "from dataclasses import dataclass\n",
    "from math import sqrt\n",
    "from math import inf\n",
    "from numpy import exp\n",
    "from random import random, shuffle, sample\n",
    "\n",
    "\n",
    "class Base:\n",
    "    \"\"\"\n",
    "    The base class for path finding algorithms.\n",
    "    Contains common functions.\n",
    "    \"\"\"\n",
    "\n",
    "    @staticmethod\n",
    "    def _calculate_dist(dm: list[list[float]], indx: list[int]) -> float:\n",
    "        \"\"\"Calculates the path length based on the index list of the distance matrix.\"\"\"\n",
    "\n",
    "        dist = 0\n",
    "        for i in range(len(indx) - 1):\n",
    "            dist += dm[indx[i]][indx[i + 1]]\n",
    "        return dist\n",
    "\n",
    "\n",
    "@dataclass\n",
    "class Path:\n",
    "    \"\"\"\n",
    "    Dataclass describing a path using:\n",
    "    * list of point indices;\n",
    "    * path length;\n",
    "    * path name (optional).\n",
    "    \"\"\"\n",
    "\n",
    "    indx: list[int]\n",
    "    leng: float\n",
    "    name: str\n",
    "\n",
    "\n",
    "class ACO(Base):\n",
    "    \"\"\"\n",
    "    Ant Colony Optimization algorithm is introduced based on the foraging behavior of an ant\n",
    "    for seeking a path between their colony and source food.\\n\n",
    "    -----\n",
    "    `ants: int` THE NUMBER OF ANTS\\n\n",
    "    The total number of agents (ants) involved in one iteration.\\n\n",
    "    -----\n",
    "    `iter: int` THE NUMBER OF ITERATIONS\\n\n",
    "    The maximum number of iterations of the algorithm.\\n\n",
    "    -----\n",
    "    `a: float` INFORMATION ELICITATION FACTOR\\n\n",
    "    The information elicitation factor α, which represents the relative importance of the pheromone,\n",
    "    reflects the importance of the accumulation of the pheromone with regard to the ants' path selection.\\n\n",
    "    -----\n",
    "    `b: float` EXPECTED HEURISTIC FACTOR\\n\n",
    "    The expected heuristic factor β, which represents the relative importance of the visibility,\n",
    "    reflects the importance of the heuristic information with regard to the ants' path selection.\\n\n",
    "    -----\n",
    "    `p: float` PHEROMONE EVAPORATION COEFFICIENT\\n\n",
    "    The pheromone evaporation coefficient ρ, which represents the degree of pheromone evaporation,\n",
    "    reflects the degree of mutual influence among ants. Generally, the value of  is [0, 1],\n",
    "    which prevents the infinite accumulation of pheromone effectively.\\n\n",
    "    -----\n",
    "    `q: float` PHEROMONE INTENSITY\\n\n",
    "    The pheromone intensity Q, which represents the total pheromone,\n",
    "    affects the convergence speed of the alghoritm to a certain extent.\\n\n",
    "    \"\"\"\n",
    "\n",
    "    def __init__(self, ants: int, iter: int, a: float, b: float, p: float, q: float) -> None:\n",
    "        \"\"\"Initializes the hyperparameters for the algorithm.\"\"\"\n",
    "\n",
    "        self.ants = ants\n",
    "        self.iter = iter\n",
    "        self.a = a\n",
    "        self.b = b\n",
    "        self.p = p\n",
    "        self.q = q\n",
    "\n",
    "    @staticmethod\n",
    "    def __select_i(selection: list[int]) -> int:\n",
    "        \"\"\"Selects a random index of the next 2D point.\"\"\"\n",
    "\n",
    "        sum_num = sum(selection)\n",
    "        if sum_num == 0:\n",
    "            return len(selection) - 1\n",
    "        tmp_num = random()\n",
    "        prob = 0\n",
    "        for i in range(len(selection)):\n",
    "            prob += selection[i] / sum_num\n",
    "            if prob >= tmp_num:\n",
    "                return i\n",
    "\n",
    "    def __create_indx(self, dm: list[list[float]], pm: list[list[float]]) -> list[int]:\n",
    "        \"\"\"Creates a new ordering of 2D point indices based on the distance and pheromone.\"\"\"\n",
    "\n",
    "        l = len(dm)\n",
    "        unvisited_indx = list(range(l))\n",
    "        shuffle(unvisited_indx)\n",
    "        visited_indx = [unvisited_indx.pop()]\n",
    "        for _ in range(l - 1):\n",
    "            i = visited_indx[-1]\n",
    "            selection = []\n",
    "            for j in unvisited_indx:\n",
    "                selection.append(\n",
    "                    (pm[i][j] ** self.a) * ((1 / max(dm[i][j], 10 ** -5)) ** self.b)\n",
    "                )\n",
    "            selected_i = ACO.__select_i(selection)\n",
    "            visited_indx.append(unvisited_indx.pop(selected_i))\n",
    "        visited_indx.append(visited_indx[0])\n",
    "        return visited_indx\n",
    "\n",
    "    def update_pm(self, pm: list[list[float]], tmp_indx: list[list[int]], tmp_leng: list[float]) -> None:\n",
    "        \"\"\"Updates the pheromone matrix.\"\"\"\n",
    "\n",
    "        l = len(pm)\n",
    "        for i in range(l):\n",
    "            for j in range(i, l):\n",
    "                pm[i][j] *= 1 - self.p\n",
    "                pm[j][i] *= 1 - self.p\n",
    "        for i in range(self.ants):\n",
    "            delta = self.q / tmp_leng[i]\n",
    "            indx = tmp_indx[i]\n",
    "            for j in range(l):\n",
    "                pm[indx[j]][indx[j + 1]] += delta\n",
    "                pm[indx[j + 1]][indx[j]] += delta\n",
    "\n",
    "    def run(self, dm: list[list[float]], name: str = None, ) -> Path:\n",
    "        \"\"\"Runs the algorithm for the given 2D points.\"\"\"\n",
    "        l = len(dm)\n",
    "        pm = [[1 for _ in range(l)] for _ in range(l)]\n",
    "\n",
    "        res_indx = []\n",
    "        res_leng = inf\n",
    "        for _ in range(self.iter):\n",
    "            tmp_indx = []\n",
    "            tmp_leng = []\n",
    "            for _ in range(self.ants):\n",
    "                indx = self.__create_indx(dm, pm)\n",
    "                tmp_indx.append(indx)\n",
    "                tmp_leng.append(ACO._calculate_dist(dm, indx))\n",
    "            self.update_pm(pm, tmp_indx, tmp_leng)\n",
    "            best_leng = min(tmp_leng)\n",
    "            if best_leng < res_leng:\n",
    "                res_leng = best_leng\n",
    "                res_indx = tmp_indx[tmp_leng.index(best_leng)]\n",
    "        return Path(indx=res_indx, leng=res_leng, name=name)\n"
   ],
   "metadata": {
    "collapsed": false
   },
   "id": "e073d5d96c386148"
  },
  {
   "cell_type": "code",
   "execution_count": null,
   "outputs": [],
   "source": [
    "dm = distance_matrix.values.tolist()\n",
    "\n",
    "aco = ACO(ants=150, iter=1500, a=1.1, b=0.8, p=0.2, q=10)\n",
    "\n",
    "result = (aco.run(dm=distance_matrix.values.tolist(), name=\"ACO\"))\n",
    "mapping = dict(zip(range(distance_matrix.shape[0]), distance_matrix.index))\n",
    "print(result.leng)\n",
    "path = [mapping.get(i) for i in result.indx]\n",
    "print(path)\n"
   ],
   "metadata": {
    "collapsed": false
   },
   "id": "386013fe6e075eb4"
  },
  {
   "cell_type": "markdown",
   "source": [
    "РЕАЛИЗАЦИЯ \"СОЕДИНЕНИЯ ОСТРОВОВ сабграфаГРАФА по исходному\", не додумана и не реализована из за ненужности :("
   ],
   "metadata": {
    "collapsed": false
   },
   "id": "9ce33b3f1086b4ca"
  },
  {
   "cell_type": "code",
   "execution_count": null,
   "outputs": [],
   "source": [
    "iter_ = 0\n",
    "nonstop = list(nodes_to_save ^ set([i[0] for i in route_nodes]))\n",
    "subgraph = nx.DiGraph(new_graph.subgraph(nonstop))\n",
    "for i in subgraph.edges(data=True):\n",
    "    i[2]['geometry'] = str(i[2]['geometry'])\n",
    "nx.write_graphml(subgraph, \"subgraph_0.graphml\")\n",
    "while len(list(nx.strongly_connected_components(subgraph))) > 1:\n",
    "    min_dist = float(\"inf\")\n",
    "    min_path = []\n",
    "    for component in list(nx.strongly_connected_components(subgraph)):\n",
    "        for node in component:\n",
    "            try:\n",
    "                row = dist_matrix.loc[node].drop(node)\n",
    "                min_dist_ = row.min()\n",
    "                min_dist_column = row.idxmin()\n",
    "                if min_dist_ < min_dist:\n",
    "                    min_dist = min_dist_\n",
    "                    min_path = path_nodes.loc[node][min_dist_column]\n",
    "                    dist_matrix.loc[node, min_dist_column] = float(\"inf\")\n",
    "            except KeyError:\n",
    "                pass\n",
    "    for node in min_path:\n",
    "        nonstop.append(node)\n",
    "    iter_ = iter_ + 1\n",
    "    print(iter_)\n",
    "    subgraph = nx.DiGraph(new_graph.subgraph(nonstop))\n",
    "    # for i in subgraph.edges(data=True):\n",
    "    #     i[2]['geometry'] = str(i[2]['geometry'])\n",
    "    # nx.write_graphml(subgraph,f\"subgraph_{iter_}.graphml\")\n",
    "\n",
    "    print(min_dist)\n",
    "    print(min_path)\n"
   ],
   "metadata": {
    "collapsed": false
   },
   "id": "65dd90e9b1baee53"
  },
  {
   "cell_type": "markdown",
   "source": [
    "НЕ НУЖНО, networkx нааамного медленее netrwokit"
   ],
   "metadata": {
    "collapsed": false
   },
   "id": "137855e0e7619140"
  },
  {
   "cell_type": "code",
   "execution_count": null,
   "outputs": [],
   "source": [
    "import momepy\n",
    "import pandas as pd\n",
    "import networkx as nx\n",
    "import networkit as nk\n",
    "from shapely import distance, Point\n",
    "\n",
    "\n",
    "def get_distance_matrix(graph: nx.DiGraph, nodes_from: [], nodes_to: [], path=False) -> (\n",
    "        pd.DataFrame, pd.DataFrame | None):\n",
    "    def heuristic(node1, node2):\n",
    "        node1 = graph.nodes[node1]\n",
    "        node2 = graph.nodes[node2]\n",
    "        point1 = Point(node1['x'], node1['y'])\n",
    "        point2 = Point(node2['x'], node2['y'])\n",
    "        return distance(point1, point2)\n",
    "\n",
    "    distance_matrix = pd.DataFrame(0, index=nodes_from, columns=nodes_to).astype(object)\n",
    "    if path:\n",
    "        route_matrix = pd.DataFrame(index=nodes_from, columns=nodes_to)\n",
    "    for source in tqdm(nodes_from, total=len(nodes_from), desc=\"Calculating distances\"):\n",
    "        for dest in nodes_to:\n",
    "            path = nx.astar_path(graph, source, dest, heuristic, weight='length_meter')\n",
    "            total_distance = sum(graph[path[i]][path[i + 1]]['length_meter'] for i in range(len(path) - 1))\n",
    "            if path:\n",
    "                route_matrix.loc[source, dest] = path\n",
    "            distance_matrix.loc[source, dest] = total_distance\n",
    "    if path:\n",
    "        return distance_matrix, route_matrix\n",
    "    return distance_matrix"
   ],
   "metadata": {
    "collapsed": false
   },
   "id": "39bc154b28595926"
  }
 ],
 "metadata": {
  "kernelspec": {
   "display_name": "Python 3",
   "language": "python",
   "name": "python3"
  },
  "language_info": {
   "codemirror_mode": {
    "name": "ipython",
    "version": 2
   },
   "file_extension": ".py",
   "mimetype": "text/x-python",
   "name": "python",
   "nbconvert_exporter": "python",
   "pygments_lexer": "ipython2",
   "version": "2.7.6"
  }
 },
 "nbformat": 4,
 "nbformat_minor": 5
}
