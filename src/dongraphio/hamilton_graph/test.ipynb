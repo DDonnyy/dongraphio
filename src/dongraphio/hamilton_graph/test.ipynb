{
 "cells": [
  {
   "cell_type": "code",
   "execution_count": 1,
   "outputs": [
    {
     "data": {
      "text/plain": "                 name                                              route  \\\n0             Дусьево  593,593/596,847,856,860,860Л,864,865,865Д,867,...   \n1                None                                                247   \n2     Горная Шальдиха                            588,589,590,593,593/594   \n3            Мучихино                                                590   \n4          Васильково                                                590   \n...               ...                                                ...   \n8386     \\nЗаостровье                                                 94   \n8387     \\nЗаостровье                                                 94   \n8388            Горка                                                 94   \n8389    Новая Слобода                                             89А,91   \n8390    Новая Слобода                                             89А,91   \n\n                       geometry  \n0     POINT (31.72832 59.93558)  \n1     POINT (32.44568 59.28601)  \n2     POINT (31.46034 59.87465)  \n3     POINT (31.52410 59.86666)  \n4     POINT (31.58237 59.87627)  \n...                         ...  \n8386  POINT (33.27731 60.62779)  \n8387  POINT (33.27741 60.62765)  \n8388  POINT (33.22445 60.63948)  \n8389  POINT (33.33512 60.78394)  \n8390  POINT (33.33485 60.78537)  \n\n[7554 rows x 3 columns]",
      "text/html": "<div>\n<style scoped>\n    .dataframe tbody tr th:only-of-type {\n        vertical-align: middle;\n    }\n\n    .dataframe tbody tr th {\n        vertical-align: top;\n    }\n\n    .dataframe thead th {\n        text-align: right;\n    }\n</style>\n<table border=\"1\" class=\"dataframe\">\n  <thead>\n    <tr style=\"text-align: right;\">\n      <th></th>\n      <th>name</th>\n      <th>route</th>\n      <th>geometry</th>\n    </tr>\n  </thead>\n  <tbody>\n    <tr>\n      <th>0</th>\n      <td>Дусьево</td>\n      <td>593,593/596,847,856,860,860Л,864,865,865Д,867,...</td>\n      <td>POINT (31.72832 59.93558)</td>\n    </tr>\n    <tr>\n      <th>1</th>\n      <td>None</td>\n      <td>247</td>\n      <td>POINT (32.44568 59.28601)</td>\n    </tr>\n    <tr>\n      <th>2</th>\n      <td>Горная Шальдиха</td>\n      <td>588,589,590,593,593/594</td>\n      <td>POINT (31.46034 59.87465)</td>\n    </tr>\n    <tr>\n      <th>3</th>\n      <td>Мучихино</td>\n      <td>590</td>\n      <td>POINT (31.52410 59.86666)</td>\n    </tr>\n    <tr>\n      <th>4</th>\n      <td>Васильково</td>\n      <td>590</td>\n      <td>POINT (31.58237 59.87627)</td>\n    </tr>\n    <tr>\n      <th>...</th>\n      <td>...</td>\n      <td>...</td>\n      <td>...</td>\n    </tr>\n    <tr>\n      <th>8386</th>\n      <td>\\nЗаостровье</td>\n      <td>94</td>\n      <td>POINT (33.27731 60.62779)</td>\n    </tr>\n    <tr>\n      <th>8387</th>\n      <td>\\nЗаостровье</td>\n      <td>94</td>\n      <td>POINT (33.27741 60.62765)</td>\n    </tr>\n    <tr>\n      <th>8388</th>\n      <td>Горка</td>\n      <td>94</td>\n      <td>POINT (33.22445 60.63948)</td>\n    </tr>\n    <tr>\n      <th>8389</th>\n      <td>Новая Слобода</td>\n      <td>89А,91</td>\n      <td>POINT (33.33512 60.78394)</td>\n    </tr>\n    <tr>\n      <th>8390</th>\n      <td>Новая Слобода</td>\n      <td>89А,91</td>\n      <td>POINT (33.33485 60.78537)</td>\n    </tr>\n  </tbody>\n</table>\n<p>7554 rows × 3 columns</p>\n</div>"
     },
     "execution_count": 1,
     "metadata": {},
     "output_type": "execute_result"
    }
   ],
   "source": [
    "import geopandas as gpd\n",
    "\n",
    "stops_gdf = gpd.read_file(\"stopsLO.geojson\")\n",
    "stops_gdf.rename(columns={\"Автоб\": \"route\"}, inplace=True)\n",
    "stops_gdf.dropna(subset=\"route\", axis=0, inplace=True, how=\"any\")\n",
    "stops_gdf\n"
   ],
   "metadata": {
    "collapsed": false,
    "ExecuteTime": {
     "end_time": "2024-03-18T12:55:09.004902700Z",
     "start_time": "2024-03-18T12:55:06.539030300Z"
    }
   },
   "id": "69ca0ab643122765"
  },
  {
   "cell_type": "code",
   "execution_count": 2,
   "outputs": [
    {
     "data": {
      "text/plain": "                                                geometry\n2342   [POINT (29.9698833 60.7031999), POINT (30.1937...\n475    [POINT (30.9893514 59.887793), POINT (30.99584...\n860Д   [POINT (32.1405498 60.0080918), POINT (32.7433...\n87     [POINT (33.5826273 60.7344281), POINT (33.5820...\n4а     [POINT (28.1500398 59.0951286), POINT (28.1686...\n...                                                  ...\n107с   [POINT (28.098742562071617 59.12618473418365),...\n53/54  [POINT (28.5917039 59.4084047), POINT (28.6231...\n24     [POINT (32.319827158230765 59.92887468138372),...\n3      [POINT (33.5536502 59.6433943), POINT (32.3536...\n632А   [POINT (30.1444949 59.7893016), POINT (30.1432...\n\n[593 rows x 1 columns]",
      "text/html": "<div>\n<style scoped>\n    .dataframe tbody tr th:only-of-type {\n        vertical-align: middle;\n    }\n\n    .dataframe tbody tr th {\n        vertical-align: top;\n    }\n\n    .dataframe thead th {\n        text-align: right;\n    }\n</style>\n<table border=\"1\" class=\"dataframe\">\n  <thead>\n    <tr style=\"text-align: right;\">\n      <th></th>\n      <th>geometry</th>\n    </tr>\n  </thead>\n  <tbody>\n    <tr>\n      <th>2342</th>\n      <td>[POINT (29.9698833 60.7031999), POINT (30.1937...</td>\n    </tr>\n    <tr>\n      <th>475</th>\n      <td>[POINT (30.9893514 59.887793), POINT (30.99584...</td>\n    </tr>\n    <tr>\n      <th>860Д</th>\n      <td>[POINT (32.1405498 60.0080918), POINT (32.7433...</td>\n    </tr>\n    <tr>\n      <th>87</th>\n      <td>[POINT (33.5826273 60.7344281), POINT (33.5820...</td>\n    </tr>\n    <tr>\n      <th>4а</th>\n      <td>[POINT (28.1500398 59.0951286), POINT (28.1686...</td>\n    </tr>\n    <tr>\n      <th>...</th>\n      <td>...</td>\n    </tr>\n    <tr>\n      <th>107с</th>\n      <td>[POINT (28.098742562071617 59.12618473418365),...</td>\n    </tr>\n    <tr>\n      <th>53/54</th>\n      <td>[POINT (28.5917039 59.4084047), POINT (28.6231...</td>\n    </tr>\n    <tr>\n      <th>24</th>\n      <td>[POINT (32.319827158230765 59.92887468138372),...</td>\n    </tr>\n    <tr>\n      <th>3</th>\n      <td>[POINT (33.5536502 59.6433943), POINT (32.3536...</td>\n    </tr>\n    <tr>\n      <th>632А</th>\n      <td>[POINT (30.1444949 59.7893016), POINT (30.1432...</td>\n    </tr>\n  </tbody>\n</table>\n<p>593 rows × 1 columns</p>\n</div>"
     },
     "execution_count": 2,
     "metadata": {},
     "output_type": "execute_result"
    }
   ],
   "source": [
    "import pandas as pd\n",
    "from tqdm.auto import tqdm\n",
    "\n",
    "tqdm.pandas()\n",
    "unique_routes = set()\n",
    "for index, row in (stops_gdf.iterrows()):\n",
    "    for i in str(row[\"route\"]).replace('.', ',').rstrip().lstrip().split(\",\"):\n",
    "        if i != \"\":\n",
    "            unique_routes.add(i.lstrip().rstrip())\n",
    "unique_routes = pd.DataFrame(index=list(unique_routes))\n",
    "unique_routes[\"geometry\"] = [[]] * len(unique_routes)\n",
    "for index, row in (stops_gdf.iterrows()):\n",
    "    for i in str(row[\"route\"]).replace('.', ',').rstrip().lstrip().split(\",\"):\n",
    "        if i != \"\":\n",
    "            unique_routes.loc[i.lstrip().rstrip(), \"geometry\"] = unique_routes.loc[i.lstrip().rstrip()][\"geometry\"] + [\n",
    "                row[\"geometry\"]]\n",
    "\n",
    "unique_routes"
   ],
   "metadata": {
    "collapsed": false,
    "ExecuteTime": {
     "end_time": "2024-03-18T12:55:11.845254700Z",
     "start_time": "2024-03-18T12:55:09.000904Z"
    }
   },
   "id": "44af58c9274d7e08"
  },
  {
   "cell_type": "code",
   "execution_count": 3,
   "outputs": [],
   "source": [
    "from sklearn.cluster import KMeans\n",
    "from sklearn.metrics import silhouette_score\n",
    "import numpy as np\n",
    "from shapely import Point\n",
    "\n",
    "\n",
    "def clusterize(loc) -> pd.DataFrame:\n",
    "    data = np.array([[p.x, p.y] for p in loc[\"geometry\"]])\n",
    "    noise = np.array([31.212390, 58.611219])\n",
    "    data = np.append(data, [noise], axis=0)\n",
    "\n",
    "    best_silhouette = -1\n",
    "    best_labels = None\n",
    "    k_values = range(2, 10 if len(data) > 10 else 2)\n",
    "\n",
    "    for k in k_values:\n",
    "        kmeans = KMeans(n_clusters=k)\n",
    "        kmeans.fit(data)\n",
    "        labels = kmeans.labels_\n",
    "        silhouette = silhouette_score(data, labels)\n",
    "        if silhouette > best_silhouette:\n",
    "            best_silhouette = silhouette\n",
    "            best_labels = labels\n",
    "\n",
    "    data = data[:-1]\n",
    "    if best_labels is not None:\n",
    "        best_labels = best_labels[:-1]\n",
    "\n",
    "    if best_silhouette < 0.93:\n",
    "        best_labels = [0 for _ in range(0, len(data))]\n",
    "    data = pd.DataFrame({\n",
    "        'label': best_labels,\n",
    "        'geometry': [Point(p[0], p[1]) for p in data]\n",
    "    })\n",
    "    grouped_data = data.groupby('label')['geometry'].apply(list)\n",
    "    grouped_data = pd.DataFrame(grouped_data)\n",
    "    grouped_data.index = grouped_data.index + 1\n",
    "    return grouped_data\n",
    "\n"
   ],
   "metadata": {
    "collapsed": false,
    "ExecuteTime": {
     "end_time": "2024-03-18T12:55:14.666889300Z",
     "start_time": "2024-03-18T12:55:11.846254700Z"
    }
   },
   "id": "acca95ddfe2b475"
  },
  {
   "cell_type": "code",
   "execution_count": 5,
   "outputs": [
    {
     "data": {
      "text/plain": "  0%|          | 0/593 [00:00<?, ?it/s]",
      "application/vnd.jupyter.widget-view+json": {
       "version_major": 2,
       "version_minor": 0,
       "model_id": "4a4ac1a8c71e4b6aaf46af3a47ebb784"
      }
     },
     "metadata": {},
     "output_type": "display_data"
    },
    {
     "data": {
      "text/plain": "                                                geometry\nlabel                                                   \n23__1  [POINT (29.0938556 59.9105085), POINT (29.0855...\n23__2  [POINT (32.3004009 59.9837254), POINT (32.2995...\n23__3  [POINT (29.5985086 60.2578632), POINT (29.5748...\n4__1   [POINT (30.647734081369755 59.99128877944062),...\n4__2   [POINT (34.1730592 59.5150043), POINT (34.1663...\n...                                                  ...\n3__2   [POINT (29.0855075 59.896653), POINT (29.08416...\n3__3   [POINT (32.3536583 59.8943022), POINT (32.3623...\n3__4   [POINT (29.847835 58.7284453), POINT (29.84985...\n3__5   [POINT (30.08645112859504 59.56957765642285), ...\n3__6   [POINT (28.5614882 59.3793053), POINT (28.5632...\n\n[146 rows x 1 columns]",
      "text/html": "<div>\n<style scoped>\n    .dataframe tbody tr th:only-of-type {\n        vertical-align: middle;\n    }\n\n    .dataframe tbody tr th {\n        vertical-align: top;\n    }\n\n    .dataframe thead th {\n        text-align: right;\n    }\n</style>\n<table border=\"1\" class=\"dataframe\">\n  <thead>\n    <tr style=\"text-align: right;\">\n      <th></th>\n      <th>geometry</th>\n    </tr>\n    <tr>\n      <th>label</th>\n      <th></th>\n    </tr>\n  </thead>\n  <tbody>\n    <tr>\n      <th>23__1</th>\n      <td>[POINT (29.0938556 59.9105085), POINT (29.0855...</td>\n    </tr>\n    <tr>\n      <th>23__2</th>\n      <td>[POINT (32.3004009 59.9837254), POINT (32.2995...</td>\n    </tr>\n    <tr>\n      <th>23__3</th>\n      <td>[POINT (29.5985086 60.2578632), POINT (29.5748...</td>\n    </tr>\n    <tr>\n      <th>4__1</th>\n      <td>[POINT (30.647734081369755 59.99128877944062),...</td>\n    </tr>\n    <tr>\n      <th>4__2</th>\n      <td>[POINT (34.1730592 59.5150043), POINT (34.1663...</td>\n    </tr>\n    <tr>\n      <th>...</th>\n      <td>...</td>\n    </tr>\n    <tr>\n      <th>3__2</th>\n      <td>[POINT (29.0855075 59.896653), POINT (29.08416...</td>\n    </tr>\n    <tr>\n      <th>3__3</th>\n      <td>[POINT (32.3536583 59.8943022), POINT (32.3623...</td>\n    </tr>\n    <tr>\n      <th>3__4</th>\n      <td>[POINT (29.847835 58.7284453), POINT (29.84985...</td>\n    </tr>\n    <tr>\n      <th>3__5</th>\n      <td>[POINT (30.08645112859504 59.56957765642285), ...</td>\n    </tr>\n    <tr>\n      <th>3__6</th>\n      <td>[POINT (28.5614882 59.3793053), POINT (28.5632...</td>\n    </tr>\n  </tbody>\n</table>\n<p>146 rows × 1 columns</p>\n</div>"
     },
     "execution_count": 5,
     "metadata": {},
     "output_type": "execute_result"
    }
   ],
   "source": [
    "devided_routes = pd.DataFrame()\n",
    "basic_routes = pd.DataFrame()\n",
    "for index, row in tqdm(unique_routes.iterrows(), total=unique_routes.shape[0]):\n",
    "    clusterized = clusterize(row)\n",
    "    if clusterized.shape[0] > 1:\n",
    "        clusterized.index = index + \"__\" + clusterized.index.astype(str)\n",
    "        devided_routes = pd.concat([devided_routes, clusterized])\n",
    "    else:\n",
    "        clusterized.index = [index]\n",
    "        basic_routes = pd.concat([basic_routes, clusterized])\n",
    "devided_routes"
   ],
   "metadata": {
    "collapsed": false,
    "ExecuteTime": {
     "end_time": "2024-03-18T12:56:03.724127900Z",
     "start_time": "2024-03-18T12:55:49.206128500Z"
    }
   },
   "id": "e6f213ae6a237643"
  },
  {
   "cell_type": "code",
   "execution_count": 132,
   "outputs": [],
   "source": [
    "row = devided_routes.loc[\"8__1\"]\n",
    "city_crs = 32636\n",
    "geometry_list = row[\"geometry\"]\n",
    "test_gdf = gpd.GeoDataFrame(data={\"label\": [\"8__1\" for _ in geometry_list], \"geometry\": geometry_list})\n",
    "test_gdf = test_gdf.set_crs(4326)\n",
    "test_gdf = test_gdf.to_crs(city_crs)\n",
    "test_gdf = test_gdf.reset_index()\n",
    "\n"
   ],
   "metadata": {
    "collapsed": false,
    "ExecuteTime": {
     "end_time": "2024-03-18T18:05:49.006749300Z",
     "start_time": "2024-03-18T18:05:48.969546400Z"
    }
   },
   "id": "33d04ebf9c4d1d4b"
  },
  {
   "cell_type": "markdown",
   "source": [
    "project stops and create new graph"
   ],
   "metadata": {
    "collapsed": false
   },
   "id": "7ea27cf6d9106239"
  },
  {
   "cell_type": "code",
   "execution_count": 145,
   "outputs": [
    {
     "data": {
      "text/plain": "    index label                        geometry  index_right    u    v  key  \\\n0       0  8__1  POINT (316646.610 6514483.163)          370   63   42    0   \n1       1  8__1  POINT (317519.412 6514106.930)           32    2  150    0   \n2       2  8__1  POINT (317663.599 6514682.084)          202   19    4    0   \n3       3  8__1  POINT (317656.452 6515037.918)          234  314    8    0   \n4       4  8__1  POINT (317817.879 6515489.241)           87   18   22    0   \n5       5  8__1  POINT (317431.130 6514889.561)           64    5  219    0   \n6       6  8__1  POINT (317328.323 6514502.463)           70  219  149    0   \n7       7  8__1  POINT (317246.746 6514211.284)          926  149    1    0   \n8       8  8__1  POINT (317505.902 6515612.571)          219   21  274    0   \n9       9  8__1  POINT (316028.091 6515690.731)          256   26  360    0   \n10     10  8__1  POINT (316030.357 6515884.821)          259  357   26    0   \n11     11  8__1  POINT (316239.638 6516535.140)          285  209  200    0   \n12     12  8__1  POINT (316196.922 6516357.634)         1035  200  209    0   \n13     13  8__1  POINT (316156.893 6516292.523)         1033  200  357    0   \n14     14  8__1  POINT (316052.234 6515916.457)          258  357  200    0   \n15     15  8__1  POINT (317490.346 6515578.422)           84  274    7    0   \n16     16  8__1  POINT (316417.220 6514237.498)          324   38   39    0   \n17     17  8__1  POINT (316435.033 6514276.756)          321   38   42    0   \n18     18  8__1  POINT (317352.383 6517052.299)          125   12   76    0   \n19     19  8__1  POINT (317050.143 6516830.307)          547  101  209    0   \n20     20  8__1  POINT (317685.770 6515716.811)          225  315   21    0   \n21     21  8__1  POINT (316911.799 6514100.841)            1    0  264    0   \n22     22  8__1  POINT (316794.361 6514151.955)            2    0   41    0   \n23     23  8__1  POINT (316725.480 6514539.094)          369   63   59    0   \n24     24  8__1  POINT (316947.323 6514755.892)          474   94   59    0   \n25     25  8__1  POINT (316944.677 6514739.401)          467   59   94    0   \n26     26  8__1  POINT (317081.927 6515161.208)          876  126  167    0   \n27     27  8__1  POINT (317009.808 6515398.997)          527   75   96    0   \n28     28  8__1  POINT (316997.967 6515418.335)          244   96   75    0   \n29     29  8__1  POINT (316676.940 6515515.151)          872  190  123    0   \n30     30  8__1  POINT (316726.867 6515515.432)          714  123  190    0   \n31     31  8__1  POINT (316073.170 6515692.461)          262  360   26    0   \n32     32  8__1  POINT (316265.222 6516551.791)         1035  200  209    0   \n33     33  8__1  POINT (317005.812 6516809.170)          284  209  101    0   \n\n    length_meter type  time_min       dist  \n0        200.473  car      0.71   3.806132  \n1        236.390  car      0.83   4.829858  \n2        184.469  car      0.65   3.319083  \n3        112.972  car      0.40  14.377155  \n4        372.057  car      1.31   1.010399  \n5        131.615  car      0.46   5.770847  \n6        614.199  car      2.17   8.316723  \n7        232.238  car      0.82   8.156357  \n8        177.763  car      0.63  25.440546  \n9        362.026  car      1.28   4.566709  \n10       196.782  car      0.69   5.669879  \n11       434.002  car      1.53   7.964529  \n12       434.002  car      1.53   1.914381  \n13       457.665  car      1.62   9.192209  \n14       457.665  car      1.62   2.394770  \n15       314.171  car      1.11  29.665984  \n16        93.788  car      0.33   3.240434  \n17       184.768  car      0.65   0.958613  \n18       391.182  car      1.38   5.337936  \n19       829.346  car      2.93   1.879589  \n20       158.664  car      0.56   3.671326  \n21       208.401  car      0.74   5.131111  \n22       108.975  car      0.38   1.830629  \n23       230.671  car      0.81   1.700882  \n24       180.966  car      0.64   0.902416  \n25       180.966  car      0.64   3.683450  \n26        30.393  car      0.11   6.007997  \n27       115.428  car      0.41   3.142853  \n28       115.428  car      0.41   4.593666  \n29       123.403  car      0.44   4.727052  \n30       123.403  car      0.44   3.577033  \n31       362.026  car      1.28   5.669973  \n32       434.002  car      1.53   3.861343  \n33       829.346  car      2.93   5.309398  ",
      "text/html": "<div>\n<style scoped>\n    .dataframe tbody tr th:only-of-type {\n        vertical-align: middle;\n    }\n\n    .dataframe tbody tr th {\n        vertical-align: top;\n    }\n\n    .dataframe thead th {\n        text-align: right;\n    }\n</style>\n<table border=\"1\" class=\"dataframe\">\n  <thead>\n    <tr style=\"text-align: right;\">\n      <th></th>\n      <th>index</th>\n      <th>label</th>\n      <th>geometry</th>\n      <th>index_right</th>\n      <th>u</th>\n      <th>v</th>\n      <th>key</th>\n      <th>length_meter</th>\n      <th>type</th>\n      <th>time_min</th>\n      <th>dist</th>\n    </tr>\n  </thead>\n  <tbody>\n    <tr>\n      <th>0</th>\n      <td>0</td>\n      <td>8__1</td>\n      <td>POINT (316646.610 6514483.163)</td>\n      <td>370</td>\n      <td>63</td>\n      <td>42</td>\n      <td>0</td>\n      <td>200.473</td>\n      <td>car</td>\n      <td>0.71</td>\n      <td>3.806132</td>\n    </tr>\n    <tr>\n      <th>1</th>\n      <td>1</td>\n      <td>8__1</td>\n      <td>POINT (317519.412 6514106.930)</td>\n      <td>32</td>\n      <td>2</td>\n      <td>150</td>\n      <td>0</td>\n      <td>236.390</td>\n      <td>car</td>\n      <td>0.83</td>\n      <td>4.829858</td>\n    </tr>\n    <tr>\n      <th>2</th>\n      <td>2</td>\n      <td>8__1</td>\n      <td>POINT (317663.599 6514682.084)</td>\n      <td>202</td>\n      <td>19</td>\n      <td>4</td>\n      <td>0</td>\n      <td>184.469</td>\n      <td>car</td>\n      <td>0.65</td>\n      <td>3.319083</td>\n    </tr>\n    <tr>\n      <th>3</th>\n      <td>3</td>\n      <td>8__1</td>\n      <td>POINT (317656.452 6515037.918)</td>\n      <td>234</td>\n      <td>314</td>\n      <td>8</td>\n      <td>0</td>\n      <td>112.972</td>\n      <td>car</td>\n      <td>0.40</td>\n      <td>14.377155</td>\n    </tr>\n    <tr>\n      <th>4</th>\n      <td>4</td>\n      <td>8__1</td>\n      <td>POINT (317817.879 6515489.241)</td>\n      <td>87</td>\n      <td>18</td>\n      <td>22</td>\n      <td>0</td>\n      <td>372.057</td>\n      <td>car</td>\n      <td>1.31</td>\n      <td>1.010399</td>\n    </tr>\n    <tr>\n      <th>5</th>\n      <td>5</td>\n      <td>8__1</td>\n      <td>POINT (317431.130 6514889.561)</td>\n      <td>64</td>\n      <td>5</td>\n      <td>219</td>\n      <td>0</td>\n      <td>131.615</td>\n      <td>car</td>\n      <td>0.46</td>\n      <td>5.770847</td>\n    </tr>\n    <tr>\n      <th>6</th>\n      <td>6</td>\n      <td>8__1</td>\n      <td>POINT (317328.323 6514502.463)</td>\n      <td>70</td>\n      <td>219</td>\n      <td>149</td>\n      <td>0</td>\n      <td>614.199</td>\n      <td>car</td>\n      <td>2.17</td>\n      <td>8.316723</td>\n    </tr>\n    <tr>\n      <th>7</th>\n      <td>7</td>\n      <td>8__1</td>\n      <td>POINT (317246.746 6514211.284)</td>\n      <td>926</td>\n      <td>149</td>\n      <td>1</td>\n      <td>0</td>\n      <td>232.238</td>\n      <td>car</td>\n      <td>0.82</td>\n      <td>8.156357</td>\n    </tr>\n    <tr>\n      <th>8</th>\n      <td>8</td>\n      <td>8__1</td>\n      <td>POINT (317505.902 6515612.571)</td>\n      <td>219</td>\n      <td>21</td>\n      <td>274</td>\n      <td>0</td>\n      <td>177.763</td>\n      <td>car</td>\n      <td>0.63</td>\n      <td>25.440546</td>\n    </tr>\n    <tr>\n      <th>9</th>\n      <td>9</td>\n      <td>8__1</td>\n      <td>POINT (316028.091 6515690.731)</td>\n      <td>256</td>\n      <td>26</td>\n      <td>360</td>\n      <td>0</td>\n      <td>362.026</td>\n      <td>car</td>\n      <td>1.28</td>\n      <td>4.566709</td>\n    </tr>\n    <tr>\n      <th>10</th>\n      <td>10</td>\n      <td>8__1</td>\n      <td>POINT (316030.357 6515884.821)</td>\n      <td>259</td>\n      <td>357</td>\n      <td>26</td>\n      <td>0</td>\n      <td>196.782</td>\n      <td>car</td>\n      <td>0.69</td>\n      <td>5.669879</td>\n    </tr>\n    <tr>\n      <th>11</th>\n      <td>11</td>\n      <td>8__1</td>\n      <td>POINT (316239.638 6516535.140)</td>\n      <td>285</td>\n      <td>209</td>\n      <td>200</td>\n      <td>0</td>\n      <td>434.002</td>\n      <td>car</td>\n      <td>1.53</td>\n      <td>7.964529</td>\n    </tr>\n    <tr>\n      <th>12</th>\n      <td>12</td>\n      <td>8__1</td>\n      <td>POINT (316196.922 6516357.634)</td>\n      <td>1035</td>\n      <td>200</td>\n      <td>209</td>\n      <td>0</td>\n      <td>434.002</td>\n      <td>car</td>\n      <td>1.53</td>\n      <td>1.914381</td>\n    </tr>\n    <tr>\n      <th>13</th>\n      <td>13</td>\n      <td>8__1</td>\n      <td>POINT (316156.893 6516292.523)</td>\n      <td>1033</td>\n      <td>200</td>\n      <td>357</td>\n      <td>0</td>\n      <td>457.665</td>\n      <td>car</td>\n      <td>1.62</td>\n      <td>9.192209</td>\n    </tr>\n    <tr>\n      <th>14</th>\n      <td>14</td>\n      <td>8__1</td>\n      <td>POINT (316052.234 6515916.457)</td>\n      <td>258</td>\n      <td>357</td>\n      <td>200</td>\n      <td>0</td>\n      <td>457.665</td>\n      <td>car</td>\n      <td>1.62</td>\n      <td>2.394770</td>\n    </tr>\n    <tr>\n      <th>15</th>\n      <td>15</td>\n      <td>8__1</td>\n      <td>POINT (317490.346 6515578.422)</td>\n      <td>84</td>\n      <td>274</td>\n      <td>7</td>\n      <td>0</td>\n      <td>314.171</td>\n      <td>car</td>\n      <td>1.11</td>\n      <td>29.665984</td>\n    </tr>\n    <tr>\n      <th>16</th>\n      <td>16</td>\n      <td>8__1</td>\n      <td>POINT (316417.220 6514237.498)</td>\n      <td>324</td>\n      <td>38</td>\n      <td>39</td>\n      <td>0</td>\n      <td>93.788</td>\n      <td>car</td>\n      <td>0.33</td>\n      <td>3.240434</td>\n    </tr>\n    <tr>\n      <th>17</th>\n      <td>17</td>\n      <td>8__1</td>\n      <td>POINT (316435.033 6514276.756)</td>\n      <td>321</td>\n      <td>38</td>\n      <td>42</td>\n      <td>0</td>\n      <td>184.768</td>\n      <td>car</td>\n      <td>0.65</td>\n      <td>0.958613</td>\n    </tr>\n    <tr>\n      <th>18</th>\n      <td>18</td>\n      <td>8__1</td>\n      <td>POINT (317352.383 6517052.299)</td>\n      <td>125</td>\n      <td>12</td>\n      <td>76</td>\n      <td>0</td>\n      <td>391.182</td>\n      <td>car</td>\n      <td>1.38</td>\n      <td>5.337936</td>\n    </tr>\n    <tr>\n      <th>19</th>\n      <td>19</td>\n      <td>8__1</td>\n      <td>POINT (317050.143 6516830.307)</td>\n      <td>547</td>\n      <td>101</td>\n      <td>209</td>\n      <td>0</td>\n      <td>829.346</td>\n      <td>car</td>\n      <td>2.93</td>\n      <td>1.879589</td>\n    </tr>\n    <tr>\n      <th>20</th>\n      <td>20</td>\n      <td>8__1</td>\n      <td>POINT (317685.770 6515716.811)</td>\n      <td>225</td>\n      <td>315</td>\n      <td>21</td>\n      <td>0</td>\n      <td>158.664</td>\n      <td>car</td>\n      <td>0.56</td>\n      <td>3.671326</td>\n    </tr>\n    <tr>\n      <th>21</th>\n      <td>21</td>\n      <td>8__1</td>\n      <td>POINT (316911.799 6514100.841)</td>\n      <td>1</td>\n      <td>0</td>\n      <td>264</td>\n      <td>0</td>\n      <td>208.401</td>\n      <td>car</td>\n      <td>0.74</td>\n      <td>5.131111</td>\n    </tr>\n    <tr>\n      <th>22</th>\n      <td>22</td>\n      <td>8__1</td>\n      <td>POINT (316794.361 6514151.955)</td>\n      <td>2</td>\n      <td>0</td>\n      <td>41</td>\n      <td>0</td>\n      <td>108.975</td>\n      <td>car</td>\n      <td>0.38</td>\n      <td>1.830629</td>\n    </tr>\n    <tr>\n      <th>23</th>\n      <td>23</td>\n      <td>8__1</td>\n      <td>POINT (316725.480 6514539.094)</td>\n      <td>369</td>\n      <td>63</td>\n      <td>59</td>\n      <td>0</td>\n      <td>230.671</td>\n      <td>car</td>\n      <td>0.81</td>\n      <td>1.700882</td>\n    </tr>\n    <tr>\n      <th>24</th>\n      <td>24</td>\n      <td>8__1</td>\n      <td>POINT (316947.323 6514755.892)</td>\n      <td>474</td>\n      <td>94</td>\n      <td>59</td>\n      <td>0</td>\n      <td>180.966</td>\n      <td>car</td>\n      <td>0.64</td>\n      <td>0.902416</td>\n    </tr>\n    <tr>\n      <th>25</th>\n      <td>25</td>\n      <td>8__1</td>\n      <td>POINT (316944.677 6514739.401)</td>\n      <td>467</td>\n      <td>59</td>\n      <td>94</td>\n      <td>0</td>\n      <td>180.966</td>\n      <td>car</td>\n      <td>0.64</td>\n      <td>3.683450</td>\n    </tr>\n    <tr>\n      <th>26</th>\n      <td>26</td>\n      <td>8__1</td>\n      <td>POINT (317081.927 6515161.208)</td>\n      <td>876</td>\n      <td>126</td>\n      <td>167</td>\n      <td>0</td>\n      <td>30.393</td>\n      <td>car</td>\n      <td>0.11</td>\n      <td>6.007997</td>\n    </tr>\n    <tr>\n      <th>27</th>\n      <td>27</td>\n      <td>8__1</td>\n      <td>POINT (317009.808 6515398.997)</td>\n      <td>527</td>\n      <td>75</td>\n      <td>96</td>\n      <td>0</td>\n      <td>115.428</td>\n      <td>car</td>\n      <td>0.41</td>\n      <td>3.142853</td>\n    </tr>\n    <tr>\n      <th>28</th>\n      <td>28</td>\n      <td>8__1</td>\n      <td>POINT (316997.967 6515418.335)</td>\n      <td>244</td>\n      <td>96</td>\n      <td>75</td>\n      <td>0</td>\n      <td>115.428</td>\n      <td>car</td>\n      <td>0.41</td>\n      <td>4.593666</td>\n    </tr>\n    <tr>\n      <th>29</th>\n      <td>29</td>\n      <td>8__1</td>\n      <td>POINT (316676.940 6515515.151)</td>\n      <td>872</td>\n      <td>190</td>\n      <td>123</td>\n      <td>0</td>\n      <td>123.403</td>\n      <td>car</td>\n      <td>0.44</td>\n      <td>4.727052</td>\n    </tr>\n    <tr>\n      <th>30</th>\n      <td>30</td>\n      <td>8__1</td>\n      <td>POINT (316726.867 6515515.432)</td>\n      <td>714</td>\n      <td>123</td>\n      <td>190</td>\n      <td>0</td>\n      <td>123.403</td>\n      <td>car</td>\n      <td>0.44</td>\n      <td>3.577033</td>\n    </tr>\n    <tr>\n      <th>31</th>\n      <td>31</td>\n      <td>8__1</td>\n      <td>POINT (316073.170 6515692.461)</td>\n      <td>262</td>\n      <td>360</td>\n      <td>26</td>\n      <td>0</td>\n      <td>362.026</td>\n      <td>car</td>\n      <td>1.28</td>\n      <td>5.669973</td>\n    </tr>\n    <tr>\n      <th>32</th>\n      <td>32</td>\n      <td>8__1</td>\n      <td>POINT (316265.222 6516551.791)</td>\n      <td>1035</td>\n      <td>200</td>\n      <td>209</td>\n      <td>0</td>\n      <td>434.002</td>\n      <td>car</td>\n      <td>1.53</td>\n      <td>3.861343</td>\n    </tr>\n    <tr>\n      <th>33</th>\n      <td>33</td>\n      <td>8__1</td>\n      <td>POINT (317005.812 6516809.170)</td>\n      <td>284</td>\n      <td>209</td>\n      <td>101</td>\n      <td>0</td>\n      <td>829.346</td>\n      <td>car</td>\n      <td>2.93</td>\n      <td>5.309398</td>\n    </tr>\n  </tbody>\n</table>\n</div>"
     },
     "execution_count": 145,
     "metadata": {},
     "output_type": "execute_result"
    }
   ],
   "source": [
    "import networkx as nx\n",
    "import osmnx as ox\n",
    "from shapely import from_wkt, LineString, Point\n",
    "from IPython.display import display\n",
    "\n",
    "nx_graph = nx.read_graphml(\"graph_for_test.graphml\")\n",
    "for i in nx_graph.edges(data=True):\n",
    "    i[2]['geometry'] = from_wkt(str(i[2]['geometry']))\n",
    "gdf_nodes,gdf_edges = ox.graph_to_gdfs(nx_graph)\n",
    "gdf_edges: gpd.GeoDataFrame = gdf_edges.reset_index()\n",
    "gdf_buffer = gdf_edges.copy()\n",
    "gdf_buffer[\"geometry\"] = gdf_buffer[\"geometry\"].apply(lambda x:LineString(x).buffer(-3,single_sided=True))\n",
    "join = gpd.sjoin_nearest(test_gdf, gdf_buffer, distance_col=\"dist\", how=\"inner\")\n",
    "join"
   ],
   "metadata": {
    "collapsed": false,
    "ExecuteTime": {
     "end_time": "2024-03-18T18:22:51.654384500Z",
     "start_time": "2024-03-18T18:22:51.552931800Z"
    }
   },
   "id": "f71e2f53dd168175"
  },
  {
   "cell_type": "markdown",
   "source": [],
   "metadata": {
    "collapsed": false
   },
   "id": "894e55bdcaae7499"
  },
  {
   "cell_type": "code",
   "execution_count": 146,
   "outputs": [
    {
     "data": {
      "text/plain": "       edge_to_del start  end                                       geometry\nindex                                                                       \n0              370    63   42   POINT (316651.07651155966 6514478.026966341)\n1               32     2  150    POINT (317511.8248325282 6514108.866492845)\n2              202    19    4    POINT (317657.4653274753 6514683.602697591)\n3              234   314    8    POINT (317640.1687647791 6515043.985640216)\n4               87    18   22    POINT (317814.1559538966 6515490.733136549)\n5               64     5  219     POINT (317439.6073455325 6514887.31000488)\n6               70   219  149    POINT (317339.3060203759 6514499.734664751)\n7              926   149    1   POINT (317257.50780811923 6514208.341981867)\n8              219    21  274   POINT (317533.25234776846 6515604.773159838)\n9              256    26  360   POINT (316030.59804009995 6515697.870688187)\n10             259   357   26                   POINT (316038.79 6515882.81)\n11             285   209  200    POINT (316249.8662605911 6516531.190315409)\n12            1035   200  209    POINT (316192.2542079082 6516359.172764772)\n13            1033   200  357   POINT (316168.41619507485 6516288.538994102)\n14             258   357  200    POINT (316046.9781284755 6515917.671904239)\n15              84   274    7    POINT (317521.5352623322 6515568.712000099)\n16             324    38   39   POINT (316418.81139313936 6514243.532269449)\n17             321    38   42     POINT (316432.306551982 6514279.626223255)\n18             125    12   76    POINT (317360.4248681884 6517050.096409712)\n19             547   101  209   POINT (317051.01732202235 6516825.506513939)\n20             225   315   21    POINT (317683.3525301027 6515710.593385909)\n21               1     0  264   POINT (316914.7157165199 6514108.4316457575)\n22               2     0   41    POINT (316793.0767712829 6514147.298132867)\n23             369    63   59    POINT (316722.2585989391 6514542.518088938)\n24             474    94   59  POINT (316949.91133686726 6514752.9711848805)\n25             467    59   94   POINT (316940.24383092695 6514744.402259231)\n26             876   126  167    POINT (317090.568637345 6515158.6653687935)\n27             527    75   96   POINT (317012.0333380167 6515404.7225887915)\n28             244    96   75   POINT (316995.21702391224 6515411.257270565)\n29             872   190  123    POINT (316679.0942503076 6515522.571669084)\n30             714   123  190     POINT (316724.9300910751 6515509.14688949)\n31             262   360   26   POINT (316071.19894725614 6515684.017911074)\n32            1035   200  209    POINT (316258.8846484018 6516554.421200896)\n33             284   209  101  POINT (317004.70059549407 6516817.4051294755)",
      "text/html": "<div>\n<style scoped>\n    .dataframe tbody tr th:only-of-type {\n        vertical-align: middle;\n    }\n\n    .dataframe tbody tr th {\n        vertical-align: top;\n    }\n\n    .dataframe thead th {\n        text-align: right;\n    }\n</style>\n<table border=\"1\" class=\"dataframe\">\n  <thead>\n    <tr style=\"text-align: right;\">\n      <th></th>\n      <th>edge_to_del</th>\n      <th>start</th>\n      <th>end</th>\n      <th>geometry</th>\n    </tr>\n    <tr>\n      <th>index</th>\n      <th></th>\n      <th></th>\n      <th></th>\n      <th></th>\n    </tr>\n  </thead>\n  <tbody>\n    <tr>\n      <th>0</th>\n      <td>370</td>\n      <td>63</td>\n      <td>42</td>\n      <td>POINT (316651.07651155966 6514478.026966341)</td>\n    </tr>\n    <tr>\n      <th>1</th>\n      <td>32</td>\n      <td>2</td>\n      <td>150</td>\n      <td>POINT (317511.8248325282 6514108.866492845)</td>\n    </tr>\n    <tr>\n      <th>2</th>\n      <td>202</td>\n      <td>19</td>\n      <td>4</td>\n      <td>POINT (317657.4653274753 6514683.602697591)</td>\n    </tr>\n    <tr>\n      <th>3</th>\n      <td>234</td>\n      <td>314</td>\n      <td>8</td>\n      <td>POINT (317640.1687647791 6515043.985640216)</td>\n    </tr>\n    <tr>\n      <th>4</th>\n      <td>87</td>\n      <td>18</td>\n      <td>22</td>\n      <td>POINT (317814.1559538966 6515490.733136549)</td>\n    </tr>\n    <tr>\n      <th>5</th>\n      <td>64</td>\n      <td>5</td>\n      <td>219</td>\n      <td>POINT (317439.6073455325 6514887.31000488)</td>\n    </tr>\n    <tr>\n      <th>6</th>\n      <td>70</td>\n      <td>219</td>\n      <td>149</td>\n      <td>POINT (317339.3060203759 6514499.734664751)</td>\n    </tr>\n    <tr>\n      <th>7</th>\n      <td>926</td>\n      <td>149</td>\n      <td>1</td>\n      <td>POINT (317257.50780811923 6514208.341981867)</td>\n    </tr>\n    <tr>\n      <th>8</th>\n      <td>219</td>\n      <td>21</td>\n      <td>274</td>\n      <td>POINT (317533.25234776846 6515604.773159838)</td>\n    </tr>\n    <tr>\n      <th>9</th>\n      <td>256</td>\n      <td>26</td>\n      <td>360</td>\n      <td>POINT (316030.59804009995 6515697.870688187)</td>\n    </tr>\n    <tr>\n      <th>10</th>\n      <td>259</td>\n      <td>357</td>\n      <td>26</td>\n      <td>POINT (316038.79 6515882.81)</td>\n    </tr>\n    <tr>\n      <th>11</th>\n      <td>285</td>\n      <td>209</td>\n      <td>200</td>\n      <td>POINT (316249.8662605911 6516531.190315409)</td>\n    </tr>\n    <tr>\n      <th>12</th>\n      <td>1035</td>\n      <td>200</td>\n      <td>209</td>\n      <td>POINT (316192.2542079082 6516359.172764772)</td>\n    </tr>\n    <tr>\n      <th>13</th>\n      <td>1033</td>\n      <td>200</td>\n      <td>357</td>\n      <td>POINT (316168.41619507485 6516288.538994102)</td>\n    </tr>\n    <tr>\n      <th>14</th>\n      <td>258</td>\n      <td>357</td>\n      <td>200</td>\n      <td>POINT (316046.9781284755 6515917.671904239)</td>\n    </tr>\n    <tr>\n      <th>15</th>\n      <td>84</td>\n      <td>274</td>\n      <td>7</td>\n      <td>POINT (317521.5352623322 6515568.712000099)</td>\n    </tr>\n    <tr>\n      <th>16</th>\n      <td>324</td>\n      <td>38</td>\n      <td>39</td>\n      <td>POINT (316418.81139313936 6514243.532269449)</td>\n    </tr>\n    <tr>\n      <th>17</th>\n      <td>321</td>\n      <td>38</td>\n      <td>42</td>\n      <td>POINT (316432.306551982 6514279.626223255)</td>\n    </tr>\n    <tr>\n      <th>18</th>\n      <td>125</td>\n      <td>12</td>\n      <td>76</td>\n      <td>POINT (317360.4248681884 6517050.096409712)</td>\n    </tr>\n    <tr>\n      <th>19</th>\n      <td>547</td>\n      <td>101</td>\n      <td>209</td>\n      <td>POINT (317051.01732202235 6516825.506513939)</td>\n    </tr>\n    <tr>\n      <th>20</th>\n      <td>225</td>\n      <td>315</td>\n      <td>21</td>\n      <td>POINT (317683.3525301027 6515710.593385909)</td>\n    </tr>\n    <tr>\n      <th>21</th>\n      <td>1</td>\n      <td>0</td>\n      <td>264</td>\n      <td>POINT (316914.7157165199 6514108.4316457575)</td>\n    </tr>\n    <tr>\n      <th>22</th>\n      <td>2</td>\n      <td>0</td>\n      <td>41</td>\n      <td>POINT (316793.0767712829 6514147.298132867)</td>\n    </tr>\n    <tr>\n      <th>23</th>\n      <td>369</td>\n      <td>63</td>\n      <td>59</td>\n      <td>POINT (316722.2585989391 6514542.518088938)</td>\n    </tr>\n    <tr>\n      <th>24</th>\n      <td>474</td>\n      <td>94</td>\n      <td>59</td>\n      <td>POINT (316949.91133686726 6514752.9711848805)</td>\n    </tr>\n    <tr>\n      <th>25</th>\n      <td>467</td>\n      <td>59</td>\n      <td>94</td>\n      <td>POINT (316940.24383092695 6514744.402259231)</td>\n    </tr>\n    <tr>\n      <th>26</th>\n      <td>876</td>\n      <td>126</td>\n      <td>167</td>\n      <td>POINT (317090.568637345 6515158.6653687935)</td>\n    </tr>\n    <tr>\n      <th>27</th>\n      <td>527</td>\n      <td>75</td>\n      <td>96</td>\n      <td>POINT (317012.0333380167 6515404.7225887915)</td>\n    </tr>\n    <tr>\n      <th>28</th>\n      <td>244</td>\n      <td>96</td>\n      <td>75</td>\n      <td>POINT (316995.21702391224 6515411.257270565)</td>\n    </tr>\n    <tr>\n      <th>29</th>\n      <td>872</td>\n      <td>190</td>\n      <td>123</td>\n      <td>POINT (316679.0942503076 6515522.571669084)</td>\n    </tr>\n    <tr>\n      <th>30</th>\n      <td>714</td>\n      <td>123</td>\n      <td>190</td>\n      <td>POINT (316724.9300910751 6515509.14688949)</td>\n    </tr>\n    <tr>\n      <th>31</th>\n      <td>262</td>\n      <td>360</td>\n      <td>26</td>\n      <td>POINT (316071.19894725614 6515684.017911074)</td>\n    </tr>\n    <tr>\n      <th>32</th>\n      <td>1035</td>\n      <td>200</td>\n      <td>209</td>\n      <td>POINT (316258.8846484018 6516554.421200896)</td>\n    </tr>\n    <tr>\n      <th>33</th>\n      <td>284</td>\n      <td>209</td>\n      <td>101</td>\n      <td>POINT (317004.70059549407 6516817.4051294755)</td>\n    </tr>\n  </tbody>\n</table>\n</div>"
     },
     "execution_count": 146,
     "metadata": {},
     "output_type": "execute_result"
    }
   ],
   "source": [
    "\n",
    "points = pd.DataFrame(data=None)\n",
    "for index, row in join.iterrows():\n",
    "    point: Point = row[\"geometry\"]\n",
    "    edges_to_delete,start,end = row[[\"index_right\",\"u\",\"v\"]]\n",
    "    line: LineString = gdf_edges.loc[edges_to_delete, \"geometry\"]\n",
    "    nearest_point = line.interpolate(line.project(point))\n",
    "    points = pd.concat(\n",
    "        [points, pd.DataFrame({\"index\": [index], \"edge_to_del\": [edges_to_delete],\"start\": [start],\"end\": [end], \"geometry\": [nearest_point]})])\n",
    "points = points.set_index(\"index\")\n",
    "points\n"
   ],
   "metadata": {
    "collapsed": false,
    "ExecuteTime": {
     "end_time": "2024-03-18T18:23:04.477935900Z",
     "start_time": "2024-03-18T18:23:04.436157100Z"
    }
   },
   "id": "7ae508a4453ae2c7"
  },
  {
   "cell_type": "code",
   "execution_count": 152,
   "outputs": [
    {
     "data": {
      "text/plain": "NodeView(('0', '74', '264', '41', '137', '1', '291', '262', '151', '2', '177', '150', '316', '3', '246', '155', '4', '169', '168', '9', '5', '24', '219', '6', '121', '8', '232', '7', '274', '18', '519', '512', '191', '10', '187', '110', '413', '182', '11', '374', '295', '12', '104', '14', '76', '13', '93', '276', '188', '351', '15', '165', '501', '218', '47', '16', '240', '166', '17', '158', '458', '363', '46', '22', '410', '19', '37', '20', '440', '324', '443', '21', '225', '315', '88', '220', '23', '314', '255', '25', '96', '184', '470', '317', '26', '357', '360', '30', '27', '250', '29', '28', '251', '31', '32', '209', '33', '208', '34', '164', '163', '161', '207', '35', '156', '36', '38', '72', '533', '42', '132', '511', '39', '40', '139', '73', '531', '66', '138', '63', '43', '62', '44', '58', '57', '45', '52', '51', '142', '154', '206', '153', '308', '193', '48', '55', '466', '49', '339', '50', '508', '56', '141', '53', '143', '54', '59', '265', '94', '234', '61', '64', '60', '65', '524', '71', '67', '472', '68', '467', '69', '99', '124', '75', '70', '247', '510', '319', '174', '101', '98', '107', '77', '125', '140', '78', '271', '79', '275', '80', '373', '81', '269', '394', '272', '270', '82', '192', '529', '230', '83', '194', '84', '365', '85', '86', '199', '198', '312', '495', '89', '196', '87', '391', '392', '197', '267', '90', '309', '91', '171', '127', '201', '92', '371', '286', '95', '469', '183', '97', '144', '103', '105', '173', '123', '100', '102', '248', '522', '106', '261', '521', '221', '186', '473', '348', '476', '108', '109', '377', '343', '175', '185', '172', '181', '111', '129', '112', '320', '426', '116', '425', '113', '120', '114', '115', '145', '390', '406', '146', '454', '245', '147', '117', '118', '148', '241', '380', '242', '526', '119', '388', '122', '190', '126', '338', '167', '238', '128', '398', '134', '130', '131', '254', '133', '135', '405', '459', '407', '136', '530', '189', '536', '263', '149', '290', '178', '231', '152', '528', '525', '162', '534', '157', '205', '460', '159', '160', '462', '361', '463', '204', '383', '307', '296', '408', '293', '170', '340', '176', '179', '180', '266', '471', '227', '233', '503', '310', '505', '513', '195', '496', '498', '520', '384', '491', '200', '376', '355', '202', '203', '210', '211', '212', '213', '416', '214', '215', '216', '397', '217', '499', '222', '224', '375', '223', '294', '226', '228', '229', '292', '532', '258', '235', '236', '401', '237', '302', '385', '537', '239', '516', '432', '402', '249', '243', '244', '386', '256', '465', '514', '252', '277', '285', '313', '253', '257', '259', '260', '523', '490', '268', '305', '273', '379', '278', '281', '282', '279', '280', '283', '452', '411', '284', '287', '288', '289', '382', '399', '464', '297', '303', '298', '445', '403', '446', '299', '450', '300', '301', '396', '404', '304', '368', '378', '306', '370', '414', '506', '497', '311', '318', '337', '321', '329', '333', '420', '322', '323', '381', '326', '325', '328', '336', '327', '456', '457', '421', '332', '331', '419', '330', '422', '334', '335', '504', '341', '342', '345', '344', '347', '346', '475', '349', '352', '350', '353', '412', '354', '356', '359', '358', '387', '362', '527', '461', '364', '367', '366', '369', '372', '400', '492', '389', '418', '417', '393', '395', '449', '448', '409', '415', '477', '424', '423', '439', '430', '427', '428', '429', '431', '433', '434', '435', '436', '442', '437', '438', '441', '444', '447', '453', '451', '517', '455', '509', '535', '515', '468', '474', '487', '479', '478', '480', '481', '483', '482', '485', '484', '486', '488', '489', '493', '494', '500', '502', '507', '518'))"
     },
     "execution_count": 152,
     "metadata": {},
     "output_type": "execute_result"
    }
   ],
   "source": [
    "from networkx import NetworkXError\n",
    "\n",
    "new_graph: nx.MultiDiGraph = nx_graph.copy()\n",
    "for index,row in points.iterrows():\n",
    "    try:\n",
    "        u,v = row[[\"start\",\"end\"]]\n",
    "        new_graph.remove_edge(u,v)\n",
    "    except NetworkXError:\n",
    "        pass\n",
    "    \n",
    "new_graph.add_node('0')\n",
    "new_graph.add_node('0')\n",
    "new_graph.add_node('0')\n",
    "new_graph.add_node('0')\n",
    "new_graph.nodes"
   ],
   "metadata": {
    "collapsed": false,
    "ExecuteTime": {
     "end_time": "2024-03-18T18:51:01.871077Z",
     "start_time": "2024-03-18T18:51:01.860187300Z"
    }
   },
   "id": "84eebb71391cd2ca"
  },
  {
   "cell_type": "code",
   "execution_count": 141,
   "outputs": [
    {
     "ename": "SyntaxError",
     "evalue": "incomplete input (3417650051.py, line 3)",
     "output_type": "error",
     "traceback": [
      "\u001B[1;36m  Cell \u001B[1;32mIn[141], line 3\u001B[1;36m\u001B[0m\n\u001B[1;33m    \u001B[0m\n\u001B[1;37m    ^\u001B[0m\n\u001B[1;31mSyntaxError\u001B[0m\u001B[1;31m:\u001B[0m incomplete input\n"
     ]
    }
   ],
   "source": [
    "for index,row in points.iterrows():\n",
    "    \n",
    "    "
   ],
   "metadata": {
    "collapsed": false,
    "ExecuteTime": {
     "end_time": "2024-03-18T18:21:16.476500400Z",
     "start_time": "2024-03-18T18:21:16.460418500Z"
    }
   },
   "id": "b38a9ecefab6ca66"
  },
  {
   "cell_type": "code",
   "execution_count": 13,
   "outputs": [
    {
     "ename": "KeyboardInterrupt",
     "evalue": "",
     "output_type": "error",
     "traceback": [
      "\u001B[1;31m---------------------------------------------------------------------------\u001B[0m",
      "\u001B[1;31mKeyboardInterrupt\u001B[0m                         Traceback (most recent call last)",
      "Cell \u001B[1;32mIn[13], line 21\u001B[0m\n\u001B[0;32m     16\u001B[0m graph_gdf \u001B[38;5;241m=\u001B[39m gpd\u001B[38;5;241m.\u001B[39mGeoDataFrame(df, geometry\u001B[38;5;241m=\u001B[39mdf[\u001B[38;5;124m\"\u001B[39m\u001B[38;5;124mgeometry\u001B[39m\u001B[38;5;124m\"\u001B[39m], crs\u001B[38;5;241m=\u001B[39mcity_crs)\n\u001B[0;32m     17\u001B[0m nearest_nodes \u001B[38;5;241m=\u001B[39m graph_gdf[\u001B[38;5;124m\"\u001B[39m\u001B[38;5;124mgeometry\u001B[39m\u001B[38;5;124m\"\u001B[39m]\u001B[38;5;241m.\u001B[39msindex\u001B[38;5;241m.\u001B[39mnearest(\n\u001B[0;32m     18\u001B[0m     test_gdf[\u001B[38;5;124m\"\u001B[39m\u001B[38;5;124mgeometry\u001B[39m\u001B[38;5;124m\"\u001B[39m], return_distance\u001B[38;5;241m=\u001B[39m\u001B[38;5;28;01mTrue\u001B[39;00m, return_all\u001B[38;5;241m=\u001B[39m\u001B[38;5;28;01mFalse\u001B[39;00m\n\u001B[0;32m     19\u001B[0m )\n\u001B[1;32m---> 21\u001B[0m distance_matrix \u001B[38;5;241m=\u001B[39m \u001B[43mpd\u001B[49m\u001B[38;5;241m.\u001B[39mDataFrame(\u001B[38;5;241m0\u001B[39m, index\u001B[38;5;241m=\u001B[39mnearest_nodes[\u001B[38;5;241m0\u001B[39m][\u001B[38;5;241m1\u001B[39m], columns\u001B[38;5;241m=\u001B[39mnearest_nodes[\u001B[38;5;241m0\u001B[39m][\u001B[38;5;241m1\u001B[39m])\n\u001B[0;32m     22\u001B[0m \u001B[38;5;28;01mfor\u001B[39;00m source \u001B[38;5;129;01min\u001B[39;00m tqdm(nearest_nodes[\u001B[38;5;241m0\u001B[39m][\u001B[38;5;241m1\u001B[39m], total\u001B[38;5;241m=\u001B[39m\u001B[38;5;28mlen\u001B[39m(nearest_nodes[\u001B[38;5;241m0\u001B[39m][\u001B[38;5;241m1\u001B[39m])):\n\u001B[0;32m     23\u001B[0m     \u001B[38;5;28;01mfor\u001B[39;00m dest \u001B[38;5;129;01min\u001B[39;00m nearest_nodes[\u001B[38;5;241m0\u001B[39m][\u001B[38;5;241m1\u001B[39m]:\n",
      "Cell \u001B[1;32mIn[13], line 21\u001B[0m\n\u001B[0;32m     16\u001B[0m graph_gdf \u001B[38;5;241m=\u001B[39m gpd\u001B[38;5;241m.\u001B[39mGeoDataFrame(df, geometry\u001B[38;5;241m=\u001B[39mdf[\u001B[38;5;124m\"\u001B[39m\u001B[38;5;124mgeometry\u001B[39m\u001B[38;5;124m\"\u001B[39m], crs\u001B[38;5;241m=\u001B[39mcity_crs)\n\u001B[0;32m     17\u001B[0m nearest_nodes \u001B[38;5;241m=\u001B[39m graph_gdf[\u001B[38;5;124m\"\u001B[39m\u001B[38;5;124mgeometry\u001B[39m\u001B[38;5;124m\"\u001B[39m]\u001B[38;5;241m.\u001B[39msindex\u001B[38;5;241m.\u001B[39mnearest(\n\u001B[0;32m     18\u001B[0m     test_gdf[\u001B[38;5;124m\"\u001B[39m\u001B[38;5;124mgeometry\u001B[39m\u001B[38;5;124m\"\u001B[39m], return_distance\u001B[38;5;241m=\u001B[39m\u001B[38;5;28;01mTrue\u001B[39;00m, return_all\u001B[38;5;241m=\u001B[39m\u001B[38;5;28;01mFalse\u001B[39;00m\n\u001B[0;32m     19\u001B[0m )\n\u001B[1;32m---> 21\u001B[0m distance_matrix \u001B[38;5;241m=\u001B[39m \u001B[43mpd\u001B[49m\u001B[38;5;241m.\u001B[39mDataFrame(\u001B[38;5;241m0\u001B[39m, index\u001B[38;5;241m=\u001B[39mnearest_nodes[\u001B[38;5;241m0\u001B[39m][\u001B[38;5;241m1\u001B[39m], columns\u001B[38;5;241m=\u001B[39mnearest_nodes[\u001B[38;5;241m0\u001B[39m][\u001B[38;5;241m1\u001B[39m])\n\u001B[0;32m     22\u001B[0m \u001B[38;5;28;01mfor\u001B[39;00m source \u001B[38;5;129;01min\u001B[39;00m tqdm(nearest_nodes[\u001B[38;5;241m0\u001B[39m][\u001B[38;5;241m1\u001B[39m], total\u001B[38;5;241m=\u001B[39m\u001B[38;5;28mlen\u001B[39m(nearest_nodes[\u001B[38;5;241m0\u001B[39m][\u001B[38;5;241m1\u001B[39m])):\n\u001B[0;32m     23\u001B[0m     \u001B[38;5;28;01mfor\u001B[39;00m dest \u001B[38;5;129;01min\u001B[39;00m nearest_nodes[\u001B[38;5;241m0\u001B[39m][\u001B[38;5;241m1\u001B[39m]:\n",
      "File \u001B[1;32m_pydevd_bundle\\pydevd_cython_win32_310_64.pyx:1179\u001B[0m, in \u001B[0;36m_pydevd_bundle.pydevd_cython_win32_310_64.SafeCallWrapper.__call__\u001B[1;34m()\u001B[0m\n",
      "File \u001B[1;32m_pydevd_bundle\\pydevd_cython_win32_310_64.pyx:620\u001B[0m, in \u001B[0;36m_pydevd_bundle.pydevd_cython_win32_310_64.PyDBFrame.trace_dispatch\u001B[1;34m()\u001B[0m\n",
      "File \u001B[1;32m_pydevd_bundle\\pydevd_cython_win32_310_64.pyx:929\u001B[0m, in \u001B[0;36m_pydevd_bundle.pydevd_cython_win32_310_64.PyDBFrame.trace_dispatch\u001B[1;34m()\u001B[0m\n",
      "File \u001B[1;32m_pydevd_bundle\\pydevd_cython_win32_310_64.pyx:920\u001B[0m, in \u001B[0;36m_pydevd_bundle.pydevd_cython_win32_310_64.PyDBFrame.trace_dispatch\u001B[1;34m()\u001B[0m\n",
      "File \u001B[1;32m_pydevd_bundle\\pydevd_cython_win32_310_64.pyx:317\u001B[0m, in \u001B[0;36m_pydevd_bundle.pydevd_cython_win32_310_64.PyDBFrame.do_wait_suspend\u001B[1;34m()\u001B[0m\n",
      "File \u001B[1;32mD:\\Programs\\PyCharm\\PyCharm 2023.2.1\\plugins\\python\\helpers\\pydev\\pydevd.py:1160\u001B[0m, in \u001B[0;36mPyDB.do_wait_suspend\u001B[1;34m(self, thread, frame, event, arg, send_suspend_message, is_unhandled_exception)\u001B[0m\n\u001B[0;32m   1157\u001B[0m         from_this_thread\u001B[38;5;241m.\u001B[39mappend(frame_id)\n\u001B[0;32m   1159\u001B[0m \u001B[38;5;28;01mwith\u001B[39;00m \u001B[38;5;28mself\u001B[39m\u001B[38;5;241m.\u001B[39m_threads_suspended_single_notification\u001B[38;5;241m.\u001B[39mnotify_thread_suspended(thread_id, stop_reason):\n\u001B[1;32m-> 1160\u001B[0m     \u001B[38;5;28;43mself\u001B[39;49m\u001B[38;5;241;43m.\u001B[39;49m\u001B[43m_do_wait_suspend\u001B[49m\u001B[43m(\u001B[49m\u001B[43mthread\u001B[49m\u001B[43m,\u001B[49m\u001B[43m \u001B[49m\u001B[43mframe\u001B[49m\u001B[43m,\u001B[49m\u001B[43m \u001B[49m\u001B[43mevent\u001B[49m\u001B[43m,\u001B[49m\u001B[43m \u001B[49m\u001B[43marg\u001B[49m\u001B[43m,\u001B[49m\u001B[43m \u001B[49m\u001B[43msuspend_type\u001B[49m\u001B[43m,\u001B[49m\u001B[43m \u001B[49m\u001B[43mfrom_this_thread\u001B[49m\u001B[43m)\u001B[49m\n",
      "File \u001B[1;32mD:\\Programs\\PyCharm\\PyCharm 2023.2.1\\plugins\\python\\helpers\\pydev\\pydevd.py:1175\u001B[0m, in \u001B[0;36mPyDB._do_wait_suspend\u001B[1;34m(self, thread, frame, event, arg, suspend_type, from_this_thread)\u001B[0m\n\u001B[0;32m   1172\u001B[0m             \u001B[38;5;28mself\u001B[39m\u001B[38;5;241m.\u001B[39m_call_mpl_hook()\n\u001B[0;32m   1174\u001B[0m         \u001B[38;5;28mself\u001B[39m\u001B[38;5;241m.\u001B[39mprocess_internal_commands()\n\u001B[1;32m-> 1175\u001B[0m         \u001B[43mtime\u001B[49m\u001B[38;5;241;43m.\u001B[39;49m\u001B[43msleep\u001B[49m\u001B[43m(\u001B[49m\u001B[38;5;241;43m0.01\u001B[39;49m\u001B[43m)\u001B[49m\n\u001B[0;32m   1177\u001B[0m \u001B[38;5;28mself\u001B[39m\u001B[38;5;241m.\u001B[39mcancel_async_evaluation(get_current_thread_id(thread), \u001B[38;5;28mstr\u001B[39m(\u001B[38;5;28mid\u001B[39m(frame)))\n\u001B[0;32m   1179\u001B[0m \u001B[38;5;66;03m# process any stepping instructions\u001B[39;00m\n",
      "\u001B[1;31mKeyboardInterrupt\u001B[0m: "
     ]
    }
   ],
   "source": [
    "import networkit as nk\n",
    "from src.dongraphio.utils import matrix_utils\n",
    "\n",
    "mobility_sub_graph = matrix_utils.get_subgraph(\n",
    "    nx_graph.copy(),\n",
    "    \"type\",\n",
    "    [\"car\"],\n",
    ")\n",
    "\n",
    "nk_graph = matrix_utils.convert_nx2nk(\n",
    "    mobility_sub_graph, idmap=matrix_utils.get_nx2nk_idmap(mobility_sub_graph), weight=\"length_meter\"\n",
    ")\n",
    "\n",
    "graph_with_geom = matrix_utils.load_graph_geometry(mobility_sub_graph)\n",
    "df = pd.DataFrame.from_dict(dict(graph_with_geom.nodes(data=True)), orient=\"index\")\n",
    "graph_gdf = gpd.GeoDataFrame(df, geometry=df[\"geometry\"], crs=city_crs)\n",
    "nearest_nodes = graph_gdf[\"geometry\"].sindex.nearest(\n",
    "    test_gdf[\"geometry\"], return_distance=True, return_all=False\n",
    ")\n",
    "\n",
    "distance_matrix = pd.DataFrame(0, index=nearest_nodes[0][1], columns=nearest_nodes[0][1])\n",
    "for source in tqdm(nearest_nodes[0][1], total=len(nearest_nodes[0][1])):\n",
    "    for dest in nearest_nodes[0][1]:\n",
    "        heu = None\n",
    "        r = nk.distance.AStar(G=nk_graph, heu=heu, source=source, target=dest).run()\n"
   ],
   "metadata": {
    "collapsed": false,
    "ExecuteTime": {
     "end_time": "2024-03-16T06:34:37.193100200Z",
     "start_time": "2024-03-16T06:29:46.527241100Z"
    }
   },
   "id": "52f4a73a0b3ebfcd"
  },
  {
   "cell_type": "code",
   "execution_count": null,
   "outputs": [],
   "source": [
    "from shapely.geometry import MultiPoint\n",
    "\n",
    "devided_routes[\"geometry\"] = devided_routes[\"geometry\"].apply(lambda x: MultiPoint(x))\n",
    "devided_routes = gpd.GeoDataFrame(data=devided_routes, geometry=\"geometry\")\n",
    "devided_routes.to_file(\"new_routes.geojson\")\n"
   ],
   "metadata": {
    "collapsed": false
   },
   "id": "cce692b08d7c31fb"
  },
  {
   "cell_type": "code",
   "execution_count": null,
   "outputs": [],
   "source": [],
   "metadata": {
    "collapsed": false
   },
   "id": "5145ac34a83789c1"
  },
  {
   "cell_type": "code",
   "execution_count": 6,
   "outputs": [
    {
     "data": {
      "text/html": "\n\t\t\t<script type=\"text/javascript\">\n\t\t\t<!--\n\t\t\t\t\n\t\t\t{\n\t\t\t\tvar element = document.getElementById('NetworKit_script');\n\t\t\t\tif (element) {\n\t\t\t\t\telement.parentNode.removeChild(element);\n\t\t\t\t}\n\t\t\t\telement = document.createElement('script');\n\t\t\t\telement.type = 'text/javascript';\n\t\t\t\telement.innerHTML = 'function NetworKit_pageEmbed(id) { var i, j; var elements; elements = document.getElementById(id).getElementsByClassName(\"Plot\"); for (i=0; i<elements.length; i++) { elements[i].id = id + \"_Plot_\" + i; var data = elements[i].getAttribute(\"data-image\").split(\"|\"); elements[i].removeAttribute(\"data-image\"); var content = \"<div class=\\\\\"Image\\\\\" id=\\\\\"\" + elements[i].id + \"_Image\\\\\" />\"; elements[i].innerHTML = content; elements[i].setAttribute(\"data-image-index\", 0); elements[i].setAttribute(\"data-image-length\", data.length); for (j=0; j<data.length; j++) { elements[i].setAttribute(\"data-image-\" + j, data[j]); } NetworKit_plotUpdate(elements[i]); elements[i].onclick = function (e) { NetworKit_overlayShow((e.target) ? e.target : e.srcElement); } } elements = document.getElementById(id).getElementsByClassName(\"HeatCell\"); for (i=0; i<elements.length; i++) { var data = parseFloat(elements[i].getAttribute(\"data-heat\")); var color = \"#00FF00\"; if (data <= 1 && data > 0) { color = \"hsla(0, 100%, 75%, \" + (data) + \")\"; } else if (data <= 0 && data >= -1) { color = \"hsla(240, 100%, 75%, \" + (-data) + \")\"; } elements[i].style.backgroundColor = color; } elements = document.getElementById(id).getElementsByClassName(\"Details\"); for (i=0; i<elements.length; i++) { elements[i].setAttribute(\"data-title\", \"-\"); NetworKit_toggleDetails(elements[i]); elements[i].onclick = function (e) { NetworKit_toggleDetails((e.target) ? e.target : e.srcElement); } } elements = document.getElementById(id).getElementsByClassName(\"MathValue\"); for (i=elements.length-1; i>=0; i--) { value = elements[i].innerHTML.trim(); if (value === \"nan\") { elements[i].parentNode.innerHTML = \"\" } } elements = document.getElementById(id).getElementsByClassName(\"SubCategory\"); for (i=elements.length-1; i>=0; i--) { value = elements[i].innerHTML.trim(); if (value === \"\") { elements[i].parentNode.removeChild(elements[i]) } } elements = document.getElementById(id).getElementsByClassName(\"Category\"); for (i=elements.length-1; i>=0; i--) { value = elements[i].innerHTML.trim(); if (value === \"\") { elements[i].parentNode.removeChild(elements[i]) } } var isFirefox = false; try { isFirefox = typeof InstallTrigger !== \"undefined\"; } catch (e) {} if (!isFirefox) { alert(\"Currently the function\\'s output is only fully supported by Firefox.\"); } } function NetworKit_plotUpdate(source) { var index = source.getAttribute(\"data-image-index\"); var data = source.getAttribute(\"data-image-\" + index); var image = document.getElementById(source.id + \"_Image\"); image.style.backgroundImage = \"url(\" + data + \")\"; } function NetworKit_showElement(id, show) { var element = document.getElementById(id); element.style.display = (show) ? \"block\" : \"none\"; } function NetworKit_overlayShow(source) { NetworKit_overlayUpdate(source); NetworKit_showElement(\"NetworKit_Overlay\", true); } function NetworKit_overlayUpdate(source) { document.getElementById(\"NetworKit_Overlay_Title\").innerHTML = source.title; var index = source.getAttribute(\"data-image-index\"); var data = source.getAttribute(\"data-image-\" + index); var image = document.getElementById(\"NetworKit_Overlay_Image\"); image.setAttribute(\"data-id\", source.id); image.style.backgroundImage = \"url(\" + data + \")\"; var link = document.getElementById(\"NetworKit_Overlay_Toolbar_Bottom_Save\"); link.href = data; link.download = source.title + \".svg\"; } function NetworKit_overlayImageShift(delta) { var image = document.getElementById(\"NetworKit_Overlay_Image\"); var source = document.getElementById(image.getAttribute(\"data-id\")); var index = parseInt(source.getAttribute(\"data-image-index\")); var length = parseInt(source.getAttribute(\"data-image-length\")); var index = (index+delta) % length; if (index < 0) { index = length + index; } source.setAttribute(\"data-image-index\", index); NetworKit_overlayUpdate(source); } function NetworKit_toggleDetails(source) { var childs = source.children; var show = false; if (source.getAttribute(\"data-title\") == \"-\") { source.setAttribute(\"data-title\", \"+\"); show = false; } else { source.setAttribute(\"data-title\", \"-\"); show = true; } for (i=0; i<childs.length; i++) { if (show) { childs[i].style.display = \"block\"; } else { childs[i].style.display = \"none\"; } } }';\n\t\t\t\telement.setAttribute('id', 'NetworKit_script');\n\t\t\t\tdocument.head.appendChild(element);\n\t\t\t}\n\t\t\n\t\t\t\t\n\t\t\t{\n\t\t\t\tvar element = document.getElementById('NetworKit_style');\n\t\t\t\tif (element) {\n\t\t\t\t\telement.parentNode.removeChild(element);\n\t\t\t\t}\n\t\t\t\telement = document.createElement('style');\n\t\t\t\telement.type = 'text/css';\n\t\t\t\telement.innerHTML = '.NetworKit_Page { font-family: Arial, Helvetica, sans-serif; font-size: 14px; } .NetworKit_Page .Value:before { font-family: Arial, Helvetica, sans-serif; font-size: 1.05em; content: attr(data-title) \":\"; margin-left: -2.5em; padding-right: 0.5em; } .NetworKit_Page .Details .Value:before { display: block; } .NetworKit_Page .Value { font-family: monospace; white-space: pre; padding-left: 2.5em; white-space: -moz-pre-wrap !important; white-space: -pre-wrap; white-space: -o-pre-wrap; white-space: pre-wrap; word-wrap: break-word; tab-size: 4; -moz-tab-size: 4; } .NetworKit_Page .Category { clear: both; padding-left: 1em; margin-bottom: 1.5em; } .NetworKit_Page .Category:before { content: attr(data-title); font-size: 1.75em; display: block; margin-left: -0.8em; margin-bottom: 0.5em; } .NetworKit_Page .SubCategory { margin-bottom: 1.5em; padding-left: 1em; } .NetworKit_Page .SubCategory:before { font-size: 1.6em; display: block; margin-left: -0.8em; margin-bottom: 0.5em; } .NetworKit_Page .SubCategory[data-title]:before { content: attr(data-title); } .NetworKit_Page .Block { display: block; } .NetworKit_Page .Block:after { content: \".\"; visibility: hidden; display: block; height: 0; clear: both; } .NetworKit_Page .Block .Thumbnail_Overview, .NetworKit_Page .Block .Thumbnail_ScatterPlot { width: 260px; float: left; } .NetworKit_Page .Block .Thumbnail_Overview img, .NetworKit_Page .Block .Thumbnail_ScatterPlot img { width: 260px; } .NetworKit_Page .Block .Thumbnail_Overview:before, .NetworKit_Page .Block .Thumbnail_ScatterPlot:before { display: block; text-align: center; font-weight: bold; } .NetworKit_Page .Block .Thumbnail_Overview:before { content: attr(data-title); } .NetworKit_Page .HeatCell { font-family: \"Courier New\", Courier, monospace; cursor: pointer; } .NetworKit_Page .HeatCell, .NetworKit_Page .HeatCellName { display: inline; padding: 0.1em; margin-right: 2px; background-color: #FFFFFF } .NetworKit_Page .HeatCellName { margin-left: 0.25em; } .NetworKit_Page .HeatCell:before { content: attr(data-heat); display: inline-block; color: #000000; width: 4em; text-align: center; } .NetworKit_Page .Measure { clear: both; } .NetworKit_Page .Measure .Details { cursor: pointer; } .NetworKit_Page .Measure .Details:before { content: \"[\" attr(data-title) \"]\"; display: block; } .NetworKit_Page .Measure .Details .Value { border-left: 1px dotted black; margin-left: 0.4em; padding-left: 3.5em; pointer-events: none; } .NetworKit_Page .Measure .Details .Spacer:before { content: \".\"; opacity: 0.0; pointer-events: none; } .NetworKit_Page .Measure .Plot { width: 440px; height: 440px; cursor: pointer; float: left; margin-left: -0.9em; margin-right: 20px; } .NetworKit_Page .Measure .Plot .Image { background-repeat: no-repeat; background-position: center center; background-size: contain; height: 100%; pointer-events: none; } .NetworKit_Page .Measure .Stat { width: 500px; float: left; } .NetworKit_Page .Measure .Stat .Group { padding-left: 1.25em; margin-bottom: 0.75em; } .NetworKit_Page .Measure .Stat .Group .Title { font-size: 1.1em; display: block; margin-bottom: 0.3em; margin-left: -0.75em; border-right-style: dotted; border-right-width: 1px; border-bottom-style: dotted; border-bottom-width: 1px; background-color: #D0D0D0; padding-left: 0.2em; } .NetworKit_Page .Measure .Stat .Group .List { -webkit-column-count: 3; -moz-column-count: 3; column-count: 3; } .NetworKit_Page .Measure .Stat .Group .List .Entry { position: relative; line-height: 1.75em; } .NetworKit_Page .Measure .Stat .Group .List .Entry[data-tooltip]:before { position: absolute; left: 0; top: -40px; background-color: #808080; color: #ffffff; height: 30px; line-height: 30px; border-radius: 5px; padding: 0 15px; content: attr(data-tooltip); white-space: nowrap; display: none; } .NetworKit_Page .Measure .Stat .Group .List .Entry[data-tooltip]:after { position: absolute; left: 15px; top: -10px; border-top: 7px solid #808080; border-left: 7px solid transparent; border-right: 7px solid transparent; content: \"\"; display: none; } .NetworKit_Page .Measure .Stat .Group .List .Entry[data-tooltip]:hover:after, .NetworKit_Page .Measure .Stat .Group .List .Entry[data-tooltip]:hover:before { display: block; } .NetworKit_Page .Measure .Stat .Group .List .Entry .MathValue { font-family: \"Courier New\", Courier, monospace; } .NetworKit_Page .Measure:after { content: \".\"; visibility: hidden; display: block; height: 0; clear: both; } .NetworKit_Page .PartitionPie { clear: both; } .NetworKit_Page .PartitionPie img { width: 600px; } #NetworKit_Overlay { left: 0px; top: 0px; display: none; position: absolute; width: 100%; height: 100%; background-color: rgba(0,0,0,0.6); z-index: 1000; } #NetworKit_Overlay_Title { position: absolute; color: white; transform: rotate(-90deg); width: 32em; height: 32em; padding-right: 0.5em; padding-top: 0.5em; text-align: right; font-size: 40px; } #NetworKit_Overlay .button { background: white; cursor: pointer; } #NetworKit_Overlay .button:before { size: 13px; display: inline-block; text-align: center; margin-top: 0.5em; margin-bottom: 0.5em; width: 1.5em; height: 1.5em; } #NetworKit_Overlay .icon-close:before { content: \"X\"; } #NetworKit_Overlay .icon-previous:before { content: \"P\"; } #NetworKit_Overlay .icon-next:before { content: \"N\"; } #NetworKit_Overlay .icon-save:before { content: \"S\"; } #NetworKit_Overlay_Toolbar_Top, #NetworKit_Overlay_Toolbar_Bottom { position: absolute; width: 40px; right: 13px; text-align: right; z-index: 1100; } #NetworKit_Overlay_Toolbar_Top { top: 0.5em; } #NetworKit_Overlay_Toolbar_Bottom { Bottom: 0.5em; } #NetworKit_Overlay_ImageContainer { position: absolute; top: 5%; left: 5%; height: 90%; width: 90%; background-repeat: no-repeat; background-position: center center; background-size: contain; } #NetworKit_Overlay_Image { height: 100%; width: 100%; background-repeat: no-repeat; background-position: center center; background-size: contain; }';\n\t\t\t\telement.setAttribute('id', 'NetworKit_style');\n\t\t\t\tdocument.head.appendChild(element);\n\t\t\t}\n\t\t\n\t\t\t\t\n\t\t\t{\n\t\t\t\tvar element = document.getElementById('NetworKit_Overlay');\n\t\t\t\tif (element) {\n\t\t\t\t\telement.parentNode.removeChild(element);\n\t\t\t\t}\n\t\t\t\telement = document.createElement('div');\n\t\t\t\telement.innerHTML = '<div id=\"NetworKit_Overlay_Toolbar_Top\"><div class=\"button icon-close\" id=\"NetworKit_Overlay_Close\" /></div><div id=\"NetworKit_Overlay_Title\" /> <div id=\"NetworKit_Overlay_ImageContainer\"> <div id=\"NetworKit_Overlay_Image\" /> </div> <div id=\"NetworKit_Overlay_Toolbar_Bottom\"> <div class=\"button icon-previous\" onclick=\"NetworKit_overlayImageShift(-1)\" /> <div class=\"button icon-next\" onclick=\"NetworKit_overlayImageShift(1)\" /> <a id=\"NetworKit_Overlay_Toolbar_Bottom_Save\"><div class=\"button icon-save\" /></a> </div>';\n\t\t\t\telement.setAttribute('id', 'NetworKit_Overlay');\n\t\t\t\tdocument.body.appendChild(element);\n\t\t\t\tdocument.getElementById('NetworKit_Overlay_Close').onclick = function (e) {\n\t\t\t\t\tdocument.getElementById('NetworKit_Overlay').style.display = 'none';\n\t\t\t\t}\n\t\t\t}\n\t\t\n\t\t\t-->\n\t\t\t</script>\n\t\t"
     },
     "metadata": {},
     "output_type": "display_data"
    },
    {
     "name": "stderr",
     "output_type": "stream",
     "text": [
      "\u001B[32m2024-03-18 15:58:27.231\u001B[0m | \u001B[34m\u001B[1mDEBUG   \u001B[0m | \u001B[36msrc.dongraphio.utils.graphs\u001B[0m:\u001B[36mget_osmnx_graph\u001B[0m:\u001B[36m58\u001B[0m - \u001B[34m\u001B[1mExtracting and preparing drive graph from OSM ...\u001B[0m\n"
     ]
    },
    {
     "data": {
      "text/plain": "Collecting drive graph:   0%|          | 0/1467 [00:00<?, ?it/s]",
      "application/vnd.jupyter.widget-view+json": {
       "version_major": 2,
       "version_minor": 0,
       "model_id": "62f4c2c52e814a64a410d3683ce7fa8b"
      }
     },
     "metadata": {},
     "output_type": "display_data"
    }
   ],
   "source": [
    "from shapely import from_wkt\n",
    "from src.dongraphio.utils import get_osmnx_graph\n",
    "import osmnx as ox\n",
    "import networkx as nx\n",
    "\n",
    "G_drive: nx.MultiDiGraph = get_osmnx_graph(\n",
    "    2705630, 32636, \"drive\", truncate_by_edge=False\n",
    ")\n",
    "nx.write_graphml(G_drive, \"graph_for_test.graphml\")\n",
    "for i in G_drive.edges(data=True):\n",
    "    i[2]['geometry'] = from_wkt(str(i[2]['geometry']))\n",
    "gdf = ox.graph_to_gdfs(G_drive, nodes=False)\n",
    "gdf.to_file(\"graph_for_test.geojson\")"
   ],
   "metadata": {
    "collapsed": false,
    "ExecuteTime": {
     "end_time": "2024-03-18T12:58:28.457160800Z",
     "start_time": "2024-03-18T12:58:24.737959300Z"
    }
   },
   "id": "2a01bd560badce4"
  },
  {
   "cell_type": "code",
   "execution_count": null,
   "outputs": [],
   "source": [],
   "metadata": {
    "collapsed": false
   },
   "id": "92b1622fe57e3c19"
  }
 ],
 "metadata": {
  "kernelspec": {
   "display_name": "Python 3",
   "language": "python",
   "name": "python3"
  },
  "language_info": {
   "codemirror_mode": {
    "name": "ipython",
    "version": 2
   },
   "file_extension": ".py",
   "mimetype": "text/x-python",
   "name": "python",
   "nbconvert_exporter": "python",
   "pygments_lexer": "ipython2",
   "version": "2.7.6"
  }
 },
 "nbformat": 4,
 "nbformat_minor": 5
}
