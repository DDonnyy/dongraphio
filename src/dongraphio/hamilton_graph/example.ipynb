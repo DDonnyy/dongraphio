{
 "cells": [
  {
   "cell_type": "markdown",
   "source": [
    "Разделяем слой с остановками на уникальные маршруты, поскольку есть маршруты в разных областях ЛО c одинаковыми названиями, необходимо применить кластеризацию по расположению с искуственным шумом. Если все маршруты уникальные это не требуется"
   ],
   "metadata": {
    "collapsed": false
   },
   "id": "eeacc96f19adb581"
  },
  {
   "cell_type": "code",
   "execution_count": 3,
   "id": "initial_id",
   "metadata": {
    "collapsed": true,
    "ExecuteTime": {
     "end_time": "2024-03-29T12:55:29.587695500Z",
     "start_time": "2024-03-29T12:54:57.678974700Z"
    }
   },
   "outputs": [
    {
     "data": {
      "text/plain": "  0%|          | 0/592 [00:00<?, ?it/s]",
      "application/vnd.jupyter.widget-view+json": {
       "version_major": 2,
       "version_minor": 0,
       "model_id": "2d1a8850748b45ff8d9c983ce0228838"
      }
     },
     "metadata": {},
     "output_type": "display_data"
    },
    {
     "data": {
      "text/plain": "                                                geometry\n512    [POINT (30.1334586 59.3847992), POINT (30.1216...\n146.1  [POINT (33.5477024 59.6438613), POINT (33.5772...\n146.2  [POINT (28.679680495239083 60.74368425782026),...\n146.3                    [POINT (30.0268527 59.7295248)]\n69Б    [POINT (28.7021229 59.4006375), POINT (28.7004...\n...                                                  ...\n684    [POINT (29.7162419 59.8193145), POINT (29.7813...\n453    [POINT (30.9339771 59.8480882), POINT (30.7436...\n483А   [POINT (29.2575067 60.3205642), POINT (29.2059...\n95а    [POINT (28.0530789 59.0627202), POINT (28.0547...\n157    [POINT (29.8435068 58.7181782), POINT (29.8439...\n\n[848 rows x 1 columns]",
      "text/html": "<div>\n<style scoped>\n    .dataframe tbody tr th:only-of-type {\n        vertical-align: middle;\n    }\n\n    .dataframe tbody tr th {\n        vertical-align: top;\n    }\n\n    .dataframe thead th {\n        text-align: right;\n    }\n</style>\n<table border=\"1\" class=\"dataframe\">\n  <thead>\n    <tr style=\"text-align: right;\">\n      <th></th>\n      <th>geometry</th>\n    </tr>\n  </thead>\n  <tbody>\n    <tr>\n      <th>512</th>\n      <td>[POINT (30.1334586 59.3847992), POINT (30.1216...</td>\n    </tr>\n    <tr>\n      <th>146.1</th>\n      <td>[POINT (33.5477024 59.6438613), POINT (33.5772...</td>\n    </tr>\n    <tr>\n      <th>146.2</th>\n      <td>[POINT (28.679680495239083 60.74368425782026),...</td>\n    </tr>\n    <tr>\n      <th>146.3</th>\n      <td>[POINT (30.0268527 59.7295248)]</td>\n    </tr>\n    <tr>\n      <th>69Б</th>\n      <td>[POINT (28.7021229 59.4006375), POINT (28.7004...</td>\n    </tr>\n    <tr>\n      <th>...</th>\n      <td>...</td>\n    </tr>\n    <tr>\n      <th>684</th>\n      <td>[POINT (29.7162419 59.8193145), POINT (29.7813...</td>\n    </tr>\n    <tr>\n      <th>453</th>\n      <td>[POINT (30.9339771 59.8480882), POINT (30.7436...</td>\n    </tr>\n    <tr>\n      <th>483А</th>\n      <td>[POINT (29.2575067 60.3205642), POINT (29.2059...</td>\n    </tr>\n    <tr>\n      <th>95а</th>\n      <td>[POINT (28.0530789 59.0627202), POINT (28.0547...</td>\n    </tr>\n    <tr>\n      <th>157</th>\n      <td>[POINT (29.8435068 58.7181782), POINT (29.8439...</td>\n    </tr>\n  </tbody>\n</table>\n<p>848 rows × 1 columns</p>\n</div>"
     },
     "execution_count": 3,
     "metadata": {},
     "output_type": "execute_result"
    }
   ],
   "source": [
    "from shapely import Point\n",
    "import pandas as pd\n",
    "from tqdm.auto import tqdm\n",
    "import geopandas as gpd\n",
    "from src.dongraphio.utils.geometry_utils import clusterize_kmeans_geo_points\n",
    "\n",
    "tqdm.pandas()\n",
    "\n",
    "stops_gdf = gpd.read_file(\"stopsLO.geojson\")\n",
    "stops_gdf.rename(columns={\"Автоб\": \"route\"}, inplace=True)\n",
    "stops_gdf.dropna(subset=\"route\", axis=0, inplace=True, how=\"any\")\n",
    "unique_routes = set()\n",
    "for index, row in (stops_gdf.iterrows()):\n",
    "    for i in str(row[\"route\"]).replace('.', ',').rstrip().lstrip().split(\",\"):\n",
    "        if i != \"\":\n",
    "            unique_routes.add(i.lstrip().rstrip())\n",
    "unique_routes = pd.DataFrame(index=list(unique_routes))\n",
    "unique_routes[\"geometry\"] = [[]] * len(unique_routes)\n",
    "for index, row in (stops_gdf.iterrows()):\n",
    "    for i in str(row[\"route\"]).replace('.', ',').rstrip().lstrip().split(\",\"):\n",
    "        if i != \"\":\n",
    "            unique_routes.loc[i.lstrip().rstrip(), \"geometry\"] = unique_routes.loc[i.lstrip().rstrip()][\"geometry\"] + [\n",
    "                row[\"geometry\"]]\n",
    "\n",
    "devided_routes = pd.DataFrame()\n",
    "noise_points = [[31.21239, 58.61124], [31.22239, 58.62161], [31.23239, 58.61171], [31.24239, 58.62129],\n",
    "                [31.23239, 58.64131],\n",
    "                [32.92133, 59.02899], [32.94933, 59.06599], [32.93943, 59.03599], [32.92733, 59.08999],\n",
    "                [32.92333, 59.00599],\n",
    "                [35.58878, 59.48945], [35.58933, 59.48359], [35.58643, 59.489759], [35.58879, 59.48688],\n",
    "                [35.58869, 59.485749]]\n",
    "noise_points = [Point(x) for x in noise_points]\n",
    "for index, row in tqdm(unique_routes.iterrows(), total=unique_routes.shape[0]):\n",
    "    clusterized = clusterize_kmeans_geo_points(row, noise_points)\n",
    "    if clusterized.shape[0] > 1:\n",
    "        clusterized.index = index + \".\" + clusterized.index.astype(str)\n",
    "        devided_routes = pd.concat([devided_routes, clusterized])\n",
    "    else:\n",
    "        clusterized.index = [index]\n",
    "        devided_routes = pd.concat([devided_routes, clusterized])\n",
    "devided_routes\n"
   ]
  },
  {
   "cell_type": "code",
   "execution_count": 10,
   "outputs": [
    {
     "data": {
      "text/plain": "  0%|          | 0/848 [00:00<?, ?it/s]",
      "application/vnd.jupyter.widget-view+json": {
       "version_major": 2,
       "version_minor": 0,
       "model_id": "166b1378705d4b0f853577243e5ea419"
      }
     },
     "metadata": {},
     "output_type": "display_data"
    },
    {
     "ename": "KeyboardInterrupt",
     "evalue": "",
     "output_type": "error",
     "traceback": [
      "\u001B[1;31m---------------------------------------------------------------------------\u001B[0m",
      "\u001B[1;31mKeyboardInterrupt\u001B[0m                         Traceback (most recent call last)",
      "Cell \u001B[1;32mIn[9], line 19\u001B[0m\n\u001B[0;32m     16\u001B[0m row_gdf \u001B[38;5;241m=\u001B[39m row_gdf\u001B[38;5;241m.\u001B[39mset_crs(\u001B[38;5;241m4326\u001B[39m)\n\u001B[0;32m     17\u001B[0m row_gdf \u001B[38;5;241m=\u001B[39m row_gdf\u001B[38;5;241m.\u001B[39mto_crs(city_crs)\n\u001B[1;32m---> 19\u001B[0m projected_points \u001B[38;5;241m=\u001B[39m \u001B[43mproject_points_on_graph\u001B[49m\u001B[43m(\u001B[49m\u001B[43mdrive_graph\u001B[49m\u001B[43m,\u001B[49m\u001B[43m \u001B[49m\u001B[43mrow_gdf\u001B[49m\u001B[43m)\u001B[49m\n\u001B[0;32m     21\u001B[0m route_nodes, graph_with_new_points \u001B[38;5;241m=\u001B[39m add_projected_points_as_nodes(projected_points, drive_graph)\n\u001B[0;32m     22\u001B[0m graph_with_new_points \u001B[38;5;241m=\u001B[39m nx\u001B[38;5;241m.\u001B[39mDiGraph(graph_with_new_points)\n",
      "File \u001B[1;32mD:\\ItmoWork\\dongraphio\\src\\dongraphio\\utils\\graph_utils.py:392\u001B[0m, in \u001B[0;36mproject_points_on_graph\u001B[1;34m(graph, points_to_project)\u001B[0m\n\u001B[0;32m    387\u001B[0m gdf_graph_edges_buffer[\u001B[38;5;124m\"\u001B[39m\u001B[38;5;124mgeometry\u001B[39m\u001B[38;5;124m\"\u001B[39m] \u001B[38;5;241m=\u001B[39m gdf_graph_edges_buffer[\u001B[38;5;124m\"\u001B[39m\u001B[38;5;124mgeometry\u001B[39m\u001B[38;5;124m\"\u001B[39m]\u001B[38;5;241m.\u001B[39mapply(\n\u001B[0;32m    388\u001B[0m     \u001B[38;5;28;01mlambda\u001B[39;00m x: LineString(x)\u001B[38;5;241m.\u001B[39mbuffer(\u001B[38;5;241m-\u001B[39m\u001B[38;5;241m3\u001B[39m, single_sided\u001B[38;5;241m=\u001B[39m\u001B[38;5;28;01mTrue\u001B[39;00m)\n\u001B[0;32m    389\u001B[0m )\n\u001B[0;32m    390\u001B[0m join \u001B[38;5;241m=\u001B[39m gpd\u001B[38;5;241m.\u001B[39msjoin_nearest(points_to_project, gdf_graph_edges_buffer, distance_col\u001B[38;5;241m=\u001B[39m\u001B[38;5;124m\"\u001B[39m\u001B[38;5;124mdist\u001B[39m\u001B[38;5;124m\"\u001B[39m, how\u001B[38;5;241m=\u001B[39m\u001B[38;5;124m\"\u001B[39m\u001B[38;5;124minner\u001B[39m\u001B[38;5;124m\"\u001B[39m)\n\u001B[1;32m--> 392\u001B[0m projected_points \u001B[38;5;241m=\u001B[39m \u001B[43mpd\u001B[49m\u001B[38;5;241m.\u001B[39mDataFrame(data\u001B[38;5;241m=\u001B[39m\u001B[38;5;28;01mNone\u001B[39;00m)\n\u001B[0;32m    394\u001B[0m \u001B[38;5;28;01mfor\u001B[39;00m _, row \u001B[38;5;129;01min\u001B[39;00m join\u001B[38;5;241m.\u001B[39miterrows():\n\u001B[0;32m    395\u001B[0m     point: Point \u001B[38;5;241m=\u001B[39m row[\u001B[38;5;124m\"\u001B[39m\u001B[38;5;124mgeometry\u001B[39m\u001B[38;5;124m\"\u001B[39m]\n",
      "File \u001B[1;32m_pydevd_bundle\\pydevd_cython_win32_311_64.pyx:1179\u001B[0m, in \u001B[0;36m_pydevd_bundle.pydevd_cython_win32_311_64.SafeCallWrapper.__call__\u001B[1;34m()\u001B[0m\n",
      "File \u001B[1;32m_pydevd_bundle\\pydevd_cython_win32_311_64.pyx:620\u001B[0m, in \u001B[0;36m_pydevd_bundle.pydevd_cython_win32_311_64.PyDBFrame.trace_dispatch\u001B[1;34m()\u001B[0m\n",
      "File \u001B[1;32m_pydevd_bundle\\pydevd_cython_win32_311_64.pyx:929\u001B[0m, in \u001B[0;36m_pydevd_bundle.pydevd_cython_win32_311_64.PyDBFrame.trace_dispatch\u001B[1;34m()\u001B[0m\n",
      "File \u001B[1;32m_pydevd_bundle\\pydevd_cython_win32_311_64.pyx:920\u001B[0m, in \u001B[0;36m_pydevd_bundle.pydevd_cython_win32_311_64.PyDBFrame.trace_dispatch\u001B[1;34m()\u001B[0m\n",
      "File \u001B[1;32m_pydevd_bundle\\pydevd_cython_win32_311_64.pyx:317\u001B[0m, in \u001B[0;36m_pydevd_bundle.pydevd_cython_win32_311_64.PyDBFrame.do_wait_suspend\u001B[1;34m()\u001B[0m\n",
      "File \u001B[1;32mC:\\Program Files\\JetBrains\\PyCharm 2023.2.1\\plugins\\python\\helpers\\pydev\\pydevd.py:1160\u001B[0m, in \u001B[0;36mPyDB.do_wait_suspend\u001B[1;34m(self, thread, frame, event, arg, send_suspend_message, is_unhandled_exception)\u001B[0m\n\u001B[0;32m   1157\u001B[0m         from_this_thread\u001B[38;5;241m.\u001B[39mappend(frame_id)\n\u001B[0;32m   1159\u001B[0m \u001B[38;5;28;01mwith\u001B[39;00m \u001B[38;5;28mself\u001B[39m\u001B[38;5;241m.\u001B[39m_threads_suspended_single_notification\u001B[38;5;241m.\u001B[39mnotify_thread_suspended(thread_id, stop_reason):\n\u001B[1;32m-> 1160\u001B[0m     \u001B[38;5;28;43mself\u001B[39;49m\u001B[38;5;241;43m.\u001B[39;49m\u001B[43m_do_wait_suspend\u001B[49m\u001B[43m(\u001B[49m\u001B[43mthread\u001B[49m\u001B[43m,\u001B[49m\u001B[43m \u001B[49m\u001B[43mframe\u001B[49m\u001B[43m,\u001B[49m\u001B[43m \u001B[49m\u001B[43mevent\u001B[49m\u001B[43m,\u001B[49m\u001B[43m \u001B[49m\u001B[43marg\u001B[49m\u001B[43m,\u001B[49m\u001B[43m \u001B[49m\u001B[43msuspend_type\u001B[49m\u001B[43m,\u001B[49m\u001B[43m \u001B[49m\u001B[43mfrom_this_thread\u001B[49m\u001B[43m)\u001B[49m\n",
      "File \u001B[1;32mC:\\Program Files\\JetBrains\\PyCharm 2023.2.1\\plugins\\python\\helpers\\pydev\\pydevd.py:1175\u001B[0m, in \u001B[0;36mPyDB._do_wait_suspend\u001B[1;34m(self, thread, frame, event, arg, suspend_type, from_this_thread)\u001B[0m\n\u001B[0;32m   1172\u001B[0m             \u001B[38;5;28mself\u001B[39m\u001B[38;5;241m.\u001B[39m_call_mpl_hook()\n\u001B[0;32m   1174\u001B[0m         \u001B[38;5;28mself\u001B[39m\u001B[38;5;241m.\u001B[39mprocess_internal_commands()\n\u001B[1;32m-> 1175\u001B[0m         \u001B[43mtime\u001B[49m\u001B[38;5;241;43m.\u001B[39;49m\u001B[43msleep\u001B[49m\u001B[43m(\u001B[49m\u001B[38;5;241;43m0.01\u001B[39;49m\u001B[43m)\u001B[49m\n\u001B[0;32m   1177\u001B[0m \u001B[38;5;28mself\u001B[39m\u001B[38;5;241m.\u001B[39mcancel_async_evaluation(get_current_thread_id(thread), \u001B[38;5;28mstr\u001B[39m(\u001B[38;5;28mid\u001B[39m(frame)))\n\u001B[0;32m   1179\u001B[0m \u001B[38;5;66;03m# process any stepping instructions\u001B[39;00m\n",
      "\u001B[1;31mKeyboardInterrupt\u001B[0m: "
     ]
    }
   ],
   "source": [
    "\n",
    "from shapely import from_wkt\n",
    "import networkx as nx\n",
    "from src.dongraphio.utils.graph_utils import project_points_on_graph, add_projected_points_as_nodes\n",
    "from src.dongraphio.utils.matrix_utils import get_dist_matrix_for_tsp\n",
    "from src.dongraphio.hamilton_graph.tsp_solver import resolve_tsp,subgraph_by_path\n",
    "drive_graph = nx.read_graphml(\"len_obl_graph.graphml\")\n",
    "for i in drive_graph.edges(data=True):\n",
    "    i[2]['geometry'] = from_wkt(str(i[2]['geometry']))\n",
    "city_crs = 32636\n",
    "iter_=0\n",
    "for index, row in tqdm(devided_routes.iterrows(), total=devided_routes.shape[0]):\n",
    "    iter_=iter_+1\n",
    "    geometry_list = row[\"geometry\"]\n",
    "    row_gdf = gpd.GeoDataFrame(data={\"label\": [index for _ in geometry_list], \"geometry\": geometry_list})\n",
    "    row_gdf = row_gdf.set_crs(4326)\n",
    "    row_gdf = row_gdf.to_crs(city_crs)\n",
    "    \n",
    "    projected_points = project_points_on_graph(drive_graph, row_gdf)\n",
    "    \n",
    "    route_nodes, graph_with_new_points = add_projected_points_as_nodes(projected_points, drive_graph)\n",
    "    graph_with_new_points = nx.DiGraph(graph_with_new_points)\n",
    "    distance_matrix, route_matrix = get_dist_matrix_for_tsp(graph_with_new_points, route_nodes)\n",
    "    \n",
    "    path = resolve_tsp(distance_matrix)\n",
    "    route_nx = subgraph_by_path(path,route_matrix,graph_with_new_points)\n",
    "    \n",
    "    nx.write_graphml(route_nx, f\"route_{index}.graphml\")\n",
    "    if iter_ ==1: break\n",
    "    \n",
    "    \n",
    "\n"
   ],
   "metadata": {
    "collapsed": false,
    "ExecuteTime": {
     "end_time": "2024-03-29T14:32:24.520854Z",
     "start_time": "2024-03-29T14:24:17.105507100Z"
    }
   },
   "id": "ab73f28e504a9960"
  },
  {
   "cell_type": "code",
   "execution_count": 14,
   "outputs": [
    {
     "data": {
      "text/plain": "{'length_meter': 74.472,\n 'geometry': <LINESTRING (311396.5 6684892.22, 311408.63 6684895.2, 311469.09 6684910.03)>,\n 'type': 'car',\n 'time_min': 0.26}"
     },
     "execution_count": 14,
     "metadata": {},
     "output_type": "execute_result"
    }
   ],
   "source": [
    "drive_graph = nx.DiGraph(drive_graph)\n",
    "drive_graph['9645']['9679']"
   ],
   "metadata": {
    "collapsed": false,
    "ExecuteTime": {
     "end_time": "2024-03-29T12:02:03.156826Z",
     "start_time": "2024-03-29T12:02:00.336125500Z"
    }
   },
   "id": "4964b71ed89d06cb"
  },
  {
   "cell_type": "code",
   "execution_count": null,
   "outputs": [],
   "source": [],
   "metadata": {
    "collapsed": false
   },
   "id": "c3059577ac64cc8e"
  },
  {
   "cell_type": "code",
   "execution_count": 7,
   "outputs": [
    {
     "data": {
      "text/plain": "<Figure size 640x480 with 1 Axes>",
      "image/png": "[encoded data removed]"
     },
     "metadata": {},
     "output_type": "display_data"
    }
   ],
   "source": [
    "from matplotlib import pyplot as plt\n",
    "\n",
    "point = from_wkt('POINT (333093.94 6583459.09)')\n",
    "line = from_wkt('LINESTRING (333093.94 6583459.09, 333092.75 6583446.01, 333096.38 6583433.67, 333104.76 6583418.93, 333134.17 6583392.33, 333159.7 6583370.03, 333220.98 6583309.73, 333232.44 6583299.31, 333263.08 6583271.44)')\n",
    "\n",
    "\n",
    "# Создаем новый график\n",
    "fig, ax = plt.subplots()\n",
    "\n",
    "# Добавляем линию на график\n",
    "x, y = line.xy\n",
    "ax.plot(x, y, color='black')\n",
    "\n",
    "# Добавляем точку на график\n",
    "x, y = point.xy\n",
    "ax.plot(x, y, 'o', color='red')\n",
    "\n",
    "# Показываем график\n",
    "plt.show()"
   ],
   "metadata": {
    "collapsed": false,
    "ExecuteTime": {
     "end_time": "2024-03-29T14:14:08.183528100Z",
     "start_time": "2024-03-29T14:14:07.612079400Z"
    }
   },
   "id": "c2a7a374915f7d41"
  },
  {
   "cell_type": "code",
   "execution_count": 29,
   "outputs": [
    {
     "name": "stderr",
     "output_type": "stream",
     "text": [
      "\u001B[32m2024-03-29 18:04:01.129\u001B[0m | \u001B[34m\u001B[1mDEBUG   \u001B[0m | \u001B[36msrc.dongraphio.utils.graphs\u001B[0m:\u001B[36mget_osmnx_graph\u001B[0m:\u001B[36m58\u001B[0m - \u001B[34m\u001B[1mExtracting and preparing drive_service graph from OSM ...\u001B[0m\n",
      "C:\\Users\\Donny\\AppData\\Local\\pypoetry\\Cache\\virtualenvs\\graph-lib-8TUFT-q0-py3.11\\Lib\\site-packages\\osmnx\\_overpass.py:211: UserWarning: This area is 51 times your configured Overpass max query area size. It will automatically be divided up into multiple sub-queries accordingly. This may take a long time.\n",
      "  multi_poly_proj = utils_geo._consolidate_subdivide_geometry(poly_proj)\n"
     ]
    },
    {
     "ename": "KeyboardInterrupt",
     "evalue": "",
     "output_type": "error",
     "traceback": [
      "\u001B[1;31m---------------------------------------------------------------------------\u001B[0m",
      "\u001B[1;31mKeyboardInterrupt\u001B[0m                         Traceback (most recent call last)",
      "Cell \u001B[1;32mIn[29], line 4\u001B[0m\n\u001B[0;32m      2\u001B[0m \u001B[38;5;28;01mfrom\u001B[39;00m \u001B[38;5;21;01mshapely\u001B[39;00m \u001B[38;5;28;01mimport\u001B[39;00m LineString\n\u001B[0;32m      3\u001B[0m \u001B[38;5;28;01mimport\u001B[39;00m \u001B[38;5;21;01mosmnx\u001B[39;00m \u001B[38;5;28;01mas\u001B[39;00m \u001B[38;5;21;01mox\u001B[39;00m\n\u001B[1;32m----> 4\u001B[0m drive_graph: nx\u001B[38;5;241m.\u001B[39mMultiDiGraph \u001B[38;5;241m=\u001B[39m \u001B[43mget_osmnx_graph\u001B[49m\u001B[43m(\u001B[49m\n\u001B[0;32m      5\u001B[0m \u001B[43m    \u001B[49m\u001B[38;5;241;43m176095\u001B[39;49m\u001B[43m,\u001B[49m\u001B[43m \u001B[49m\u001B[38;5;241;43m32636\u001B[39;49m\u001B[43m,\u001B[49m\u001B[43m \u001B[49m\u001B[38;5;124;43m\"\u001B[39;49m\u001B[38;5;124;43mdrive_service\u001B[39;49m\u001B[38;5;124;43m\"\u001B[39;49m\u001B[43m,\u001B[49m\u001B[43m \u001B[49m\u001B[43mtruncate_by_edge\u001B[49m\u001B[38;5;241;43m=\u001B[39;49m\u001B[38;5;28;43;01mFalse\u001B[39;49;00m\n\u001B[0;32m      6\u001B[0m \u001B[43m)\u001B[49m\n\u001B[0;32m      7\u001B[0m nx\u001B[38;5;241m.\u001B[39mwrite_graphml(drive_graph, \u001B[38;5;124m\"\u001B[39m\u001B[38;5;124mgraph_LO.graphml\u001B[39m\u001B[38;5;124m\"\u001B[39m)\n\u001B[0;32m      8\u001B[0m \u001B[38;5;66;03m# for i in drive_graph.edges(data=True):\u001B[39;00m\n\u001B[0;32m      9\u001B[0m \u001B[38;5;66;03m#     i[2]['geometry'] = from_wkt(i[2]['geometry'])\u001B[39;00m\n\u001B[0;32m     10\u001B[0m \u001B[38;5;66;03m# \u001B[39;00m\n\u001B[0;32m     11\u001B[0m \u001B[38;5;66;03m# gdf_graph_edges = ox.graph_to_gdfs(drive_graph, nodes=False)\u001B[39;00m\n\u001B[0;32m     12\u001B[0m \u001B[38;5;66;03m# gdf_graph_edges.to_file('graph_LO.geojson')\u001B[39;00m\n",
      "File \u001B[1;32mD:\\ItmoWork\\dongraphio\\src\\dongraphio\\utils\\graphs.py:59\u001B[0m, in \u001B[0;36mget_osmnx_graph\u001B[1;34m(city_osm_id, city_crs, graph_type, speed, truncate_by_edge)\u001B[0m\n\u001B[0;32m     56\u001B[0m boundary \u001B[38;5;241m=\u001B[39m gpd\u001B[38;5;241m.\u001B[39mGeoDataFrame\u001B[38;5;241m.\u001B[39mfrom_features(boundary[\u001B[38;5;124m\"\u001B[39m\u001B[38;5;124mfeatures\u001B[39m\u001B[38;5;124m\"\u001B[39m])\u001B[38;5;241m.\u001B[39mset_crs(\u001B[38;5;241m4326\u001B[39m)\n\u001B[0;32m     58\u001B[0m logger\u001B[38;5;241m.\u001B[39mdebug(\u001B[38;5;124m\"\u001B[39m\u001B[38;5;124mExtracting and preparing \u001B[39m\u001B[38;5;132;01m{}\u001B[39;00m\u001B[38;5;124m graph from OSM ...\u001B[39m\u001B[38;5;124m\"\u001B[39m, graph_type)\n\u001B[1;32m---> 59\u001B[0m G_ox \u001B[38;5;241m=\u001B[39m \u001B[43mox_graph\u001B[49m\u001B[38;5;241;43m.\u001B[39;49m\u001B[43mgraph_from_polygon\u001B[49m\u001B[43m(\u001B[49m\n\u001B[0;32m     60\u001B[0m \u001B[43m    \u001B[49m\u001B[43mpolygon\u001B[49m\u001B[38;5;241;43m=\u001B[39;49m\u001B[43mboundary\u001B[49m\u001B[43m[\u001B[49m\u001B[38;5;124;43m\"\u001B[39;49m\u001B[38;5;124;43mgeometry\u001B[39;49m\u001B[38;5;124;43m\"\u001B[39;49m\u001B[43m]\u001B[49m\u001B[43m[\u001B[49m\u001B[38;5;241;43m0\u001B[39;49m\u001B[43m]\u001B[49m\u001B[43m,\u001B[49m\u001B[43m \u001B[49m\u001B[43mnetwork_type\u001B[49m\u001B[38;5;241;43m=\u001B[39;49m\u001B[43mgraph_type\u001B[49m\u001B[43m,\u001B[49m\u001B[43m \u001B[49m\u001B[43mtruncate_by_edge\u001B[49m\u001B[38;5;241;43m=\u001B[39;49m\u001B[43mtruncate_by_edge\u001B[49m\n\u001B[0;32m     61\u001B[0m \u001B[43m\u001B[49m\u001B[43m)\u001B[49m\n\u001B[0;32m     62\u001B[0m G_ox\u001B[38;5;241m.\u001B[39mgraph[\u001B[38;5;124m\"\u001B[39m\u001B[38;5;124mapproach\u001B[39m\u001B[38;5;124m\"\u001B[39m] \u001B[38;5;241m=\u001B[39m \u001B[38;5;124m\"\u001B[39m\u001B[38;5;124mprimal\u001B[39m\u001B[38;5;124m\"\u001B[39m\n\u001B[0;32m     64\u001B[0m nodes: gpd\u001B[38;5;241m.\u001B[39mGeoDataFrame\n",
      "File \u001B[1;32m~\\AppData\\Local\\pypoetry\\Cache\\virtualenvs\\graph-lib-8TUFT-q0-py3.11\\Lib\\site-packages\\osmnx\\graph.py:505\u001B[0m, in \u001B[0;36mgraph_from_polygon\u001B[1;34m(polygon, network_type, simplify, retain_all, truncate_by_edge, clean_periphery, custom_filter)\u001B[0m\n\u001B[0;32m    503\u001B[0m \u001B[38;5;66;03m# simplify the graph topology\u001B[39;00m\n\u001B[0;32m    504\u001B[0m \u001B[38;5;28;01mif\u001B[39;00m simplify:\n\u001B[1;32m--> 505\u001B[0m     G_buff \u001B[38;5;241m=\u001B[39m \u001B[43msimplification\u001B[49m\u001B[38;5;241;43m.\u001B[39;49m\u001B[43msimplify_graph\u001B[49m\u001B[43m(\u001B[49m\u001B[43mG_buff\u001B[49m\u001B[43m)\u001B[49m\n\u001B[0;32m    507\u001B[0m \u001B[38;5;66;03m# truncate graph by original polygon to return graph within polygon\u001B[39;00m\n\u001B[0;32m    508\u001B[0m \u001B[38;5;66;03m# caller wants. don't simplify again: this allows us to retain\u001B[39;00m\n\u001B[0;32m    509\u001B[0m \u001B[38;5;66;03m# intersections along the street that may now only connect 2 street\u001B[39;00m\n\u001B[0;32m    510\u001B[0m \u001B[38;5;66;03m# segments in the network, but in reality also connect to an\u001B[39;00m\n\u001B[0;32m    511\u001B[0m \u001B[38;5;66;03m# intersection just outside the polygon\u001B[39;00m\n\u001B[0;32m    512\u001B[0m G \u001B[38;5;241m=\u001B[39m truncate\u001B[38;5;241m.\u001B[39mtruncate_graph_polygon(G_buff, polygon, retain_all, truncate_by_edge)\n",
      "File \u001B[1;32m~\\AppData\\Local\\pypoetry\\Cache\\virtualenvs\\graph-lib-8TUFT-q0-py3.11\\Lib\\site-packages\\osmnx\\simplification.py:353\u001B[0m, in \u001B[0;36msimplify_graph\u001B[1;34m(G, strict, endpoint_attrs, remove_rings, track_merged)\u001B[0m\n\u001B[0;32m    349\u001B[0m         path_attributes[attr] \u001B[38;5;241m=\u001B[39m \u001B[38;5;28mlist\u001B[39m(\u001B[38;5;28mset\u001B[39m(path_attributes[attr]))\n\u001B[0;32m    351\u001B[0m \u001B[38;5;66;03m# construct the new consolidated edge's geometry for this path\u001B[39;00m\n\u001B[0;32m    352\u001B[0m path_attributes[\u001B[38;5;124m\"\u001B[39m\u001B[38;5;124mgeometry\u001B[39m\u001B[38;5;124m\"\u001B[39m] \u001B[38;5;241m=\u001B[39m LineString(\n\u001B[1;32m--> 353\u001B[0m     \u001B[43m[\u001B[49m\u001B[43mPoint\u001B[49m\u001B[43m(\u001B[49m\u001B[43m(\u001B[49m\u001B[43mG\u001B[49m\u001B[38;5;241;43m.\u001B[39;49m\u001B[43mnodes\u001B[49m\u001B[43m[\u001B[49m\u001B[43mnode\u001B[49m\u001B[43m]\u001B[49m\u001B[43m[\u001B[49m\u001B[38;5;124;43m\"\u001B[39;49m\u001B[38;5;124;43mx\u001B[39;49m\u001B[38;5;124;43m\"\u001B[39;49m\u001B[43m]\u001B[49m\u001B[43m,\u001B[49m\u001B[43m \u001B[49m\u001B[43mG\u001B[49m\u001B[38;5;241;43m.\u001B[39;49m\u001B[43mnodes\u001B[49m\u001B[43m[\u001B[49m\u001B[43mnode\u001B[49m\u001B[43m]\u001B[49m\u001B[43m[\u001B[49m\u001B[38;5;124;43m\"\u001B[39;49m\u001B[38;5;124;43my\u001B[39;49m\u001B[38;5;124;43m\"\u001B[39;49m\u001B[43m]\u001B[49m\u001B[43m)\u001B[49m\u001B[43m)\u001B[49m\u001B[43m \u001B[49m\u001B[38;5;28;43;01mfor\u001B[39;49;00m\u001B[43m \u001B[49m\u001B[43mnode\u001B[49m\u001B[43m \u001B[49m\u001B[38;5;129;43;01min\u001B[39;49;00m\u001B[43m \u001B[49m\u001B[43mpath\u001B[49m\u001B[43m]\u001B[49m\n\u001B[0;32m    354\u001B[0m )\n\u001B[0;32m    356\u001B[0m \u001B[38;5;28;01mif\u001B[39;00m track_merged:\n\u001B[0;32m    357\u001B[0m     \u001B[38;5;66;03m# add the merged edges as a new attribute of the simplified edge\u001B[39;00m\n\u001B[0;32m    358\u001B[0m     path_attributes[\u001B[38;5;124m\"\u001B[39m\u001B[38;5;124mmerged_edges\u001B[39m\u001B[38;5;124m\"\u001B[39m] \u001B[38;5;241m=\u001B[39m merged_edges\n",
      "File \u001B[1;32m~\\AppData\\Local\\pypoetry\\Cache\\virtualenvs\\graph-lib-8TUFT-q0-py3.11\\Lib\\site-packages\\osmnx\\simplification.py:353\u001B[0m, in \u001B[0;36m<listcomp>\u001B[1;34m(.0)\u001B[0m\n\u001B[0;32m    349\u001B[0m         path_attributes[attr] \u001B[38;5;241m=\u001B[39m \u001B[38;5;28mlist\u001B[39m(\u001B[38;5;28mset\u001B[39m(path_attributes[attr]))\n\u001B[0;32m    351\u001B[0m \u001B[38;5;66;03m# construct the new consolidated edge's geometry for this path\u001B[39;00m\n\u001B[0;32m    352\u001B[0m path_attributes[\u001B[38;5;124m\"\u001B[39m\u001B[38;5;124mgeometry\u001B[39m\u001B[38;5;124m\"\u001B[39m] \u001B[38;5;241m=\u001B[39m LineString(\n\u001B[1;32m--> 353\u001B[0m     [\u001B[43mPoint\u001B[49m\u001B[43m(\u001B[49m\u001B[43m(\u001B[49m\u001B[43mG\u001B[49m\u001B[38;5;241;43m.\u001B[39;49m\u001B[43mnodes\u001B[49m\u001B[43m[\u001B[49m\u001B[43mnode\u001B[49m\u001B[43m]\u001B[49m\u001B[43m[\u001B[49m\u001B[38;5;124;43m\"\u001B[39;49m\u001B[38;5;124;43mx\u001B[39;49m\u001B[38;5;124;43m\"\u001B[39;49m\u001B[43m]\u001B[49m\u001B[43m,\u001B[49m\u001B[43m \u001B[49m\u001B[43mG\u001B[49m\u001B[38;5;241;43m.\u001B[39;49m\u001B[43mnodes\u001B[49m\u001B[43m[\u001B[49m\u001B[43mnode\u001B[49m\u001B[43m]\u001B[49m\u001B[43m[\u001B[49m\u001B[38;5;124;43m\"\u001B[39;49m\u001B[38;5;124;43my\u001B[39;49m\u001B[38;5;124;43m\"\u001B[39;49m\u001B[43m]\u001B[49m\u001B[43m)\u001B[49m\u001B[43m)\u001B[49m \u001B[38;5;28;01mfor\u001B[39;00m node \u001B[38;5;129;01min\u001B[39;00m path]\n\u001B[0;32m    354\u001B[0m )\n\u001B[0;32m    356\u001B[0m \u001B[38;5;28;01mif\u001B[39;00m track_merged:\n\u001B[0;32m    357\u001B[0m     \u001B[38;5;66;03m# add the merged edges as a new attribute of the simplified edge\u001B[39;00m\n\u001B[0;32m    358\u001B[0m     path_attributes[\u001B[38;5;124m\"\u001B[39m\u001B[38;5;124mmerged_edges\u001B[39m\u001B[38;5;124m\"\u001B[39m] \u001B[38;5;241m=\u001B[39m merged_edges\n",
      "File \u001B[1;32m~\\AppData\\Local\\pypoetry\\Cache\\virtualenvs\\graph-lib-8TUFT-q0-py3.11\\Lib\\site-packages\\shapely\\geometry\\point.py:78\u001B[0m, in \u001B[0;36mPoint.__new__\u001B[1;34m(self, *args)\u001B[0m\n\u001B[0;32m     76\u001B[0m \u001B[38;5;28;01mif\u001B[39;00m \u001B[38;5;129;01mnot\u001B[39;00m np\u001B[38;5;241m.\u001B[39missubdtype(coords\u001B[38;5;241m.\u001B[39mdtype, np\u001B[38;5;241m.\u001B[39mnumber):\n\u001B[0;32m     77\u001B[0m     coords \u001B[38;5;241m=\u001B[39m [\u001B[38;5;28mfloat\u001B[39m(c) \u001B[38;5;28;01mfor\u001B[39;00m c \u001B[38;5;129;01min\u001B[39;00m coords]\n\u001B[1;32m---> 78\u001B[0m geom \u001B[38;5;241m=\u001B[39m \u001B[43mshapely\u001B[49m\u001B[38;5;241;43m.\u001B[39;49m\u001B[43mpoints\u001B[49m\u001B[43m(\u001B[49m\u001B[43mcoords\u001B[49m\u001B[43m)\u001B[49m\n\u001B[0;32m     79\u001B[0m \u001B[38;5;28;01mif\u001B[39;00m \u001B[38;5;129;01mnot\u001B[39;00m \u001B[38;5;28misinstance\u001B[39m(geom, Point):\n\u001B[0;32m     80\u001B[0m     \u001B[38;5;28;01mraise\u001B[39;00m \u001B[38;5;167;01mValueError\u001B[39;00m(\u001B[38;5;124m\"\u001B[39m\u001B[38;5;124mInvalid values passed to Point constructor\u001B[39m\u001B[38;5;124m\"\u001B[39m)\n",
      "File \u001B[1;32m~\\AppData\\Local\\pypoetry\\Cache\\virtualenvs\\graph-lib-8TUFT-q0-py3.11\\Lib\\site-packages\\shapely\\decorators.py:77\u001B[0m, in \u001B[0;36mmultithreading_enabled.<locals>.wrapped\u001B[1;34m(*args, **kwargs)\u001B[0m\n\u001B[0;32m     75\u001B[0m     \u001B[38;5;28;01mfor\u001B[39;00m arr \u001B[38;5;129;01min\u001B[39;00m array_args:\n\u001B[0;32m     76\u001B[0m         arr\u001B[38;5;241m.\u001B[39mflags\u001B[38;5;241m.\u001B[39mwriteable \u001B[38;5;241m=\u001B[39m \u001B[38;5;28;01mFalse\u001B[39;00m\n\u001B[1;32m---> 77\u001B[0m     \u001B[38;5;28;01mreturn\u001B[39;00m \u001B[43mfunc\u001B[49m\u001B[43m(\u001B[49m\u001B[38;5;241;43m*\u001B[39;49m\u001B[43margs\u001B[49m\u001B[43m,\u001B[49m\u001B[43m \u001B[49m\u001B[38;5;241;43m*\u001B[39;49m\u001B[38;5;241;43m*\u001B[39;49m\u001B[43mkwargs\u001B[49m\u001B[43m)\u001B[49m\n\u001B[0;32m     78\u001B[0m \u001B[38;5;28;01mfinally\u001B[39;00m:\n\u001B[0;32m     79\u001B[0m     \u001B[38;5;28;01mfor\u001B[39;00m arr, old_flag \u001B[38;5;129;01min\u001B[39;00m \u001B[38;5;28mzip\u001B[39m(array_args, old_flags):\n",
      "File \u001B[1;32m~\\AppData\\Local\\pypoetry\\Cache\\virtualenvs\\graph-lib-8TUFT-q0-py3.11\\Lib\\site-packages\\shapely\\creation.py:74\u001B[0m, in \u001B[0;36mpoints\u001B[1;34m(coords, y, z, indices, out, **kwargs)\u001B[0m\n\u001B[0;32m     72\u001B[0m coords \u001B[38;5;241m=\u001B[39m _xyz_to_coords(coords, y, z)\n\u001B[0;32m     73\u001B[0m \u001B[38;5;28;01mif\u001B[39;00m indices \u001B[38;5;129;01mis\u001B[39;00m \u001B[38;5;28;01mNone\u001B[39;00m:\n\u001B[1;32m---> 74\u001B[0m     \u001B[38;5;28;01mreturn\u001B[39;00m \u001B[43mlib\u001B[49m\u001B[38;5;241;43m.\u001B[39;49m\u001B[43mpoints\u001B[49m\u001B[43m(\u001B[49m\u001B[43mcoords\u001B[49m\u001B[43m,\u001B[49m\u001B[43m \u001B[49m\u001B[43mout\u001B[49m\u001B[38;5;241;43m=\u001B[39;49m\u001B[43mout\u001B[49m\u001B[43m,\u001B[49m\u001B[43m \u001B[49m\u001B[38;5;241;43m*\u001B[39;49m\u001B[38;5;241;43m*\u001B[39;49m\u001B[43mkwargs\u001B[49m\u001B[43m)\u001B[49m\n\u001B[0;32m     75\u001B[0m \u001B[38;5;28;01melse\u001B[39;00m:\n\u001B[0;32m     76\u001B[0m     \u001B[38;5;28;01mreturn\u001B[39;00m simple_geometries_1d(coords, indices, GeometryType\u001B[38;5;241m.\u001B[39mPOINT, out\u001B[38;5;241m=\u001B[39mout)\n",
      "\u001B[1;31mKeyboardInterrupt\u001B[0m: "
     ]
    }
   ],
   "source": [
    "from src.dongraphio.utils import get_osmnx_graph\n",
    "from shapely import LineString\n",
    "import osmnx as ox\n",
    "drive_graph: nx.MultiDiGraph = get_osmnx_graph(\n",
    "    176095, 32636, \"drive_service\", truncate_by_edge=False\n",
    ")\n",
    "nx.write_graphml(drive_graph, \"graph_LO.graphml\")\n",
    "# for i in drive_graph.edges(data=True):\n",
    "#     i[2]['geometry'] = from_wkt(i[2]['geometry'])\n",
    "# \n",
    "# gdf_graph_edges = ox.graph_to_gdfs(drive_graph, nodes=False)\n",
    "# gdf_graph_edges.to_file('graph_LO.geojson')"
   ],
   "metadata": {
    "collapsed": false,
    "ExecuteTime": {
     "end_time": "2024-03-29T15:11:00.744459300Z",
     "start_time": "2024-03-29T15:04:00.357861400Z"
    }
   },
   "id": "de1902dd25fee85c"
  },
  {
   "cell_type": "code",
   "execution_count": 20,
   "outputs": [],
   "source": [],
   "metadata": {
    "collapsed": false,
    "ExecuteTime": {
     "end_time": "2024-03-29T14:41:53.192854900Z",
     "start_time": "2024-03-29T14:40:58.438411500Z"
    }
   },
   "id": "f6f11424a1f1e78b"
  },
  {
   "cell_type": "code",
   "execution_count": null,
   "outputs": [],
   "source": [],
   "metadata": {
    "collapsed": false
   },
   "id": "2b9bb9d367cd908a"
  }
 ],
 "metadata": {
  "kernelspec": {
   "display_name": "Python 3",
   "language": "python",
   "name": "python3"
  },
  "language_info": {
   "codemirror_mode": {
    "name": "ipython",
    "version": 2
   },
   "file_extension": ".py",
   "mimetype": "text/x-python",
   "name": "python",
   "nbconvert_exporter": "python",
   "pygments_lexer": "ipython2",
   "version": "2.7.6"
  }
 },
 "nbformat": 4,
 "nbformat_minor": 5
}
