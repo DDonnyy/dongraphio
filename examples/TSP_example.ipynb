{
 "cells": [
  {
   "cell_type": "markdown",
   "source": [
    "Разделяем слой с остановками на уникальные маршруты, поскольку есть маршруты в разных областях ЛО c одинаковыми названиями, необходимо применить кластеризацию по расположению с искуственным шумом. Если все маршруты уникальные это не требуется"
   ],
   "metadata": {
    "collapsed": false
   },
   "id": "eeacc96f19adb581"
  },
  {
   "cell_type": "code",
   "execution_count": null,
   "id": "initial_id",
   "metadata": {
    "collapsed": true
   },
   "outputs": [],
   "source": [
    "from shapely import Point\n",
    "import pandas as pd\n",
    "from tqdm.auto import tqdm\n",
    "import geopandas as gpd\n",
    "from dongraphio.utils.geometry_utils import clusterize_kmeans_geo_points\n",
    "\n",
    "tqdm.pandas()\n",
    "\n",
    "stops_gdf = gpd.read_file(\"stopsLO.geojson\")\n",
    "stops_gdf.rename(columns={\"Автоб\": \"route\"}, inplace=True)\n",
    "stops_gdf.dropna(subset=\"route\", axis=0, inplace=True, how=\"any\")\n",
    "unique_routes = set()\n",
    "for index, row in (stops_gdf.iterrows()):\n",
    "    for i in str(row[\"route\"]).replace('.', ',').rstrip().lstrip().split(\",\"):\n",
    "        if i != \"\":\n",
    "            unique_routes.add(i.lstrip().rstrip())\n",
    "unique_routes = pd.DataFrame(index=list(unique_routes))\n",
    "unique_routes[\"geometry\"] = [[]] * len(unique_routes)\n",
    "for index, row in (stops_gdf.iterrows()):\n",
    "    for i in str(row[\"route\"]).replace('.', ',').rstrip().lstrip().split(\",\"):\n",
    "        if i != \"\":\n",
    "            unique_routes.loc[i.lstrip().rstrip(), \"geometry\"] = unique_routes.loc[i.lstrip().rstrip()][\"geometry\"] + [\n",
    "                row[\"geometry\"]]\n",
    "\n",
    "devided_routes = pd.DataFrame()\n",
    "noise_points = [[31.21239, 58.61124], [31.22239, 58.62161], [31.23239, 58.61171], [31.24239, 58.62129],\n",
    "                [31.23239, 58.64131],\n",
    "                [32.92133, 59.02899], [32.94933, 59.06599], [32.93943, 59.03599], [32.92733, 59.08999],\n",
    "                [32.92333, 59.00599],\n",
    "                [35.58878, 59.48945], [35.58933, 59.48359], [35.58643, 59.489759], [35.58879, 59.48688],\n",
    "                [35.58869, 59.485749]]\n",
    "noise_points = [Point(x) for x in noise_points]\n",
    "for index, row in tqdm(unique_routes.iterrows(), total=unique_routes.shape[0]):\n",
    "    clusterized = clusterize_kmeans_geo_points(row, noise_points)\n",
    "    if clusterized.shape[0] > 1:\n",
    "        clusterized.index = index + \".\" + clusterized.index.astype(str)\n",
    "        devided_routes = pd.concat([devided_routes, clusterized])\n",
    "    else:\n",
    "        clusterized.index = [index]\n",
    "        devided_routes = pd.concat([devided_routes, clusterized])"
   ]
  },
  {
   "cell_type": "code",
   "execution_count": null,
   "outputs": [],
   "source": [
    "road_types = {\n",
    "\"['unclassified', 'tertiary']\":1.05,\n",
    "\"['trunk', 'trunk_link']\":1,\n",
    "\"service\":1.35,\n",
    "\"['living_street', 'residential']\":1.15,\n",
    "\"['unclassified', 'residential']\":1.15,\n",
    "\"['primary_link', 'motorway_link']\":1,\n",
    "\"['secondary_link', 'unclassified']\":1,\n",
    "\"unclassified\":1,\n",
    "\"['tertiary', 'residential']\":1.05,\n",
    "\"['service', 'unclassified']\":1.3,\n",
    "\"['secondary_link', 'secondary']\":1,\n",
    "\"motorway_link\":1,\n",
    "\"['service', 'residential']\":1.3,\n",
    "\"['service', 'road']\":1.25,\n",
    "\"['secondary', 'residential']\":1.05,\n",
    "\"rest_area\":1.35,\n",
    "\"living_street\":1.3,\n",
    "\"motorway\":1,\n",
    "\"['service', 'living_street', 'residential']\":1.35,\n",
    "\"['service', 'tertiary']\":1.3,\n",
    "\"secondary\":1,\n",
    "\"trunk\":1,\n",
    "\"['service', 'living_street']\":1.3,\n",
    "\"tertiary\":1,\n",
    "\"['primary', 'primary_link']\":1,\n",
    "\"secondary_link\":1,\n",
    "\"['service', 'unclassified', 'residential']\":1.25,\n",
    "\"trunk_link\":1,\n",
    "\"tertiary_link\":1,\n",
    "\"['motorway', 'motorway_link']\":1,\n",
    "\"['living_street', 'unclassified']\":1.15,\n",
    "\"primary_link\":1,\n",
    "\"road\":1.1,\n",
    "\"primary\":1,\n",
    "\"['residential', 'tertiary']\":1,\n",
    "\"['residential', 'secondary']\":1,\n",
    "\"residential\":1.2\n",
    "}\n"
   ],
   "metadata": {
    "collapsed": false
   },
   "id": "18183319bb7b8de1"
  },
  {
   "cell_type": "code",
   "execution_count": null,
   "outputs": [],
   "source": [
    "import momepy\n",
    "from shapely import LineString, Polygon\n",
    "import networkx as nx\n",
    "import osmnx as ox\n",
    "from tqdm.auto import tqdm\n",
    "import geopandas as gpd\n",
    "\n",
    "\n",
    "\n",
    "tqdm.pandas()\n",
    "def get_osmnx_graph(graph_type: str, boundary:Polygon ,truncate_by_edge:bool,city_crs:int) -> nx.MultiDiGraph:\n",
    "        G_ox = ox.graph_from_polygon(\n",
    "            polygon=boundary, network_type=graph_type, truncate_by_edge=truncate_by_edge\n",
    "        )\n",
    "        nodes: gpd.GeoDataFrame\n",
    "        edges: gpd.GeoDataFrame\n",
    "        nodes, edges = momepy.nx_to_gdf(G_ox, points=True, lines=True, spatial_weights=False)\n",
    "        nodes = nodes.to_crs(city_crs).set_index(\"nodeID\")\n",
    "        nodes_coord = nodes.geometry.apply(\n",
    "            lambda p: {\"x\": round(p.coords[0][0], 2), \"y\": round(p.coords[0][1], 2)}\n",
    "        ).to_dict()\n",
    "\n",
    "        edges = edges[[\"length\", \"node_start\", \"node_end\", \"geometry\",\"highway\"]].to_crs(city_crs)\n",
    "        edges[\"type\"] = graph_type\n",
    "        edges[\"geometry\"] = edges[\"geometry\"].apply(\n",
    "            lambda x: LineString([tuple(round(c, 2) for c in n) for n in x.coords] if x else None)\n",
    "        )\n",
    "        travel_type = \"car\"\n",
    "        speed = 4 * 1000 / 60 if graph_type == \"walk\" else 17 * 1000 / 60\n",
    "        G = nx.MultiDiGraph()\n",
    "        for _, edge in tqdm(edges.iterrows(), total=len(edges), desc=f\"Collecting {graph_type} graph\", leave=False):\n",
    "            p1 = int(edge.node_start)\n",
    "            p2 = int(edge.node_end)\n",
    "            type = str(edge.highway)\n",
    "            geom = (\n",
    "                LineString(\n",
    "                    (\n",
    "                        [\n",
    "                            (nodes_coord[p1][\"x\"], nodes_coord[p1][\"y\"]),\n",
    "                            (nodes_coord[p2][\"x\"], nodes_coord[p2][\"y\"]),\n",
    "                        ]\n",
    "                    )\n",
    "                )\n",
    "                if not edge.geometry\n",
    "                else edge.geometry\n",
    "            )\n",
    "            koef = road_types.get(str(type)) \n",
    "            if koef is None:\n",
    "                koef=1\n",
    "            G.add_edge(\n",
    "                p1,\n",
    "                p2,\n",
    "                length_meter=edge.length*koef,\n",
    "                #length_meter=edge.length,\n",
    "                geometry=str(geom),\n",
    "            )\n",
    "\n",
    "        nx.set_node_attributes(G, nodes_coord)\n",
    "        G.graph[\"crs\"] = \"epsg:\" + str(city_crs)\n",
    "        return G\n",
    "polygon = gpd.read_file('bounds.geojson')['geometry'].item()\n",
    "drive_graph = get_osmnx_graph('drive_service',polygon,truncate_by_edge=True,city_crs=32636)\n",
    "\n"
   ],
   "metadata": {
    "collapsed": false
   },
   "id": "60db39fcec4a5593"
  },
  {
   "cell_type": "code",
   "execution_count": null,
   "outputs": [],
   "source": [
    "\n",
    "from shapely import from_wkt\n",
    "import networkx as nx\n",
    "from src.dongraphio.utils.graph_utils import buffer_directed_roads, nx_to_gdf\n",
    "\n",
    "for i in drive_graph.edges(data=True):\n",
    "    i[2]['geometry'] = from_wkt(str(i[2]['geometry']))\n",
    "drive_graph_gdf = nx_to_gdf(drive_graph, nodes=False, edges=True)\n",
    "drive_graph_gdf_buffer = buffer_directed_roads(drive_graph_gdf, 3)\n",
    "\n"
   ],
   "metadata": {
    "collapsed": false
   },
   "id": "ab73f28e504a9960"
  },
  {
   "cell_type": "code",
   "execution_count": null,
   "outputs": [],
   "source": [
    "devided_routes = gpd.read_file('devided_routes.geojson')\n",
    "devided_routes['geometry'] = devided_routes['geometry'].apply(lambda x:list(x.geoms))\n",
    "devided_routes.set_index('index',inplace=True)\n",
    "devided_routes"
   ],
   "metadata": {
    "collapsed": false
   },
   "id": "6c90d3c7353bbd51"
  },
  {
   "cell_type": "code",
   "execution_count": null,
   "outputs": [],
   "source": [
    "%reload_ext autoreload\n",
    "%autoreload 2\n",
    "from src.dongraphio import project_points_on_graph, add_projected_points_as_nodes,resolve_tsp, subgraph_by_path\n",
    "from src.dongraphio.utils import get_dist_matrix_for_tsp,convert_multidigraph_to_digraph\n",
    "import networkx as nx\n",
    "\n",
    "city_crs = 32636\n",
    "bus_routes = nx.DiGraph()\n",
    "error_routes = []\n",
    "for index, row in tqdm(devided_routes.iterrows(), total=devided_routes.shape[0]):\n",
    "    try:\n",
    "        geometry_list = row[\"geometry\"]\n",
    "        row_gdf = gpd.GeoDataFrame(data={\"label\": [index for _ in geometry_list], \"geometry\": geometry_list})\n",
    "        row_gdf = row_gdf.set_crs(city_crs,allow_override=True)\n",
    "\n",
    "        projected_points = project_points_on_graph(drive_graph_gdf, drive_graph_gdf_buffer, row_gdf)\n",
    "\n",
    "        route_nodes, graph_with_new_points = add_projected_points_as_nodes(projected_points, drive_graph)\n",
    "        graph_with_new_points = convert_multidigraph_to_digraph(graph_with_new_points)\n",
    "        distance_matrix, path_matrix = get_dist_matrix_for_tsp(graph_with_new_points, route_nodes)\n",
    "        path = resolve_tsp(distance_matrix,5)\n",
    "        route_nx = subgraph_by_path(path, path_matrix, graph_with_new_points)\n",
    "        bus_routes = nx.compose(bus_routes, route_nx)\n",
    "\n",
    "        del graph_with_new_points, projected_points, route_nodes, distance_matrix, path_matrix, path, route_nx\n",
    "    except Exception as e:\n",
    "        error_routes.append((index, row,e))\n",
    "        pass\n",
    "\n",
    "\n"
   ],
   "metadata": {
    "collapsed": false
   },
   "id": "d942d597ebc01a25"
  },
  {
   "cell_type": "code",
   "execution_count": null,
   "outputs": [],
   "source": [
    "print(\"gg\")"
   ],
   "metadata": {
    "collapsed": false
   },
   "id": "f97c38971d0462b3"
  },
  {
   "cell_type": "code",
   "execution_count": null,
   "outputs": [],
   "source": [
    "from shapely import MultiPoint\n",
    "\n",
    "data = [{'route':obj[0],'geometry':MultiPoint(obj[1]['geometry']),'error':str(obj[2])} for obj in error_routes]\n",
    "errors = gpd.GeoDataFrame(data=data,geometry='geometry',crs=4326)\n",
    "errors.to_file('Error_routes_2.geojson')\n"
   ],
   "metadata": {
    "collapsed": false
   },
   "id": "59b09f2fda224789"
  },
  {
   "cell_type": "code",
   "execution_count": null,
   "outputs": [],
   "source": [
    "for i in bus_routes.edges(data=True):\n",
    "    i[2]['geometry'] = (str(i[2]['geometry']))\n",
    "# nx.write_graphml(bus_routes, 'bus_LO_all.graphml')\n",
    "nx.write_gml(bus_routes,'bus_LO_all.gml')"
   ],
   "metadata": {
    "collapsed": false
   },
   "id": "357c8a41e9ca4d7a"
  },
  {
   "cell_type": "code",
   "execution_count": null,
   "outputs": [],
   "source": [
    "bus_routes.graph['crs']=32636\n",
    "for i in bus_routes.edges(data=True):\n",
    "    i[2]['geometry'] = from_wkt(str(i[2]['geometry']))\n",
    "graph_bus_gdf = nx_to_gdf(nx.MultiDiGraph(bus_routes),edges=True)\n",
    "graph_bus_gdf.to_file('bus_LO_all.geojson')"
   ],
   "metadata": {
    "collapsed": false
   },
   "id": "2712ae022715bf98"
  },
  {
   "cell_type": "code",
   "execution_count": null,
   "outputs": [],
   "source": [
    "import geopandas as gpd\n",
    "import pandas as pd\n",
    "projected_points = gpd.read_file('nodes_.geojson')\n",
    "projected_points"
   ],
   "metadata": {
    "collapsed": false
   },
   "id": "f321552ed5b9f24b"
  },
  {
   "cell_type": "code",
   "execution_count": null,
   "outputs": [],
   "source": [
    "grouped = projected_points.groupby('index')['geometry'].apply(list)\n",
    "grouped = pd.DataFrame(grouped)\n",
    "grouped"
   ],
   "metadata": {
    "collapsed": false
   },
   "id": "3d3c63e01b4c26d2"
  },
  {
   "cell_type": "code",
   "execution_count": null,
   "outputs": [],
   "source": [
    "import numpy as np\n",
    "real_stops = gpd.read_file('stops_initial.geojson')\n",
    "real_stops.rename(columns={\"Автоб\": \"route\"}, inplace=True)\n",
    "real_stops.replace('',np.nan,inplace=True)\n",
    "real_stops.dropna(subset=\"route\", axis=0, inplace=True, how=\"any\")\n",
    "\n",
    "real_stops"
   ],
   "metadata": {
    "collapsed": false
   },
   "id": "bd6ef9ddf30212b1"
  },
  {
   "cell_type": "code",
   "execution_count": null,
   "outputs": [],
   "source": [
    "real_stops.to_crs(32636,inplace=True)\n",
    "\n",
    "\n",
    "join = gpd.sjoin_nearest(real_stops,projected_points,how='inner',distance_col='dist')\n",
    "rows_to_del = []\n",
    "for ind,row in join.iterrows():\n",
    "    routes = str(row[\"route\"]).replace('.', ',').replace(' ','').replace('5__','5').rstrip().lstrip().upper()\n",
    "    routes = routes\n",
    "    routes = routes.split(\",\")\n",
    "    if str(row['index']).upper().replace(' ','').split('.')[0] not in routes:\n",
    "        rows_to_del.append(ind)\n",
    "join.drop(rows_to_del,inplace=True)\n",
    "join = pd.DataFrame(data=join.groupby('index')['geometry'].apply(list))\n",
    "join"
   ],
   "metadata": {
    "collapsed": false
   },
   "id": "4a224e4f9073a413"
  },
  {
   "cell_type": "code",
   "execution_count": null,
   "outputs": [],
   "source": [
    "from shapely import MultiPoint\n",
    "devided_routes = join.copy()\n",
    "devided_routes['geometry'] = devided_routes['geometry'].apply(lambda x:MultiPoint(x))\n",
    "devided_routes = gpd.GeoDataFrame(data=devided_routes,crs=32636)\n",
    "devided_routes.to_file('devided_routes.geojson')"
   ],
   "metadata": {
    "collapsed": false
   },
   "id": "d2ed0a929f326f73"
  },
  {
   "cell_type": "code",
   "execution_count": null,
   "outputs": [],
   "source": [
    "devided_routes = join.copy()"
   ],
   "metadata": {
    "collapsed": false
   },
   "id": "f721d0e17cf2b1a8"
  },
  {
   "cell_type": "code",
   "execution_count": null,
   "outputs": [],
   "source": [
    "from src.dongraphio.base_models import OSMGrapher\n",
    "graph_osm = OSMGrapher(city_osm_id=1114252,city_crs=32636,keep_city_boundary=False).get_public_trasport_graph()"
   ],
   "metadata": {
    "collapsed": false
   },
   "id": "33b66422616c826a"
  },
  {
   "cell_type": "code",
   "execution_count": null,
   "outputs": [],
   "source": [
    "import networkx as nx\n",
    "import geopandas as gpd\n",
    "from src.dongraphio.utils.graph_utils import nx_to_gdf\n",
    "\n",
    "graph_osm_gdf = nx_to_gdf(graph_osm,edges=True)\n",
    "graph_osm_gdf.to_file('graph_LO_OSM_2.geojson')"
   ],
   "metadata": {
    "collapsed": false
   },
   "id": "6582f802c0837b89"
  },
  {
   "cell_type": "code",
   "execution_count": null,
   "outputs": [],
   "source": [
    "graph_osm.graph.clear()"
   ],
   "metadata": {
    "collapsed": false
   },
   "id": "d33adf50473e2032"
  },
  {
   "cell_type": "code",
   "execution_count": null,
   "outputs": [],
   "source": [
    "for _, _, data in graph_osm.edges(data=True):\n",
    "    data[\"geometry\"] = (str(data[\"geometry\"]))\n",
    "nx.write_gml(graph_osm,'graph_osm.gml')\n"
   ],
   "metadata": {
    "collapsed": false
   },
   "id": "7e08c68dc2785c20"
  },
  {
   "cell_type": "code",
   "execution_count": null,
   "outputs": [],
   "source": [],
   "metadata": {
    "collapsed": false
   },
   "id": "b3f743fb12c36a6a"
  }
 ],
 "metadata": {
  "kernelspec": {
   "display_name": "Python 3",
   "language": "python",
   "name": "python3"
  },
  "language_info": {
   "codemirror_mode": {
    "name": "ipython",
    "version": 2
   },
   "file_extension": ".py",
   "mimetype": "text/x-python",
   "name": "python",
   "nbconvert_exporter": "python",
   "pygments_lexer": "ipython2",
   "version": "2.7.6"
  }
 },
 "nbformat": 4,
 "nbformat_minor": 5
}
