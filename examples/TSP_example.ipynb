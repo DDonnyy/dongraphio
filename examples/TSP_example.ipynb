{
 "cells": [
  {
   "cell_type": "markdown",
   "source": [
    "Разделяем слой с остановками на уникальные маршруты, поскольку есть маршруты в разных областях ЛО c одинаковыми названиями, необходимо применить кластеризацию по расположению с искуственным шумом. Если все маршруты уникальные это не требуется"
   ],
   "metadata": {
    "collapsed": false
   },
   "id": "eeacc96f19adb581"
  },
  {
   "cell_type": "code",
   "execution_count": 1,
   "id": "initial_id",
   "metadata": {
    "collapsed": true,
    "ExecuteTime": {
     "end_time": "2024-03-30T17:26:36.749103400Z",
     "start_time": "2024-03-30T17:26:13.801759600Z"
    }
   },
   "outputs": [
    {
     "data": {
      "text/html": "\n\t\t\t<script type=\"text/javascript\">\n\t\t\t<!--\n\t\t\t\t\n\t\t\t{\n\t\t\t\tvar element = document.getElementById('NetworKit_script');\n\t\t\t\tif (element) {\n\t\t\t\t\telement.parentNode.removeChild(element);\n\t\t\t\t}\n\t\t\t\telement = document.createElement('script');\n\t\t\t\telement.type = 'text/javascript';\n\t\t\t\telement.innerHTML = 'function NetworKit_pageEmbed(id) { var i, j; var elements; elements = document.getElementById(id).getElementsByClassName(\"Plot\"); for (i=0; i<elements.length; i++) { elements[i].id = id + \"_Plot_\" + i; var data = elements[i].getAttribute(\"data-image\").split(\"|\"); elements[i].removeAttribute(\"data-image\"); var content = \"<div class=\\\\\"Image\\\\\" id=\\\\\"\" + elements[i].id + \"_Image\\\\\" />\"; elements[i].innerHTML = content; elements[i].setAttribute(\"data-image-index\", 0); elements[i].setAttribute(\"data-image-length\", data.length); for (j=0; j<data.length; j++) { elements[i].setAttribute(\"data-image-\" + j, data[j]); } NetworKit_plotUpdate(elements[i]); elements[i].onclick = function (e) { NetworKit_overlayShow((e.target) ? e.target : e.srcElement); } } elements = document.getElementById(id).getElementsByClassName(\"HeatCell\"); for (i=0; i<elements.length; i++) { var data = parseFloat(elements[i].getAttribute(\"data-heat\")); var color = \"#00FF00\"; if (data <= 1 && data > 0) { color = \"hsla(0, 100%, 75%, \" + (data) + \")\"; } else if (data <= 0 && data >= -1) { color = \"hsla(240, 100%, 75%, \" + (-data) + \")\"; } elements[i].style.backgroundColor = color; } elements = document.getElementById(id).getElementsByClassName(\"Details\"); for (i=0; i<elements.length; i++) { elements[i].setAttribute(\"data-title\", \"-\"); NetworKit_toggleDetails(elements[i]); elements[i].onclick = function (e) { NetworKit_toggleDetails((e.target) ? e.target : e.srcElement); } } elements = document.getElementById(id).getElementsByClassName(\"MathValue\"); for (i=elements.length-1; i>=0; i--) { value = elements[i].innerHTML.trim(); if (value === \"nan\") { elements[i].parentNode.innerHTML = \"\" } } elements = document.getElementById(id).getElementsByClassName(\"SubCategory\"); for (i=elements.length-1; i>=0; i--) { value = elements[i].innerHTML.trim(); if (value === \"\") { elements[i].parentNode.removeChild(elements[i]) } } elements = document.getElementById(id).getElementsByClassName(\"Category\"); for (i=elements.length-1; i>=0; i--) { value = elements[i].innerHTML.trim(); if (value === \"\") { elements[i].parentNode.removeChild(elements[i]) } } var isFirefox = false; try { isFirefox = typeof InstallTrigger !== \"undefined\"; } catch (e) {} if (!isFirefox) { alert(\"Currently the function\\'s output is only fully supported by Firefox.\"); } } function NetworKit_plotUpdate(source) { var index = source.getAttribute(\"data-image-index\"); var data = source.getAttribute(\"data-image-\" + index); var image = document.getElementById(source.id + \"_Image\"); image.style.backgroundImage = \"url(\" + data + \")\"; } function NetworKit_showElement(id, show) { var element = document.getElementById(id); element.style.display = (show) ? \"block\" : \"none\"; } function NetworKit_overlayShow(source) { NetworKit_overlayUpdate(source); NetworKit_showElement(\"NetworKit_Overlay\", true); } function NetworKit_overlayUpdate(source) { document.getElementById(\"NetworKit_Overlay_Title\").innerHTML = source.title; var index = source.getAttribute(\"data-image-index\"); var data = source.getAttribute(\"data-image-\" + index); var image = document.getElementById(\"NetworKit_Overlay_Image\"); image.setAttribute(\"data-id\", source.id); image.style.backgroundImage = \"url(\" + data + \")\"; var link = document.getElementById(\"NetworKit_Overlay_Toolbar_Bottom_Save\"); link.href = data; link.download = source.title + \".svg\"; } function NetworKit_overlayImageShift(delta) { var image = document.getElementById(\"NetworKit_Overlay_Image\"); var source = document.getElementById(image.getAttribute(\"data-id\")); var index = parseInt(source.getAttribute(\"data-image-index\")); var length = parseInt(source.getAttribute(\"data-image-length\")); var index = (index+delta) % length; if (index < 0) { index = length + index; } source.setAttribute(\"data-image-index\", index); NetworKit_overlayUpdate(source); } function NetworKit_toggleDetails(source) { var childs = source.children; var show = false; if (source.getAttribute(\"data-title\") == \"-\") { source.setAttribute(\"data-title\", \"+\"); show = false; } else { source.setAttribute(\"data-title\", \"-\"); show = true; } for (i=0; i<childs.length; i++) { if (show) { childs[i].style.display = \"block\"; } else { childs[i].style.display = \"none\"; } } }';\n\t\t\t\telement.setAttribute('id', 'NetworKit_script');\n\t\t\t\tdocument.head.appendChild(element);\n\t\t\t}\n\t\t\n\t\t\t\t\n\t\t\t{\n\t\t\t\tvar element = document.getElementById('NetworKit_style');\n\t\t\t\tif (element) {\n\t\t\t\t\telement.parentNode.removeChild(element);\n\t\t\t\t}\n\t\t\t\telement = document.createElement('style');\n\t\t\t\telement.type = 'text/css';\n\t\t\t\telement.innerHTML = '.NetworKit_Page { font-family: Arial, Helvetica, sans-serif; font-size: 14px; } .NetworKit_Page .Value:before { font-family: Arial, Helvetica, sans-serif; font-size: 1.05em; content: attr(data-title) \":\"; margin-left: -2.5em; padding-right: 0.5em; } .NetworKit_Page .Details .Value:before { display: block; } .NetworKit_Page .Value { font-family: monospace; white-space: pre; padding-left: 2.5em; white-space: -moz-pre-wrap !important; white-space: -pre-wrap; white-space: -o-pre-wrap; white-space: pre-wrap; word-wrap: break-word; tab-size: 4; -moz-tab-size: 4; } .NetworKit_Page .Category { clear: both; padding-left: 1em; margin-bottom: 1.5em; } .NetworKit_Page .Category:before { content: attr(data-title); font-size: 1.75em; display: block; margin-left: -0.8em; margin-bottom: 0.5em; } .NetworKit_Page .SubCategory { margin-bottom: 1.5em; padding-left: 1em; } .NetworKit_Page .SubCategory:before { font-size: 1.6em; display: block; margin-left: -0.8em; margin-bottom: 0.5em; } .NetworKit_Page .SubCategory[data-title]:before { content: attr(data-title); } .NetworKit_Page .Block { display: block; } .NetworKit_Page .Block:after { content: \".\"; visibility: hidden; display: block; height: 0; clear: both; } .NetworKit_Page .Block .Thumbnail_Overview, .NetworKit_Page .Block .Thumbnail_ScatterPlot { width: 260px; float: left; } .NetworKit_Page .Block .Thumbnail_Overview img, .NetworKit_Page .Block .Thumbnail_ScatterPlot img { width: 260px; } .NetworKit_Page .Block .Thumbnail_Overview:before, .NetworKit_Page .Block .Thumbnail_ScatterPlot:before { display: block; text-align: center; font-weight: bold; } .NetworKit_Page .Block .Thumbnail_Overview:before { content: attr(data-title); } .NetworKit_Page .HeatCell { font-family: \"Courier New\", Courier, monospace; cursor: pointer; } .NetworKit_Page .HeatCell, .NetworKit_Page .HeatCellName { display: inline; padding: 0.1em; margin-right: 2px; background-color: #FFFFFF } .NetworKit_Page .HeatCellName { margin-left: 0.25em; } .NetworKit_Page .HeatCell:before { content: attr(data-heat); display: inline-block; color: #000000; width: 4em; text-align: center; } .NetworKit_Page .Measure { clear: both; } .NetworKit_Page .Measure .Details { cursor: pointer; } .NetworKit_Page .Measure .Details:before { content: \"[\" attr(data-title) \"]\"; display: block; } .NetworKit_Page .Measure .Details .Value { border-left: 1px dotted black; margin-left: 0.4em; padding-left: 3.5em; pointer-events: none; } .NetworKit_Page .Measure .Details .Spacer:before { content: \".\"; opacity: 0.0; pointer-events: none; } .NetworKit_Page .Measure .Plot { width: 440px; height: 440px; cursor: pointer; float: left; margin-left: -0.9em; margin-right: 20px; } .NetworKit_Page .Measure .Plot .Image { background-repeat: no-repeat; background-position: center center; background-size: contain; height: 100%; pointer-events: none; } .NetworKit_Page .Measure .Stat { width: 500px; float: left; } .NetworKit_Page .Measure .Stat .Group { padding-left: 1.25em; margin-bottom: 0.75em; } .NetworKit_Page .Measure .Stat .Group .Title { font-size: 1.1em; display: block; margin-bottom: 0.3em; margin-left: -0.75em; border-right-style: dotted; border-right-width: 1px; border-bottom-style: dotted; border-bottom-width: 1px; background-color: #D0D0D0; padding-left: 0.2em; } .NetworKit_Page .Measure .Stat .Group .List { -webkit-column-count: 3; -moz-column-count: 3; column-count: 3; } .NetworKit_Page .Measure .Stat .Group .List .Entry { position: relative; line-height: 1.75em; } .NetworKit_Page .Measure .Stat .Group .List .Entry[data-tooltip]:before { position: absolute; left: 0; top: -40px; background-color: #808080; color: #ffffff; height: 30px; line-height: 30px; border-radius: 5px; padding: 0 15px; content: attr(data-tooltip); white-space: nowrap; display: none; } .NetworKit_Page .Measure .Stat .Group .List .Entry[data-tooltip]:after { position: absolute; left: 15px; top: -10px; border-top: 7px solid #808080; border-left: 7px solid transparent; border-right: 7px solid transparent; content: \"\"; display: none; } .NetworKit_Page .Measure .Stat .Group .List .Entry[data-tooltip]:hover:after, .NetworKit_Page .Measure .Stat .Group .List .Entry[data-tooltip]:hover:before { display: block; } .NetworKit_Page .Measure .Stat .Group .List .Entry .MathValue { font-family: \"Courier New\", Courier, monospace; } .NetworKit_Page .Measure:after { content: \".\"; visibility: hidden; display: block; height: 0; clear: both; } .NetworKit_Page .PartitionPie { clear: both; } .NetworKit_Page .PartitionPie img { width: 600px; } #NetworKit_Overlay { left: 0px; top: 0px; display: none; position: absolute; width: 100%; height: 100%; background-color: rgba(0,0,0,0.6); z-index: 1000; } #NetworKit_Overlay_Title { position: absolute; color: white; transform: rotate(-90deg); width: 32em; height: 32em; padding-right: 0.5em; padding-top: 0.5em; text-align: right; font-size: 40px; } #NetworKit_Overlay .button { background: white; cursor: pointer; } #NetworKit_Overlay .button:before { size: 13px; display: inline-block; text-align: center; margin-top: 0.5em; margin-bottom: 0.5em; width: 1.5em; height: 1.5em; } #NetworKit_Overlay .icon-close:before { content: \"X\"; } #NetworKit_Overlay .icon-previous:before { content: \"P\"; } #NetworKit_Overlay .icon-next:before { content: \"N\"; } #NetworKit_Overlay .icon-save:before { content: \"S\"; } #NetworKit_Overlay_Toolbar_Top, #NetworKit_Overlay_Toolbar_Bottom { position: absolute; width: 40px; right: 13px; text-align: right; z-index: 1100; } #NetworKit_Overlay_Toolbar_Top { top: 0.5em; } #NetworKit_Overlay_Toolbar_Bottom { Bottom: 0.5em; } #NetworKit_Overlay_ImageContainer { position: absolute; top: 5%; left: 5%; height: 90%; width: 90%; background-repeat: no-repeat; background-position: center center; background-size: contain; } #NetworKit_Overlay_Image { height: 100%; width: 100%; background-repeat: no-repeat; background-position: center center; background-size: contain; }';\n\t\t\t\telement.setAttribute('id', 'NetworKit_style');\n\t\t\t\tdocument.head.appendChild(element);\n\t\t\t}\n\t\t\n\t\t\t\t\n\t\t\t{\n\t\t\t\tvar element = document.getElementById('NetworKit_Overlay');\n\t\t\t\tif (element) {\n\t\t\t\t\telement.parentNode.removeChild(element);\n\t\t\t\t}\n\t\t\t\telement = document.createElement('div');\n\t\t\t\telement.innerHTML = '<div id=\"NetworKit_Overlay_Toolbar_Top\"><div class=\"button icon-close\" id=\"NetworKit_Overlay_Close\" /></div><div id=\"NetworKit_Overlay_Title\" /> <div id=\"NetworKit_Overlay_ImageContainer\"> <div id=\"NetworKit_Overlay_Image\" /> </div> <div id=\"NetworKit_Overlay_Toolbar_Bottom\"> <div class=\"button icon-previous\" onclick=\"NetworKit_overlayImageShift(-1)\" /> <div class=\"button icon-next\" onclick=\"NetworKit_overlayImageShift(1)\" /> <a id=\"NetworKit_Overlay_Toolbar_Bottom_Save\"><div class=\"button icon-save\" /></a> </div>';\n\t\t\t\telement.setAttribute('id', 'NetworKit_Overlay');\n\t\t\t\tdocument.body.appendChild(element);\n\t\t\t\tdocument.getElementById('NetworKit_Overlay_Close').onclick = function (e) {\n\t\t\t\t\tdocument.getElementById('NetworKit_Overlay').style.display = 'none';\n\t\t\t\t}\n\t\t\t}\n\t\t\n\t\t\t-->\n\t\t\t</script>\n\t\t"
     },
     "metadata": {},
     "output_type": "display_data"
    },
    {
     "data": {
      "text/plain": "  0%|          | 0/593 [00:00<?, ?it/s]",
      "application/vnd.jupyter.widget-view+json": {
       "version_major": 2,
       "version_minor": 0,
       "model_id": "1122c485bf28408ba3d9061b9b03a7ed"
      }
     },
     "metadata": {},
     "output_type": "display_data"
    }
   ],
   "source": [
    "from shapely import Point\n",
    "import pandas as pd\n",
    "from tqdm.auto import tqdm\n",
    "import geopandas as gpd\n",
    "from dongraphio.utils.geometry_utils import clusterize_kmeans_geo_points\n",
    "\n",
    "tqdm.pandas()\n",
    "\n",
    "stops_gdf = gpd.read_file(\"stopsLO.geojson\")\n",
    "stops_gdf.rename(columns={\"Автоб\": \"route\"}, inplace=True)\n",
    "stops_gdf.dropna(subset=\"route\", axis=0, inplace=True, how=\"any\")\n",
    "unique_routes = set()\n",
    "for index, row in (stops_gdf.iterrows()):\n",
    "    for i in str(row[\"route\"]).replace('.', ',').rstrip().lstrip().split(\",\"):\n",
    "        if i != \"\":\n",
    "            unique_routes.add(i.lstrip().rstrip())\n",
    "unique_routes = pd.DataFrame(index=list(unique_routes))\n",
    "unique_routes[\"geometry\"] = [[]] * len(unique_routes)\n",
    "for index, row in (stops_gdf.iterrows()):\n",
    "    for i in str(row[\"route\"]).replace('.', ',').rstrip().lstrip().split(\",\"):\n",
    "        if i != \"\":\n",
    "            unique_routes.loc[i.lstrip().rstrip(), \"geometry\"] = unique_routes.loc[i.lstrip().rstrip()][\"geometry\"] + [\n",
    "                row[\"geometry\"]]\n",
    "\n",
    "devided_routes = pd.DataFrame()\n",
    "noise_points = [[31.21239, 58.61124], [31.22239, 58.62161], [31.23239, 58.61171], [31.24239, 58.62129],\n",
    "                [31.23239, 58.64131],\n",
    "                [32.92133, 59.02899], [32.94933, 59.06599], [32.93943, 59.03599], [32.92733, 59.08999],\n",
    "                [32.92333, 59.00599],\n",
    "                [35.58878, 59.48945], [35.58933, 59.48359], [35.58643, 59.489759], [35.58879, 59.48688],\n",
    "                [35.58869, 59.485749]]\n",
    "noise_points = [Point(x) for x in noise_points]\n",
    "for index, row in tqdm(unique_routes.iterrows(), total=unique_routes.shape[0]):\n",
    "    clusterized = clusterize_kmeans_geo_points(row, noise_points)\n",
    "    if clusterized.shape[0] > 1:\n",
    "        clusterized.index = index + \".\" + clusterized.index.astype(str)\n",
    "        devided_routes = pd.concat([devided_routes, clusterized])\n",
    "    else:\n",
    "        clusterized.index = [index]\n",
    "        devided_routes = pd.concat([devided_routes, clusterized])"
   ]
  },
  {
   "cell_type": "code",
   "execution_count": 2,
   "outputs": [
    {
     "name": "stderr",
     "output_type": "stream",
     "text": [
      "\u001B[32m2024-03-30 20:26:37.017\u001B[0m | \u001B[34m\u001B[1mDEBUG   \u001B[0m | \u001B[36msrc.dongraphio.utils.graphs\u001B[0m:\u001B[36mget_osmnx_graph\u001B[0m:\u001B[36m58\u001B[0m - \u001B[34m\u001B[1mExtracting and preparing drive_service graph from OSM ...\u001B[0m\n",
      "C:\\Users\\OEM\\AppData\\Local\\pypoetry\\Cache\\virtualenvs\\dongraphio-ppw38GG8-py3.10\\lib\\site-packages\\osmnx\\_overpass.py:211: UserWarning: This area is 51 times your configured Overpass max query area size. It will automatically be divided up into multiple sub-queries accordingly. This may take a long time.\n",
      "  multi_poly_proj = utils_geo._consolidate_subdivide_geometry(poly_proj)\n"
     ]
    },
    {
     "data": {
      "text/plain": "Collecting drive_service graph:   0%|          | 0/506632 [00:00<?, ?it/s]",
      "application/vnd.jupyter.widget-view+json": {
       "version_major": 2,
       "version_minor": 0,
       "model_id": "569495f98c94483cbf958173d465793e"
      }
     },
     "metadata": {},
     "output_type": "display_data"
    }
   ],
   "source": [
    "from src.dongraphio.utils import get_osmnx_graph\n",
    "import networkx as nx\n",
    "\n",
    "import osmnx as ox\n",
    "\n",
    "drive_graph: nx.MultiDiGraph = get_osmnx_graph(\n",
    "    176095, 32636, \"drive_service\", truncate_by_edge=True\n",
    ")\n",
    "# from shapely import LineString\n",
    "# for i in drive_graph.edges(data=True):\n",
    "#     i[2]['geometry'] = from_wkt(i[2]['geometry'])\n",
    "# \n",
    "# gdf_graph_edges = ox.graph_to_gdfs(drive_graph, nodes=False)\n",
    "# gdf_graph_edges.to_file('graph_LO.geojson')"
   ],
   "metadata": {
    "collapsed": false,
    "ExecuteTime": {
     "end_time": "2024-03-30T17:29:43.194600700Z",
     "start_time": "2024-03-30T17:26:36.751104200Z"
    }
   },
   "id": "89ed0ece0164b0c7"
  },
  {
   "cell_type": "code",
   "execution_count": 3,
   "outputs": [],
   "source": [
    "\n",
    "from shapely import from_wkt\n",
    "import networkx as nx\n",
    "from src.dongraphio.utils.graph_utils import buffer_directed_roads, nx_to_gdf\n",
    "\n",
    "for i in drive_graph.edges(data=True):\n",
    "    i[2]['geometry'] = from_wkt(str(i[2]['geometry']))\n",
    "drive_graph_gdf = nx_to_gdf(drive_graph, nodes=False, edges=True)\n",
    "drive_graph_gdf_buffer = buffer_directed_roads(drive_graph_gdf, 3)\n"
   ],
   "metadata": {
    "collapsed": false,
    "ExecuteTime": {
     "end_time": "2024-03-30T17:30:10.057588800Z",
     "start_time": "2024-03-30T17:29:43.242735Z"
    }
   },
   "id": "ab73f28e504a9960"
  },
  {
   "cell_type": "code",
   "execution_count": 8,
   "outputs": [
    {
     "data": {
      "text/plain": "Расчёт маршрута 851Д.3:   0%|          | 0/847 [00:00<?, ?it/s]",
      "application/vnd.jupyter.widget-view+json": {
       "version_major": 2,
       "version_minor": 0,
       "model_id": "6710b06a712748ac86a4f4b0009cb00e"
      }
     },
     "metadata": {},
     "output_type": "display_data"
    }
   ],
   "source": [
    "\n",
    "from src.dongraphio.utils.graph_utils import convert_multidigraph_to_digraph, project_points_on_graph, \\\n",
    "    add_projected_points_as_nodes\n",
    "from src.dongraphio.utils.tsp_solver import resolve_tsp, subgraph_by_path\n",
    "from src.dongraphio.utils.matrix_utils import get_dist_matrix_for_tsp\n",
    "import networkx as nx\n",
    "\n",
    "city_crs = 32636\n",
    "bus_routes = nx.DiGraph()\n",
    "error_routes = []\n",
    "for index, row in tqdm(devided_routes.iterrows(), total=devided_routes.shape[0], desc=f\"Расчёт маршрута {index}\"):\n",
    "    try:\n",
    "        geometry_list = row[\"geometry\"]\n",
    "        row_gdf = gpd.GeoDataFrame(data={\"label\": [index for _ in geometry_list], \"geometry\": geometry_list})\n",
    "        row_gdf = row_gdf.set_crs(4326)\n",
    "        row_gdf = row_gdf.to_crs(city_crs)\n",
    "\n",
    "        projected_points = project_points_on_graph(drive_graph_gdf, drive_graph_gdf_buffer, row_gdf)\n",
    "\n",
    "        route_nodes, graph_with_new_points = add_projected_points_as_nodes(projected_points, drive_graph)\n",
    "        graph_with_new_points = convert_multidigraph_to_digraph(graph_with_new_points)\n",
    "        distance_matrix, path_matrix = get_dist_matrix_for_tsp(graph_with_new_points, route_nodes)\n",
    "        path = resolve_tsp(distance_matrix,5)\n",
    "        route_nx = subgraph_by_path(path, path_matrix, graph_with_new_points)\n",
    "        bus_routes = nx.compose(bus_routes, route_nx)\n",
    "\n",
    "        del graph_with_new_points, projected_points, route_nodes, distance_matrix, path_matrix, path, route_nx\n",
    "    except Exception:\n",
    "        error_routes.append((index, row))\n",
    "        pass\n",
    "\n",
    "\n"
   ],
   "metadata": {
    "collapsed": false,
    "ExecuteTime": {
     "end_time": "2024-03-30T20:36:35.729396500Z",
     "start_time": "2024-03-30T17:35:22.250752400Z"
    }
   },
   "id": "d942d597ebc01a25"
  },
  {
   "cell_type": "code",
   "execution_count": 12,
   "outputs": [
    {
     "data": {
      "text/plain": "         0                                                  1\n0   851Д.3  geometry    [POINT (30.4441693 60.050867)]\nNam...\n1      546  geometry    [POINT (30.1444949 59.7893016), PO...\n2      3.1  geometry    [POINT (32.3536583 59.8943022), PO...\n3     Т-3\\  geometry    [POINT (30.866063829817104 59.5387...\n4      2.5  geometry    [POINT (32.3536583 59.8943022), PO...\n..     ...                                                ...\n61      73  geometry    [POINT (28.6220888 59.3752543)]\nNa...\n62     5.2  geometry    [POINT (32.3536583 59.8943022), PO...\n63   145.3  geometry    [POINT (30.1444949 59.7893016), PO...\n64  879Д.1  geometry    [POINT (32.3536583 59.8943022), PO...\n65  879Д.3  geometry    [POINT (30.4441693 60.050867)]\nNam...\n\n[66 rows x 2 columns]",
      "text/html": "<div>\n<style scoped>\n    .dataframe tbody tr th:only-of-type {\n        vertical-align: middle;\n    }\n\n    .dataframe tbody tr th {\n        vertical-align: top;\n    }\n\n    .dataframe thead th {\n        text-align: right;\n    }\n</style>\n<table border=\"1\" class=\"dataframe\">\n  <thead>\n    <tr style=\"text-align: right;\">\n      <th></th>\n      <th>0</th>\n      <th>1</th>\n    </tr>\n  </thead>\n  <tbody>\n    <tr>\n      <th>0</th>\n      <td>851Д.3</td>\n      <td>geometry    [POINT (30.4441693 60.050867)]\nNam...</td>\n    </tr>\n    <tr>\n      <th>1</th>\n      <td>546</td>\n      <td>geometry    [POINT (30.1444949 59.7893016), PO...</td>\n    </tr>\n    <tr>\n      <th>2</th>\n      <td>3.1</td>\n      <td>geometry    [POINT (32.3536583 59.8943022), PO...</td>\n    </tr>\n    <tr>\n      <th>3</th>\n      <td>Т-3\\</td>\n      <td>geometry    [POINT (30.866063829817104 59.5387...</td>\n    </tr>\n    <tr>\n      <th>4</th>\n      <td>2.5</td>\n      <td>geometry    [POINT (32.3536583 59.8943022), PO...</td>\n    </tr>\n    <tr>\n      <th>...</th>\n      <td>...</td>\n      <td>...</td>\n    </tr>\n    <tr>\n      <th>61</th>\n      <td>73</td>\n      <td>geometry    [POINT (28.6220888 59.3752543)]\nNa...</td>\n    </tr>\n    <tr>\n      <th>62</th>\n      <td>5.2</td>\n      <td>geometry    [POINT (32.3536583 59.8943022), PO...</td>\n    </tr>\n    <tr>\n      <th>63</th>\n      <td>145.3</td>\n      <td>geometry    [POINT (30.1444949 59.7893016), PO...</td>\n    </tr>\n    <tr>\n      <th>64</th>\n      <td>879Д.1</td>\n      <td>geometry    [POINT (32.3536583 59.8943022), PO...</td>\n    </tr>\n    <tr>\n      <th>65</th>\n      <td>879Д.3</td>\n      <td>geometry    [POINT (30.4441693 60.050867)]\nNam...</td>\n    </tr>\n  </tbody>\n</table>\n<p>66 rows × 2 columns</p>\n</div>"
     },
     "execution_count": 12,
     "metadata": {},
     "output_type": "execute_result"
    }
   ],
   "source": [],
   "metadata": {
    "collapsed": false,
    "ExecuteTime": {
     "end_time": "2024-03-30T21:00:51.519244400Z",
     "start_time": "2024-03-30T21:00:51.498637300Z"
    }
   },
   "id": "6f375a87092bf0fe"
  },
  {
   "cell_type": "code",
   "execution_count": 19,
   "outputs": [],
   "source": [
    "from shapely import MultiPoint\n",
    "\n",
    "data = [{'route':obj[0],'geometry':MultiPoint(obj[1]['geometry'])} for obj in error_routes]\n",
    "errors = gpd.GeoDataFrame(data=data,geometry='geometry',crs=4326)\n",
    "errors.to_file('Error_routes.geojson')"
   ],
   "metadata": {
    "collapsed": false,
    "ExecuteTime": {
     "end_time": "2024-03-30T21:08:36.227697500Z",
     "start_time": "2024-03-30T21:08:36.175082500Z"
    }
   },
   "id": "59b09f2fda224789"
  },
  {
   "cell_type": "code",
   "execution_count": null,
   "outputs": [],
   "source": [],
   "metadata": {
    "collapsed": false
   },
   "id": "b07c8d984d8636b6"
  },
  {
   "cell_type": "code",
   "execution_count": 11,
   "outputs": [],
   "source": [
    "for i in bus_routes.edges(data=True):\n",
    "    i[2]['geometry'] = from_wkt(str(i[2]['geometry']))\n",
    "bus_routes.graph['crs'] = city_crs\n",
    "gdf_graph_edges = ox.graph_to_gdfs(nx.MultiDiGraph(bus_routes), nodes=False)\n",
    "gdf_graph_edges.to_file('bus_LO.geojson')"
   ],
   "metadata": {
    "collapsed": false,
    "ExecuteTime": {
     "end_time": "2024-03-30T20:56:36.339375100Z",
     "start_time": "2024-03-30T20:56:30.126855900Z"
    }
   },
   "id": "b1411a8b25ff31ae"
  },
  {
   "cell_type": "code",
   "execution_count": 10,
   "outputs": [],
   "source": [
    "for i in bus_routes.edges(data=True):\n",
    "    i[2]['geometry'] = (str(i[2]['geometry']))\n",
    "nx.write_graphml(bus_routes, 'bus_LO.graphml')"
   ],
   "metadata": {
    "collapsed": false,
    "ExecuteTime": {
     "end_time": "2024-03-30T20:56:24.924221900Z",
     "start_time": "2024-03-30T20:56:22.190967100Z"
    }
   },
   "id": "357c8a41e9ca4d7a"
  },
  {
   "cell_type": "code",
   "execution_count": null,
   "outputs": [],
   "source": [
    "# test = nx.DiGraph(drive_graph)\n",
    "# print(test.get_edge_data(68414, 70235))\n",
    "drive_graph['202466']"
   ],
   "metadata": {
    "collapsed": false
   },
   "id": "c1c9554fa4f4c008"
  },
  {
   "cell_type": "code",
   "execution_count": null,
   "outputs": [],
   "source": [],
   "metadata": {
    "collapsed": false
   },
   "id": "39f701e4b0a357ab"
  }
 ],
 "metadata": {
  "kernelspec": {
   "display_name": "Python 3",
   "language": "python",
   "name": "python3"
  },
  "language_info": {
   "codemirror_mode": {
    "name": "ipython",
    "version": 2
   },
   "file_extension": ".py",
   "mimetype": "text/x-python",
   "name": "python",
   "nbconvert_exporter": "python",
   "pygments_lexer": "ipython2",
   "version": "2.7.6"
  }
 },
 "nbformat": 4,
 "nbformat_minor": 5
}
