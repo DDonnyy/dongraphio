{
 "cells": [
  {
   "cell_type": "markdown",
   "id": "eeacc96f19adb581",
   "metadata": {
    "collapsed": false
   },
   "source": [
    "Разделяем слой с остановками на уникальные маршруты, поскольку есть маршруты в разных областях ЛО c одинаковыми названиями, необходимо применить кластеризацию по расположению с искуственным шумом. Если все маршруты уникальные это не требуется"
   ]
  },
  {
   "cell_type": "code",
   "execution_count": null,
   "id": "initial_id",
   "metadata": {
    "ExecuteTime": {
     "end_time": "2024-03-30T17:26:36.749103400Z",
     "start_time": "2024-03-30T17:26:13.801759600Z"
    },
    "collapsed": true
   },
   "outputs": [],
   "source": [
    "from shapely import Point\n",
    "import pandas as pd\n",
    "from tqdm.auto import tqdm\n",
    "import geopandas as gpd\n",
    "from dongraphio.utils.geometry_utils import clusterize_kmeans_geo_points\n",
    "\n",
    "tqdm.pandas()\n",
    "\n",
    "stops_gdf = gpd.read_file(\"stopsLO.geojson\")\n",
    "stops_gdf.rename(columns={\"Автоб\": \"route\"}, inplace=True)\n",
    "stops_gdf.dropna(subset=\"route\", axis=0, inplace=True, how=\"any\")\n",
    "unique_routes = set()\n",
    "for index, row in (stops_gdf.iterrows()):\n",
    "    for i in str(row[\"route\"]).replace('.', ',').rstrip().lstrip().split(\",\"):\n",
    "        if i != \"\":\n",
    "            unique_routes.add(i.lstrip().rstrip())\n",
    "unique_routes = pd.DataFrame(index=list(unique_routes))\n",
    "unique_routes[\"geometry\"] = [[]] * len(unique_routes)\n",
    "for index, row in (stops_gdf.iterrows()):\n",
    "    for i in str(row[\"route\"]).replace('.', ',').rstrip().lstrip().split(\",\"):\n",
    "        if i != \"\":\n",
    "            unique_routes.loc[i.lstrip().rstrip(), \"geometry\"] = unique_routes.loc[i.lstrip().rstrip()][\"geometry\"] + [\n",
    "                row[\"geometry\"]]\n",
    "\n",
    "devided_routes = pd.DataFrame()\n",
    "noise_points = [[31.21239, 58.61124], [31.22239, 58.62161], [31.23239, 58.61171], [31.24239, 58.62129],\n",
    "                [31.23239, 58.64131],\n",
    "                [32.92133, 59.02899], [32.94933, 59.06599], [32.93943, 59.03599], [32.92733, 59.08999],\n",
    "                [32.92333, 59.00599],\n",
    "                [35.58878, 59.48945], [35.58933, 59.48359], [35.58643, 59.489759], [35.58879, 59.48688],\n",
    "                [35.58869, 59.485749]]\n",
    "noise_points = [Point(x) for x in noise_points]\n",
    "for index, row in tqdm(unique_routes.iterrows(), total=unique_routes.shape[0]):\n",
    "    clusterized = clusterize_kmeans_geo_points(row, noise_points)\n",
    "    if clusterized.shape[0] > 1:\n",
    "        clusterized.index = index + \".\" + clusterized.index.astype(str)\n",
    "        devided_routes = pd.concat([devided_routes, clusterized])\n",
    "    else:\n",
    "        clusterized.index = [index]\n",
    "        devided_routes = pd.concat([devided_routes, clusterized])"
   ]
  },
  {
   "cell_type": "code",
   "execution_count": null,
   "id": "89ed0ece0164b0c7",
   "metadata": {
    "ExecuteTime": {
     "end_time": "2024-03-30T17:29:43.194600700Z",
     "start_time": "2024-03-30T17:26:36.751104200Z"
    },
    "collapsed": false
   },
   "outputs": [],
   "source": [
    "from src.dongraphio.utils import get_osmnx_graph\n",
    "import networkx as nx\n",
    "\n",
    "import osmnx as ox\n",
    "\n",
    "drive_graph: nx.MultiDiGraph = get_osmnx_graph(\n",
    "    176095, 32636, \"drive_service\", truncate_by_edge=True\n",
    ")\n",
    "# from shapely import LineString\n",
    "# for i in drive_graph.edges(data=True):\n",
    "#     i[2]['geometry'] = from_wkt(i[2]['geometry'])\n",
    "# \n",
    "# gdf_graph_edges = ox.graph_to_gdfs(drive_graph, nodes=False)\n",
    "# gdf_graph_edges.to_file('graph_LO.geojson')"
   ]
  },
  {
   "cell_type": "code",
   "execution_count": null,
   "id": "ab73f28e504a9960",
   "metadata": {
    "ExecuteTime": {
     "end_time": "2024-03-30T17:30:10.057588800Z",
     "start_time": "2024-03-30T17:29:43.242735Z"
    },
    "collapsed": false
   },
   "outputs": [],
   "source": [
    "\n",
    "from shapely import from_wkt\n",
    "import networkx as nx\n",
    "from src.dongraphio.utils.graph_utils import buffer_directed_roads, nx_to_gdf\n",
    "\n",
    "for i in drive_graph.edges(data=True):\n",
    "    i[2]['geometry'] = from_wkt(str(i[2]['geometry']))\n",
    "drive_graph_gdf = nx_to_gdf(drive_graph, nodes=False, edges=True)\n",
    "drive_graph_gdf_buffer = buffer_directed_roads(drive_graph_gdf, 3)\n"
   ]
  },
  {
   "cell_type": "code",
   "execution_count": null,
   "id": "d942d597ebc01a25",
   "metadata": {
    "ExecuteTime": {
     "end_time": "2024-03-30T20:36:35.729396500Z",
     "start_time": "2024-03-30T17:35:22.250752400Z"
    },
    "collapsed": false
   },
   "outputs": [],
   "source": [
    "\n",
    "from dongraphio.utils.graph_utils import convert_multidigraph_to_digraph, project_points_on_graph, \\\n",
    "    add_projected_points_as_nodes\n",
    "from dongraphio.utils.tsp_solver import resolve_tsp, subgraph_by_path\n",
    "from dongraphio.utils.matrix_utils import get_dist_matrix_for_tsp\n",
    "import networkx as nx\n",
    "\n",
    "city_crs = 32636\n",
    "bus_routes = nx.DiGraph()\n",
    "error_routes = []\n",
    "for index, row in tqdm(devided_routes.iterrows(), total=devided_routes.shape[0], desc=f\"Расчёт маршрута {index}\"):\n",
    "    try:\n",
    "        geometry_list = row[\"geometry\"]\n",
    "        row_gdf = gpd.GeoDataFrame(data={\"label\": [index for _ in geometry_list], \"geometry\": geometry_list})\n",
    "        row_gdf = row_gdf.set_crs(4326)\n",
    "        row_gdf = row_gdf.to_crs(city_crs)\n",
    "\n",
    "        projected_points = project_points_on_graph(drive_graph_gdf, drive_graph_gdf_buffer, row_gdf)\n",
    "\n",
    "        route_nodes, graph_with_new_points = add_projected_points_as_nodes(projected_points, drive_graph)\n",
    "        graph_with_new_points = convert_multidigraph_to_digraph(graph_with_new_points)\n",
    "        distance_matrix, path_matrix = get_dist_matrix_for_tsp(graph_with_new_points, route_nodes)\n",
    "        path = resolve_tsp(distance_matrix,5)\n",
    "        route_nx = subgraph_by_path(path, path_matrix, graph_with_new_points)\n",
    "        bus_routes = nx.compose(bus_routes, route_nx)\n",
    "\n",
    "        del graph_with_new_points, projected_points, route_nodes, distance_matrix, path_matrix, path, route_nx\n",
    "    except Exception:\n",
    "        error_routes.append((index, row))\n",
    "        pass\n",
    "\n",
    "\n"
   ]
  },
  {
   "cell_type": "code",
   "execution_count": null,
   "id": "59b09f2fda224789",
   "metadata": {
    "ExecuteTime": {
     "end_time": "2024-03-30T21:08:36.227697500Z",
     "start_time": "2024-03-30T21:08:36.175082500Z"
    },
    "collapsed": false
   },
   "outputs": [],
   "source": [
    "from shapely import MultiPoint\n",
    "\n",
    "data = [{'route':obj[0],'geometry':MultiPoint(obj[1]['geometry'])} for obj in error_routes]\n",
    "errors = gpd.GeoDataFrame(data=data,geometry='geometry',crs=4326)\n",
    "errors.to_file('Error_routes.geojson')"
   ]
  },
  {
   "cell_type": "code",
   "execution_count": null,
   "id": "b07c8d984d8636b6",
   "metadata": {
    "collapsed": false
   },
   "outputs": [],
   "source": []
  },
  {
   "cell_type": "code",
   "execution_count": null,
   "id": "b1411a8b25ff31ae",
   "metadata": {
    "ExecuteTime": {
     "end_time": "2024-03-30T20:56:36.339375100Z",
     "start_time": "2024-03-30T20:56:30.126855900Z"
    },
    "collapsed": false
   },
   "outputs": [],
   "source": [
    "for i in bus_routes.edges(data=True):\n",
    "    i[2]['geometry'] = from_wkt(str(i[2]['geometry']))\n",
    "bus_routes.graph['crs'] = city_crs\n",
    "gdf_graph_edges = ox.graph_to_gdfs(nx.MultiDiGraph(bus_routes), nodes=False)\n",
    "gdf_graph_edges.to_file('bus_LO.geojson')"
   ]
  },
  {
   "cell_type": "code",
   "execution_count": null,
   "id": "357c8a41e9ca4d7a",
   "metadata": {
    "ExecuteTime": {
     "end_time": "2024-03-30T20:56:24.924221900Z",
     "start_time": "2024-03-30T20:56:22.190967100Z"
    },
    "collapsed": false
   },
   "outputs": [],
   "source": [
    "for i in bus_routes.edges(data=True):\n",
    "    i[2]['geometry'] = (str(i[2]['geometry']))\n",
    "nx.write_graphml(bus_routes, 'bus_LO.graphml')"
   ]
  },
  {
   "cell_type": "code",
   "execution_count": null,
   "id": "c1c9554fa4f4c008",
   "metadata": {
    "collapsed": false
   },
   "outputs": [],
   "source": [
    "# test = nx.DiGraph(drive_graph)\n",
    "# print(test.get_edge_data(68414, 70235))\n",
    "drive_graph['202466']"
   ]
  },
  {
   "cell_type": "code",
   "execution_count": null,
   "id": "39f701e4b0a357ab",
   "metadata": {
    "collapsed": false
   },
   "outputs": [],
   "source": []
  }
 ],
 "metadata": {
  "kernelspec": {
   "display_name": "Python 3",
   "language": "python",
   "name": "python3"
  },
  "language_info": {
   "codemirror_mode": {
    "name": "ipython",
    "version": 3
   },
   "file_extension": ".py",
   "mimetype": "text/x-python",
   "name": "python",
   "nbconvert_exporter": "python",
   "pygments_lexer": "ipython3",
   "version": "3.12.3"
  }
 },
 "nbformat": 4,
 "nbformat_minor": 5
}
